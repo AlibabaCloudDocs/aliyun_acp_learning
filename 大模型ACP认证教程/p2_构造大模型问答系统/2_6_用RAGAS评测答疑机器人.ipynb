{
 "cells": [
  {
   "cell_type": "markdown",
   "id": "39f10553-d93f-496b-a5c1-7e224fbb7f0f",
   "metadata": {},
   "source": [
    "# 2.6. 用RAGAS评测答疑机器人\n",
    "\n",
    "## 🚄 前言\n",
    "\n",
    "新人答疑机器人在实际使用中可能会有一些问题，比如提供不准确的答案，答非所问。\n",
    "\n",
    "例如，当新人提问“如何请假”时，机器人可能给出通用的回答，而不是基于制度文件内容进行回答。你意识到需要对RAG应用进行优化。\n",
    "\n",
    "优化前，你首先需要找到优化的方向是哪里，即RAG应用还有哪些地方做得不够好。是没有召回合适的文本段，还是在召回正确文本段基础上生成了不正确的内容？也许五条左右的数据你还可以通过人工排查的方法确定问题，但是当数据量变大之后，人工方法就变得困难。\n",
    "\n",
    "Ragas可以从多个维度对你的RAG应用进行评测。\n",
    "你只需要准备好问题（question）、RAG应用生成的答案（answer）、RAG应用召回的文本段（contexts）以及问题对应的正确答案（ground_truth），便可以通过大模型和Embedding 模型自动化地、多维度地对RAG应用进行打分。在获取到分数之后，你就可以更有针对性地从RAG应用得分较低的维度进行优化了。\n",
    "\n",
    "## 🍁 课程目标\n",
    "学完本课程后，你将能够：<br>\n",
    "- 了解RAGAS常见指标的含义； \n",
    "- 掌握通过RAGAS进行RAG应用评测的方法。\n",
    "\n",
    "<div margin=\"40px\">\n",
    "<img src=\"https://img.alicdn.com/imgextra/i4/O1CN01b2lVQp21JZCJy6Nfe_!!6000000006964-0-tps-739-420.jpg\" width=\"500\">\n",
    "</div>\n",
    "\n",
    "## 📖 课程目录\n",
    "\n",
    "- [1. 计算环境准备](#💻-1-计算环境准备)\n",
    "- [2. 评测数据准备](#🧬-2-评测数据准备)\n",
    "- [3. 导入百炼大模型与embedding模型](#🤖-3-导入百炼大模型与embedding模型)\n",
    "- [4. 各评测指标介绍](#📊-4-各评测指标介绍)\n",
    "    - [4.1. answer_relevancy](#41-answer_relevancy)\n",
    "    - [4.2. faithfulness](#42-faithfulness)\n",
    "    - [4.3. context_recall](#43-context_recall)\n",
    "    - [4.4. context_precision](#44-context_precision)\n",
    "    - [4.5. answer_correctness](#45-answer_correctness)\n",
    "- [5. 使用多个指标同时评测](#📝-5-使用多个指标同时评测)\n",
    "\n",
    "\n",
    "## 💻 1. 计算环境准备\n",
    "\n",
    "### 🔧 安装依赖"
   ]
  },
  {
   "cell_type": "code",
   "execution_count": null,
   "id": "71ee6d07-6812-4a3c-bb34-caea3d1697f4",
   "metadata": {
    "scrolled": true
   },
   "outputs": [],
   "source": [
    "! pip install -r requirements.txt"
   ]
  },
  {
   "cell_type": "markdown",
   "id": "6a4159fe-0098-491a-ad46-07531fdaeb98",
   "metadata": {},
   "source": [
    "### ➕ 导入依赖"
   ]
  },
  {
   "cell_type": "code",
   "execution_count": 1,
   "id": "39de247b-2adb-4ac8-b0c1-6c3f105fc892",
   "metadata": {},
   "outputs": [
    {
     "name": "stderr",
     "output_type": "stream",
     "text": [
      "/Users/liupeter/Library/Python/3.9/lib/python/site-packages/urllib3/__init__.py:35: NotOpenSSLWarning: urllib3 v2 only supports OpenSSL 1.1.1+, currently the 'ssl' module is compiled with 'LibreSSL 2.8.3'. See: https://github.com/urllib3/urllib3/issues/3020\n",
      "  warnings.warn(\n"
     ]
    }
   ],
   "source": [
    "import os\n",
    "import getpass\n",
    "from langchain_community.llms.tongyi import Tongyi\n",
    "from langchain_community.embeddings import DashScopeEmbeddings\n",
    "from datasets import Dataset \n",
    "from ragas import evaluate\n",
    "from ragas.metrics import faithfulness,answer_relevancy,context_recall,context_precision,answer_correctness\n",
    "import pandas as pd"
   ]
  },
  {
   "cell_type": "markdown",
   "id": "cd5fdab3-d566-4620-947c-6e5d44a06e44",
   "metadata": {},
   "source": [
    "### ⚙️ 设置环境变量"
   ]
  },
  {
   "cell_type": "code",
   "execution_count": null,
   "id": "654112b4-816c-45c3-a219-b7ed2e465b9a",
   "metadata": {},
   "outputs": [],
   "source": [
    "import sys\n",
    "sys.path.append(\"../\")\n",
    "from config.load_key import load_key\n",
    "load_key()\n",
    "print(os.environ[\"DASHSCOPE_API_KEY\"])"
   ]
  },
  {
   "cell_type": "markdown",
   "id": "ea0437e1-8ebd-4ab4-9e07-dc0c9c82f84c",
   "metadata": {},
   "source": [
    "## 🧬 2. 评测数据准备\n",
    "要进行RAGAS评测，你需要准备四种数据，分别是：\n",
    "1. 问题（question）\n",
    "2. RAG应用生成的答案（answer）\n",
    "3. RAG应用召回的文本段（contexts）\n",
    "4. 问题对应的正确答案（ground_truth）\n",
    "\n",
    "其中：question与answer都比较容易获得，ground_truth可以通过人工或性能强大的大模型达标；如果RAG应用是你自己搭建的，那么获取contexts也比较容易。\n",
    "\n",
    "如果你使用的是百炼控制台创建的[RAG应用](https://bailian.console.aliyun.com/#/app-center)，可以参考以下代码获取contexts：\n",
    "\n",
    "> 注意：你需要通过百炼创建应用，并替换如下的 ```app_id='xxx'```"
   ]
  },
  {
   "cell_type": "code",
   "execution_count": null,
   "id": "98ffa0b0-2ea6-4f8e-bdb9-a8201dba5ff8",
   "metadata": {},
   "outputs": [],
   "source": [
    "from dashscope import Application\n",
    "\n",
    "response = Application.call(\n",
    "    app_id='xxx',\n",
    "    prompt='有什么手机',\n",
    "    # 在调用时设置has_thoughts为True，就可以在返回找到contexts内容\n",
    "    has_thoughts = True\n",
    "    )\n",
    "response.output.thoughts"
   ]
  },
  {
   "cell_type": "markdown",
   "id": "e2b096c9-da06-4679-a602-dc8346c25cf0",
   "metadata": {},
   "source": [
    "## 🤖 3. 导入百炼大模型与embedding模型\n",
    "\n",
    "ragas默认使用的是openai的llm和embedding模型，我们更换为qwen系列模型。现在qwen模型性能比较强劲的有qwen-max-latest与qwen-plus-latest。\n",
    "\n",
    "### 3.1. 大模型\n",
    "\n",
    "你可以用langchain封装好的Tongyi类直接实例化一个llm对象。"
   ]
  },
  {
   "cell_type": "code",
   "execution_count": 6,
   "id": "fff5887b-aff8-4d7a-b8cb-f49cf0f64ee5",
   "metadata": {},
   "outputs": [
    {
     "data": {
      "text/plain": [
       "'你好！有什么可以帮助你的吗？'"
      ]
     },
     "execution_count": 6,
     "metadata": {},
     "output_type": "execute_result"
    }
   ],
   "source": [
    "llm = Tongyi(model_name=\"qwen-plus-latest\")\n",
    "llm.invoke(\"你好\")"
   ]
  },
  {
   "cell_type": "markdown",
   "id": "df740010-ad45-4682-98e7-efa64b8edba1",
   "metadata": {},
   "source": [
    "也可以用自定义的API创建llm，这种方法的优势是可以自由定制，比如可以看到输入与输出的中间结果，在ragas评测时可以溯源打出分数的原因。\n",
    "自定义创建llm方法请参考utils文件夹中的custom_llm.py。"
   ]
  },
  {
   "cell_type": "code",
   "execution_count": null,
   "id": "1044d2d1-47c0-4d4e-9d53-386ae2eb9844",
   "metadata": {},
   "outputs": [],
   "source": [
    "from utils.custom_llm import CustomLLM\n",
    "llm = CustomLLM()\n",
    "llm.invoke(\"你好\")"
   ]
  },
  {
   "cell_type": "markdown",
   "id": "b1a0bb2f-a68a-4a4b-a33f-8ed594568c09",
   "metadata": {},
   "source": [
    "### 3.2. 直接用langchain封装好的DashScopeEmbeddings类"
   ]
  },
  {
   "cell_type": "code",
   "execution_count": null,
   "id": "1b05c828-2890-4034-a9b8-c885771c6870",
   "metadata": {},
   "outputs": [],
   "source": [
    "embedding = DashScopeEmbeddings(model=\"text-embedding-v3\")\n",
    "embedding.embed_query(\"你好\")[:10]"
   ]
  },
  {
   "cell_type": "markdown",
   "id": "3a3df06a-06da-4f43-9924-6ce11e7e1153",
   "metadata": {
    "tags": []
   },
   "source": [
    "##  📊 4. 各评测指标介绍\n",
    "\n",
    "### 4.1. answer_relevancy\n",
    "\n",
    "#### 概念与计算方法\n",
    "\n",
    "该指标用于评估answer与给定question的相关性。需要传入question、answer、contexts。评测需要使用大模型与embedding模型。\n",
    "\n",
    "相关性的通俗含义为：answer是否是对question的回应，如果答非所问，那么相关性会降低。\n",
    "\n",
    "计算过程如下：\n",
    "\n",
    "1.  如果大模型判断answer是“不置可否”的，则answer_relevancy直接为0。“不置可否”的含义是：回避、模糊或模棱两可的答案。例如，“我不知道”或“我不确定”。如果answer不是“不置可否”的，则进行以下运算：\n",
    "    \n",
    "2.  由大模型对answer反向生成n（默认为3）个问题gen_query<sub>i</sub> ，通过embedding模型，计算gen_query<sub>i</sub> 与原始问题的相似度，并求均值。这个均值就是answer_relevancy。"
   ]
  },
  {
   "cell_type": "markdown",
   "id": "90fb3865-f657-444d-af70-cfc557fd0c56",
   "metadata": {},
   "source": [
    "#### 实现代码"
   ]
  },
  {
   "cell_type": "code",
   "execution_count": null,
   "id": "a0a5b223-35b3-4d1f-afc0-438bfdae4bea",
   "metadata": {
    "scrolled": true
   },
   "outputs": [],
   "source": [
    "data_samples = {\n",
    "    \"question\": [\"第一届超级碗是什么时候？\", \"赢得超级碗最多的球队是谁？\"],\n",
    "    \"answer\": [\"第一届超级碗于1967年1月15日举行\", \"我也不知道，但可能是新英格兰爱国者。\"],\n",
    "    \"contexts\": [\n",
    "        [\"第一届 AFL–NFL 世界冠军赛是一场美式足球比赛，于1967年1月15日在洛杉矶的洛杉矶纪念体育馆举行。\"],\n",
    "        [\"新英格兰爱国者和匹兹堡钢人并列最多。\", \"爱国者和钢人均赢得6次超级碗。\"]\n",
    "    ]\n",
    "}\n",
    "\n",
    "dataset = Dataset.from_dict(data_samples)\n",
    "score = evaluate(\n",
    "    dataset = dataset,\n",
    "    metrics=[answer_relevancy],\n",
    "    llm=llm,\n",
    "    embeddings=embedding\n",
    ")\n",
    "score.to_pandas()"
   ]
  },
  {
   "cell_type": "markdown",
   "id": "69242272-acb1-4bca-9b77-d9d828b09740",
   "metadata": {},
   "source": [
    "我们可以看到，提示词里有大量的英文，这对于中文问答场景是不友好的。我们可以进行一些更改，将prompt适配到中文。\n",
    "\n",
    "#### 适配到新的prompt\n",
    "\n",
    "> 中文提示词请前往ragas_prompt文件夹下的chinese_prompt进行查看。"
   ]
  },
  {
   "cell_type": "code",
   "execution_count": null,
   "id": "319fe8b4-8dea-4f77-b16f-6538153b2c0a",
   "metadata": {},
   "outputs": [],
   "source": [
    "from ragas_prompt.chinese_prompt import AnswerRelavency\n",
    "answer_relevancy.question_generation.instruction = AnswerRelavency.question_generation_prompt[\"instruction\"]\n",
    "answer_relevancy.question_generation.output_format_instruction = AnswerRelavency.question_generation_prompt[\"output_format_instruction\"]\n",
    "answer_relevancy.question_generation.examples = AnswerRelavency.question_generation_prompt[\"examples\"]\n",
    "answer_relevancy"
   ]
  },
  {
   "cell_type": "markdown",
   "id": "cd17a222-7e22-482f-b840-344602775ac7",
   "metadata": {},
   "source": [
    "适配后进行ragas评测"
   ]
  },
  {
   "cell_type": "code",
   "execution_count": null,
   "id": "caf76dd3-cccf-4727-9f91-ab6f248b233a",
   "metadata": {
    "scrolled": true
   },
   "outputs": [],
   "source": [
    "data_samples = {\n",
    "    \"question\": [\"第一届超级碗是什么时候？\", \"赢得超级碗最多的球队是谁？\"],\n",
    "    \"answer\": [\"第一届超级碗于1967年1月15日举行\", \"我也不知道，但可能是新英格兰爱国者。\"],\n",
    "    \"contexts\": [\n",
    "        [\"第一届 AFL–NFL 世界冠军赛是一场美式足球比赛，于1967年1月15日在洛杉矶的洛杉矶纪念体育馆举行。\"],\n",
    "        [\"新英格兰爱国者和匹兹堡钢人并列最多。\", \"爱国者和钢人均赢得6次超级碗。\"]\n",
    "    ]\n",
    "}\n",
    "\n",
    "dataset = Dataset.from_dict(data_samples)\n",
    "score = evaluate(\n",
    "    dataset = dataset,\n",
    "    metrics=[answer_relevancy],\n",
    "    llm=llm,\n",
    "    embeddings=embedding\n",
    ")\n",
    "score.to_pandas()"
   ]
  },
  {
   "cell_type": "markdown",
   "id": "5b2d645d-828e-49b1-a1ba-0cb77fd21ba4",
   "metadata": {},
   "source": [
    "我们可以看到，第一个数据answer_relevancy接近1，第二个数据answer_relevancy为0。\n",
    "\n",
    "我们通过人工查看一下，这个分数是否合理：\n",
    "\n",
    "第一届超级碗于1967年1月15日举行 这个答案是对问题：第一届超级碗是什么时候？的回应，因此分数较高；\n",
    "\n",
    "我也不知道，但可能是新英格兰爱国者。 这个答案，符合“不置可否”的定义，因此分数为0。"
   ]
  },
  {
   "cell_type": "markdown",
   "id": "a0f8f3ed-7022-4952-a1ec-306d0690e347",
   "metadata": {},
   "source": [
    "### 4.2. faithfulness\n",
    "\n",
    "#### 概念与计算方法\n",
    "该指标衡量了answer与contexts的**事实一致性**。需要question、answer、contexts。评测需要使用到大模型。\n",
    "\n",
    "事实一致性的通俗含义为：RAG应用生成的答案是否遵从召回文本段的内容。如果召回文本段的内容是：“小明喜欢吃米饭”，但是RAG生成的答案为：“小明不喜欢吃米饭”，那么这个答案的faithfulness值会降低。\n",
    "\n",
    "计算过程如下：\n",
    "\n",
    "1.  由大模型将answer分解成n个陈述statements<sub>i</sub>。比如answer为：“小明不喜欢吃米饭，喜欢吃面条。”那么大模型可能分解的第一个陈述为：“小明不喜欢吃米饭。”；可能分解的第一个陈述为：“小明喜欢吃面条。”\n",
    "    \n",
    "2.  由大模型判断每个statements<sub>i</sub> 能否被contexts推断，并计算能被推断的statements<sub>i</sub> 占总陈述个数的比例，作为faithfulness分数\n",
    "\n",
    "> 由于ragas的开发人员多使用英语语种，因此为了适配到中文语境，需要做一些调整。找到ragas源码：ragas/metrics/_faithfulness.py中寻找：statements_str: str = json.dumps(statements)，将其改为：statements_str: str = json.dumps(statements,ensure_ascii=False)\n",
    "\n",
    "\n",
    "#### 实现代码\n"
   ]
  },
  {
   "cell_type": "code",
   "execution_count": null,
   "id": "2f964f45-e5b2-472a-b86a-9469beb462ef",
   "metadata": {
    "scrolled": true
   },
   "outputs": [],
   "source": [
    "data_samples = {\n",
    "    \"question\": [\"第一届超级碗是什么时候？\", \"赢得超级碗最多的球队是谁？\"],\n",
    "    \"answer\": [\"第一届超级碗于1967年1月15日举行\", \"赢得超级碗最多的球队是新英格兰爱国者\"],\n",
    "    \"contexts\": [\n",
    "        [\"第一届 AFL–NFL 世界冠军赛是一场美式足球比赛，于1967年1月15日在洛杉矶的洛杉矶纪念体育馆举行。\"],\n",
    "        [\"绿湾包装工队...威斯康星州绿湾。\", \"包装工队参加...足球联盟\"]\n",
    "    ]\n",
    "}\n",
    "\n",
    "dataset = Dataset.from_dict(data_samples)\n",
    "score = evaluate(\n",
    "    dataset = dataset,\n",
    "    metrics=[faithfulness],\n",
    "    llm=llm)\n",
    "score.to_pandas()"
   ]
  },
  {
   "cell_type": "markdown",
   "id": "31adc779-c31a-47b9-9e27-8afe6379dc1a",
   "metadata": {},
   "source": [
    "#### 适配到新的prompt"
   ]
  },
  {
   "cell_type": "code",
   "execution_count": null,
   "id": "f3908991-de33-40b2-9867-f6281e11590d",
   "metadata": {},
   "outputs": [],
   "source": [
    "from ragas_prompt.chinese_prompt import Faithfulness\n",
    "\n",
    "faithfulness.nli_statements_message.instruction = Faithfulness.nli_statements_message_prompt[\"instruction\"]\n",
    "faithfulness.nli_statements_message.output_format_instruction = Faithfulness.nli_statements_message_prompt[\"output_format_instruction\"]\n",
    "faithfulness.nli_statements_message.examples = Faithfulness.nli_statements_message_prompt[\"examples\"]\n",
    "faithfulness.statement_prompt.instruction = Faithfulness.statement_prompt[\"instruction\"]\n",
    "faithfulness.statement_prompt.output_format_instruction = Faithfulness.statement_prompt[\"output_format_instruction\"]\n",
    "faithfulness.statement_prompt.examples = Faithfulness.statement_prompt[\"examples\"]\n",
    "faithfulness"
   ]
  },
  {
   "cell_type": "code",
   "execution_count": null,
   "id": "a87eb599-2ecf-441f-b094-9a57fe9643e3",
   "metadata": {
    "scrolled": true
   },
   "outputs": [],
   "source": [
    "data_samples = {\n",
    "    'question': ['第一届超级碗是什么时候？', '谁赢得了最多的超级碗？'],\n",
    "    'answer': ['第一届超级碗于1967年1月15日举行', '新英格兰爱国者队赢得了最多的超级碗'],\n",
    "    'contexts' : [['第一届 AFL–NFL 世界锦标赛是一场美式足球比赛，于1967年1月15日在洛杉矶纪念体育场举行，'],\n",
    "    ['绿湾包装工队...位于威斯康星州绿湾市。', '包装工队参加...足球联盟']],\n",
    "}\n",
    "\n",
    "dataset = Dataset.from_dict(data_samples)\n",
    "score = evaluate(\n",
    "    dataset = dataset,\n",
    "    metrics=[faithfulness],\n",
    "    llm=llm)\n",
    "score.to_pandas()"
   ]
  },
  {
   "cell_type": "markdown",
   "id": "9feffe45-8627-4b79-8c82-49090c199814",
   "metadata": {},
   "source": [
    "我们可以看到，第一个数据faithfulness为1，第二个数据faithfulness为0。\n",
    "\n",
    "我们通过人工查看一下，这个分数是否合理：\n",
    "\n",
    "1. 第一届超级碗于1967年1月15日举行 这个答案可以从“第一届 AFL–NFL 世界锦标赛是一场美式足球比赛，于1967年1月15日在洛杉矶纪念体育场举行，”中获取，因此faithfulness分数判定为1；\n",
    "2. 新英格兰爱国者队赢得了最多的超级碗 这个答案，无法在contexts中找到对应资料，因此faithfulness分数判定为0。\n",
    "> 你也可以从打印的日志中查看reason字段，了解大模型打分的依据。"
   ]
  },
  {
   "cell_type": "markdown",
   "id": "ba15d43d-14e6-4f09-b44e-af804564fba1",
   "metadata": {},
   "source": [
    "### 4.3. context_recall\n",
    "\n",
    "#### 概念与计算方法\n",
    "\n",
    "该指标衡量contexts与ground_truth的一致程度。需要传入question、answer、contexts、ground_truth。评测需要大模型。\n",
    "\n",
    "该一致程度的含义为：召回的文本段是否能够支撑ground_truth，评估的是检索阶段的效果。\n",
    "\n",
    "计算过程：\n",
    "\n",
    "1.  由大模型将ground_truth分解成n个陈述statements<sub>i</sub>；\n",
    "    \n",
    "2.  由大模型判断每个statements<sub>i</sub> 能否被contexts推断，并计算能被推断的statements<sub>i</sub> 占总陈述个数的比例，作为context_recall分数。\n",
    "\n",
    "\n",
    "#### 实现代码"
   ]
  },
  {
   "cell_type": "code",
   "execution_count": null,
   "id": "869bbe86-9371-4017-ae5e-6cd606b7f337",
   "metadata": {
    "scrolled": true
   },
   "outputs": [],
   "source": [
    "data_samples = {\n",
    "    'question': ['第一届超级碗是什么时候？', '谁赢得了最多的超级碗？'],\n",
    "    'answer': ['第一届超级碗于1967年1月15日举行', '新英格兰爱国者队赢得了最多的超级碗'],\n",
    "    'contexts' : [['第一届 AFL–NFL 世界锦标赛是一场美式足球比赛，于1967年1月15日在洛杉矶纪念体育场举行，'],\n",
    "    ['绿湾包装工队...位于威斯康星州绿湾市。', '包装工队参加...足球联盟']],\n",
    "    'ground_truth':['第一届超级碗是在1967年1月15日举行的。','截至2023年，匹兹堡钢人队（Pittsburgh Steelers）和新英格兰爱国者队（New England Patriots）各赢得了六次超级碗冠军，是赢得超级碗次数最多的两支球队。']\n",
    "}\n",
    "\n",
    "dataset = Dataset.from_dict(data_samples)\n",
    "score = evaluate(\n",
    "    dataset = dataset,\n",
    "    metrics=[context_recall],\n",
    "    llm=llm)\n",
    "score.to_pandas()"
   ]
  },
  {
   "cell_type": "markdown",
   "id": "b56e8fe0-6b86-4540-a592-1781c5d800e7",
   "metadata": {},
   "source": [
    "#### 适配到新的prompt"
   ]
  },
  {
   "cell_type": "code",
   "execution_count": null,
   "id": "61e033de-cea8-4552-8cee-23588252f4c7",
   "metadata": {},
   "outputs": [],
   "source": [
    "from ragas_prompt.chinese_prompt import ContextRecall\n",
    "context_recall.context_recall_prompt.instruction = ContextRecall.context_recall_prompt[\"instruction\"]\n",
    "context_recall.context_recall_prompt.output_format_instruction = ContextRecall.context_recall_prompt[\"output_format_instruction\"]\n",
    "context_recall.context_recall_prompt.examples = ContextRecall.context_recall_prompt[\"examples\"]\n",
    "context_recall"
   ]
  },
  {
   "cell_type": "code",
   "execution_count": null,
   "id": "f1d27923-38ea-4fdf-98cf-c8b0e70665b1",
   "metadata": {
    "scrolled": true
   },
   "outputs": [],
   "source": [
    "data_samples = {\n",
    "    'question': ['第一届超级碗是什么时候？', '谁赢得了最多的超级碗？'],\n",
    "    'answer': ['第一届超级碗于1967年1月15日举行', '新英格兰爱国者队赢得了最多的超级碗'],\n",
    "    'contexts' : [['第一届 AFL–NFL 世界锦标赛是一场美式足球比赛，于1967年1月15日在洛杉矶纪念体育场举行，'],\n",
    "    ['绿湾包装工队...位于威斯康星州绿湾市。', '包装工队参加...足球联盟']],\n",
    "    'ground_truth':['第一届超级碗是在1967年1月15日举行的。','截至2023年，匹兹堡钢人队（Pittsburgh Steelers）和新英格兰爱国者队（New England Patriots）各赢得了六次超级碗冠军，是赢得超级碗次数最多的两支球队。']\n",
    "}\n",
    "\n",
    "dataset = Dataset.from_dict(data_samples)\n",
    "score = evaluate(\n",
    "    dataset = dataset,\n",
    "    metrics=[context_recall],\n",
    "    llm=llm)\n",
    "score.to_pandas()"
   ]
  },
  {
   "cell_type": "markdown",
   "id": "1d33b437-5b7e-49b3-a2f4-608e9db8415b",
   "metadata": {},
   "source": [
    "我们可以看到，第一个数据context_recall为1，第二个数据context_recall为0。\n",
    "\n",
    "我们通过人工查看一下，这个分数是否合理：\n",
    "\n",
    "“第一届 AFL–NFL 世界锦标赛是一场美式足球比赛，于1967年1月15日在洛杉矶纪念体育场举行，”这个context可以支撑“第一届超级碗是在1967年1月15日举行的。”这个ground_truth，因此分数为1；\n",
    "\n",
    "“绿湾包装工队...位于威斯康星州绿湾市。', '包装工队参加...足球联盟”这个context无法支撑“截至2023年，匹兹堡钢人队（Pittsburgh Steelers）和新英格兰爱国者队（New England Patriots）各赢得了六次超级碗冠军，是赢得超级碗次数最多的两支球队。”这个ground_truth，因此分数为0。\n",
    "\n",
    "你也可以从打印的日志中查看reason字段，了解大模型打分的依据。"
   ]
  },
  {
   "cell_type": "markdown",
   "id": "137e5d4f-915c-4299-abca-8e14e9133a22",
   "metadata": {
    "tags": []
   },
   "source": [
    "### 4.4. context_precision\n",
    "\n",
    "#### 概念与计算方法\n",
    "\n",
    "该指标用于评估contexts中存在的所有真实相关项是否排名较高。需要传入question、contexts、ground_truth，评测需要大模型。\n",
    "\n",
    "大模型在生成时可能会更关注排名靠前的文本段。该指标的通俗含义为：在召回的所有contexts中，与ground_truth相关的context是否排名较高。\n",
    "\n",
    "计算过程：\n",
    "\n",
    "1.  按顺序读取contexts中的context<sub>i</sub> ，根据question与ground_truth，判断该context<sub>i</sub> 是否相关。如果相关，则该项对应的相关分数relative_score<sub>i</sub>为1，否则为0。\n",
    "2.  计算每一个context<sub>i</sub> 的分数：分子为前i项relative_score<sub>i</sub>的和，分母为context<sub>i</sub>所处的排位。\n",
    "3.  将所有context<sub>i</sub> 所得分数相加，作为context_precision分数的分子；分母为相关的context<sub>i</sub> 个数。\n",
    "    \n",
    "<!-- <img src=\"https://alidocs.oss-cn-zhangjiakou.aliyuncs.com/res/ybEnBBXZ6LoPnP13/img/be18e672-edc6-44f6-8136-737f1c057173.png\" alt=\"Alt text\" width=\"500\"/> -->\n",
    "\n",
    "<!-- ![image](https://alidocs.oss-cn-zhangjiakou.aliyuncs.com/res/ybEnBBXZ6LoPnP13/img/be18e672-edc6-44f6-8136-737f1c057173.png) -->\n",
    "\n",
    "计算举例，假设已完成计算过程的第一步：contexts列表中以1代表相关，0代表不相关。\n",
    "\n",
    "*   [1,0,0] 计算方法为：[（1/1）+（0/2）+（0/3）]/ 1 = 1\n",
    "    \n",
    "*   [0,1,1] 计算方法为：[（0/1）+（1/2）+（2/3）]/ 2 = 7/12\n",
    "\n",
    "我们可以看到，第一个例子中，尽管3个contexts中只有一个context是相关的，但是分数为1，因为它把相关的context放在了第一位；第二个例子中，尽管3个contexts中有两个context是相关的，但是分数依然低于第一个例子中的分数，因为它把不相关的context放在了第一位。\n",
    "\n",
    "#### 实现代码"
   ]
  },
  {
   "cell_type": "code",
   "execution_count": null,
   "id": "06f81426-630a-4c63-840f-40c28996e4e3",
   "metadata": {
    "scrolled": true
   },
   "outputs": [],
   "source": [
    "data_samples = {\n",
    "    'question': ['第一届超级碗是什么时候？', '谁赢得了最多的超级碗？'],\n",
    "    'contexts' : [['爱因斯坦于1895年搬到了瑞士。','第一届 AFL–NFL 世界锦标赛是一场美式足球比赛，于1967年1月15日在洛杉矶纪念体育场举行，'],\n",
    "    ['匹兹堡钢人队（Pittsburgh Steelers）和新英格兰爱国者队（New England Patriots）赢得最多超级碗。', '匹兹堡钢人队（Pittsburgh Steelers）和新英格兰爱国者队（New England Patriots）各赢得了六次超级碗冠军']],\n",
    "    'ground_truth':['第一届超级碗是在1967年1月15日举行的。','截至2023年，匹兹堡钢人队（Pittsburgh Steelers）和新英格兰爱国者队（New England Patriots）各赢得了六次超级碗冠军，是赢得超级碗次数最多的两支球队。']\n",
    "}\n",
    "\n",
    "dataset = Dataset.from_dict(data_samples)\n",
    "score = evaluate(\n",
    "    dataset = dataset,\n",
    "    metrics=[context_precision],\n",
    "    llm=llm)\n",
    "score.to_pandas()"
   ]
  },
  {
   "cell_type": "markdown",
   "id": "1cc67b26-c018-4c42-81e2-0dbfba5dc157",
   "metadata": {},
   "source": [
    "#### 适配到新的prompt"
   ]
  },
  {
   "cell_type": "code",
   "execution_count": null,
   "id": "f0ecb99b-19f7-4fd5-bc72-3301bd878b21",
   "metadata": {},
   "outputs": [],
   "source": [
    "from ragas_prompt.chinese_prompt import ContextPrecision\n",
    "context_precision.context_precision_prompt.instruction = ContextPrecision.context_precision_prompt[\"instruction\"]\n",
    "context_precision.context_precision_prompt.output_format_instruction = ContextPrecision.context_precision_prompt[\"output_format_instruction\"]\n",
    "context_precision.context_precision_prompt.examples = ContextPrecision.context_precision_prompt[\"examples\"]\n",
    "context_precision"
   ]
  },
  {
   "cell_type": "code",
   "execution_count": null,
   "id": "7ec7ebe0-d358-4953-828b-b27db886e7ba",
   "metadata": {
    "scrolled": true
   },
   "outputs": [],
   "source": [
    "data_samples = {\n",
    "    'question': ['第一届超级碗是什么时候？', '谁赢得了最多的超级碗？'],\n",
    "    'answer': ['第一届超级碗于1967年1月15日举行', '新英格兰爱国者队赢得了最多的超级碗'],\n",
    "    'contexts' : [['爱因斯坦于1895年搬到了瑞士。','第一届 AFL–NFL 世界锦标赛是一场美式足球比赛，于1967年1月15日在洛杉矶纪念体育场举行，'],\n",
    "    ['匹兹堡钢人队（Pittsburgh Steelers）和新英格兰爱国者队（New England Patriots）赢得最多超级碗。', '匹兹堡钢人队（Pittsburgh Steelers）和新英格兰爱国者队（New England Patriots）各赢得了六次超级碗冠军']],\n",
    "    'ground_truth':['第一届超级碗是在1967年1月15日举行的。','截至2023年，匹兹堡钢人队（Pittsburgh Steelers）和新英格兰爱国者队（New England Patriots）各赢得了六次超级碗冠军，是赢得超级碗次数最多的两支球队。']\n",
    "}\n",
    "\n",
    "dataset = Dataset.from_dict(data_samples)\n",
    "score = evaluate(\n",
    "    dataset = dataset,\n",
    "    metrics=[context_precision],\n",
    "    llm=llm)\n",
    "score.to_pandas()"
   ]
  },
  {
   "cell_type": "markdown",
   "id": "ae55ba62-8770-4a47-9115-d1d4e4e435ed",
   "metadata": {},
   "source": [
    "我们可以看到，第一个数据context_precision为0.5，第二个数据context_precision为1。\n",
    "\n",
    "我们通过人工查看一下，这个分数是否合理：\n",
    "\n",
    "1. 第一个context是讲述爱因斯坦的生平，这与question与ground_truth无关；第二个context有关。计算[0,1]的分数为：[(0/1)+(1/2)]/2 = 1/2\n",
    "2. 这两个context都与question与ground_truth相关。计算[1,1]的分数为：[(1/1)+(2/2)]/2 = 1\n",
    "\n",
    "这与运行程序打分的结果一致。\n",
    "\n",
    "你也可以从打印的日志中查看reason字段，了解大模型打分的依据。"
   ]
  },
  {
   "cell_type": "markdown",
   "id": "0c2b37e2-e3ac-4170-8414-5197055f184a",
   "metadata": {
    "execution": {
     "iopub.execute_input": "2024-09-20T07:18:26.373180Z",
     "iopub.status.busy": "2024-09-20T07:18:26.372851Z",
     "iopub.status.idle": "2024-09-20T07:18:26.380564Z",
     "shell.execute_reply": "2024-09-20T07:18:26.379954Z",
     "shell.execute_reply.started": "2024-09-20T07:18:26.373161Z"
    }
   },
   "source": [
    "### 4.5. answer_correctness\n",
    "\n",
    "#### 概念与计算方法\n",
    "\n",
    "该指标评估回答的准确性。包括事实准确性（f1 score）与语义相似度（similarity score）。需要传入question、answer、ground_truth，需要大模型与embedding模型。\n",
    "\n",
    "该分数可作为端到端的指标，评估RAG应用的整体效果。\n",
    "\n",
    "<!-- 评估回答的准确性。包括事实准确性（f1 score）与语义相似度（similarity score），加权相加，默认是3:1。语义相似度用embedding模型计算，比较二者向量的余弦相似度。需要answer、ground_truth -->\n",
    "事实准确性（使用f1 score）计算过程：\n",
    "\n",
    "1.  通过大模型将answer、ground_truth分别生成各自的陈述列表。比如：  \n",
    "    **answer**:爱因斯坦于 1879 年出生于西班牙 ---> [\"爱因斯坦1879年出生\",\"爱因斯坦出生于西班牙\"]  \n",
    "    **ground_truth**：爱因斯坦 1879 年出生于德国。---> [\"爱因斯坦1879年出生\",\"爱因斯坦出生于德国\"]\n",
    "    \n",
    "2.  遍历answer与ground_truth列表，并初始化三个列表，TP、FP与FN；  \n",
    "    对于**answer**列表中的陈述来说：如果该陈述**可以**被ground_truth支持，则将该陈述添加到TP列表中；如果该陈述**不可以**被ground_truth支持，则将该陈述添加到FP列表中；  \n",
    "    对于**ground_truth**列表中的陈述来说：如果该陈述**不可以**被answer支持，则将该陈述添加到FN列表中；  \n",
    "    举例：TP：\\[\"爱因斯坦1879年出生\"\\]，FP：\\[\"爱因斯坦出生于西班牙\"\\]，FN：\\[\"爱因斯坦出生于德国\"\\]  \n",
    "    <!-- ![image](https://alidocs.oss-cn-zhangjiakou.aliyuncs.com/res/ybEnBBXZ6LoPnP13/img/86c4839b-bd48-4faf-9842-c42599181339.png) -->\n",
    "    \n",
    "3.  统计TP、FP与FN列表的元素个数，并按照以下方式计算f1 score分数：\n",
    "    \n",
    "\n",
    "```shell\n",
    "f1 score = tp / (tp + 0.5 * (fp + fn)) if tp > 0 else 0\n",
    "```\n",
    "\n",
    "以上文为例：f1 score = 1/(1+0.5\\*(1+1)) = 0.5\n",
    "\n",
    "得到了f1 score，以及通过embedding模型计算的answer与ground_truth的相似度（similarity），使用以下方式计算answer_correctness：\n",
    "\n",
    "$answercorrectness=w1*f1 score+w2*similarity$\n",
    "\n",
    "其中w1和w2相加为1，默认为0.75和0.25\n",
    "\n",
    "#### 实现代码"
   ]
  },
  {
   "cell_type": "code",
   "execution_count": null,
   "id": "707ed4fa-ca48-4945-ac13-eaf1361295c5",
   "metadata": {
    "scrolled": true
   },
   "outputs": [],
   "source": [
    "data_samples = {\n",
    "    'question': ['第一届超级碗是什么时候？', '谁赢得了最多的超级碗？'],\n",
    "    'answer': ['第一届超级碗于1967年1月15日举行', '新英格兰爱国者队赢得了最多的超级碗'],\n",
    "    'ground_truth':['第一届超级碗是在1967年1月15日举行的。','截至2023年，匹兹堡钢人队（Pittsburgh Steelers）和新英格兰爱国者队（New England Patriots）各赢得了六次超级碗冠军，是赢得超级碗次数最多的两支球队。']\n",
    "}\n",
    "\n",
    "dataset = Dataset.from_dict(data_samples)\n",
    "score = evaluate(\n",
    "    dataset = dataset,\n",
    "    metrics=[answer_correctness],\n",
    "    llm=llm,\n",
    "    embeddings=embedding)\n",
    "score.to_pandas()"
   ]
  },
  {
   "cell_type": "markdown",
   "id": "c4776052-6812-4546-944e-1cba0d15a5ff",
   "metadata": {},
   "source": [
    "answer_correctness指标的计算用到了faithfulness的prompt，因此有部分prompt是之前适配过的中文。\n",
    "\n",
    "#### 适配到新的prompt"
   ]
  },
  {
   "cell_type": "code",
   "execution_count": null,
   "id": "a085431b-af85-452a-89df-86d89784a78d",
   "metadata": {},
   "outputs": [],
   "source": [
    "from ragas_prompt.chinese_prompt import AnswerCorrectness\n",
    "answer_correctness.correctness_prompt.instruction = AnswerCorrectness.correctness_prompt[\"instruction\"]\n",
    "answer_correctness.correctness_prompt.output_format_instruction = AnswerCorrectness.correctness_prompt[\"output_format_instruction\"]\n",
    "answer_correctness.correctness_prompt.examples = AnswerCorrectness.correctness_prompt[\"examples\"]\n",
    "answer_correctness"
   ]
  },
  {
   "cell_type": "code",
   "execution_count": null,
   "id": "4d31bbc6-2a95-471d-a6d9-48d6e8b8119b",
   "metadata": {
    "scrolled": true
   },
   "outputs": [],
   "source": [
    "data_samples = {\n",
    "    'question': ['第一届超级碗是什么时候？', '谁赢得了最多的超级碗？'],\n",
    "    'answer': ['第一届超级碗于1967年1月15日举行', '新英格兰爱国者队赢得了最多的超级碗'],\n",
    "    'ground_truth':['第一届超级碗是在1967年1月15日举行的。','截至2023年，匹兹堡钢人队（Pittsburgh Steelers）和新英格兰爱国者队（New England Patriots）各赢得了六次超级碗冠军，是赢得超级碗次数最多的两支球队。']\n",
    "}\n",
    "\n",
    "dataset = Dataset.from_dict(data_samples)\n",
    "score = evaluate(\n",
    "    dataset = dataset,\n",
    "    metrics=[answer_correctness],\n",
    "    llm=llm,\n",
    "    embeddings=embedding)\n",
    "score.to_pandas()"
   ]
  },
  {
   "cell_type": "markdown",
   "id": "ec71e3c6-4c2b-4fe4-9375-88506cddd44c",
   "metadata": {},
   "source": [
    "我们可以看到，第一个数据answer_correctness接近1，第二个数据answer_correctness为0.57。\n",
    "\n",
    "我们通过人工查看一下，这个分数是否合理：\n",
    "\n",
    "1. answer与ground_truth几乎一样，因此answer_correctness分数接近于1；\n",
    "2. answer中只提到了“新英格兰爱国者队”，却没有提到”匹兹堡钢人队“，因此分数比前者低。\n",
    "\n",
    "你也可以从打印的日志中查看reason字段，了解大模型打分的依据。"
   ]
  },
  {
   "cell_type": "markdown",
   "id": "e06b2acc-515a-4376-b0cd-3f136cb273bc",
   "metadata": {
    "execution": {
     "iopub.execute_input": "2024-09-20T07:34:41.081020Z",
     "iopub.status.busy": "2024-09-20T07:34:41.080667Z",
     "iopub.status.idle": "2024-09-20T07:34:41.083599Z",
     "shell.execute_reply": "2024-09-20T07:34:41.083154Z",
     "shell.execute_reply.started": "2024-09-20T07:34:41.080976Z"
    }
   },
   "source": [
    "## 📝 5. 使用多个指标同时评测\n",
    "### 5.1. 数据准备\n",
    "你需要准备四种数据，每种数据的类型为：<br>\n",
    "| question | answer | contexts | ground_truth |\n",
    "| --- | --- | --- | --- |\n",
    "| str | str | List[str] | str |\n",
    "\n",
    "\n",
    "在evaluate方法中，指定metrics参数为你想要评测的指标。"
   ]
  },
  {
   "cell_type": "code",
   "execution_count": null,
   "id": "7fbd89a5-0942-4c8a-a487-94cb1876a151",
   "metadata": {
    "scrolled": true,
    "tags": []
   },
   "outputs": [],
   "source": [
    "data_samples = {\n",
    "    'question': ['第一届超级碗是什么时候？', '谁赢得了最多的超级碗？'],\n",
    "    'answer': ['第一届超级碗于1967年1月15日举行', '新英格兰爱国者队赢得了最多的超级碗'],\n",
    "    'contexts' : [['第一届 AFL–NFL 世界锦标赛是一场美式足球比赛，于1967年1月15日在洛杉矶纪念体育场举行，'],\n",
    "    ['绿湾包装工队...位于威斯康星州绿湾市。', '包装工队参加...足球联盟']],\n",
    "    'ground_truth':['第一届超级碗是在1967年1月15日举行的。','截至2023年，匹兹堡钢人队（Pittsburgh Steelers）和新英格兰爱国者队（New England Patriots）各赢得了六次超级碗冠军，是赢得超级碗次数最多的两支球队。']\n",
    "}\n",
    "\n",
    "dataset = Dataset.from_dict(data_samples)\n",
    "score = evaluate(\n",
    "    dataset = dataset,\n",
    "    metrics=[answer_correctness,answer_relevancy, context_recall,context_precision,faithfulness],\n",
    "    embeddings=embedding,\n",
    "    llm=llm)\n",
    "score.to_pandas()"
   ]
  },
  {
   "cell_type": "markdown",
   "id": "ab91260d-b8f5-4c86-9d9c-e6084f0a9c81",
   "metadata": {},
   "source": [
    "### 5.2. 函数的封装\n",
    "\n",
    "我们封装好了一个适配到中文prompt的函数，你只需要传入question、answer、contexts、ground_truth，就可以获得ragas的评测结果。"
   ]
  },
  {
   "cell_type": "code",
   "execution_count": null,
   "id": "d9f51250-3a8e-4757-a1fa-71822a1829f7",
   "metadata": {},
   "outputs": [],
   "source": [
    "data_samples = {\n",
    "    'question': ['第一届超级碗是什么时候？', '谁赢得了最多的超级碗？'],\n",
    "    'answer': ['第一届超级碗于1967年1月15日举行', '新英格兰爱国者队赢得了最多的超级碗'],\n",
    "    'contexts' : [['第一届 AFL–NFL 世界锦标赛是一场美式足球比赛，于1967年1月15日在洛杉矶纪念体育场举行，'],\n",
    "    ['绿湾包装工队...位于威斯康星州绿湾市。', '包装工队参加...足球联盟']],\n",
    "    'ground_truth':['第一届超级碗是在1967年1月15日举行的。','截至2023年，匹兹堡钢人队（Pittsburgh Steelers）和新英格兰爱国者队（New England Patriots）各赢得了六次超级碗冠军，是赢得超级碗次数最多的两支球队。']\n",
    "}"
   ]
  },
  {
   "cell_type": "code",
   "execution_count": null,
   "id": "f457bc93-ee1f-4981-9761-654557d48e25",
   "metadata": {
    "scrolled": true
   },
   "outputs": [],
   "source": [
    "from utils.ragas_evaluate import ragas_evaluate\n",
    "ragas_evaluate(\n",
    "    question=data_samples[\"question\"],\n",
    "    answer=data_samples[\"answer\"],\n",
    "    contexts=data_samples[\"contexts\"],\n",
    "    ground_truth=data_samples[\"ground_truth\"]\n",
    ")"
   ]
  },
  {
   "cell_type": "markdown",
   "id": "448a70bb-47c0-4933-9ed5-acd3072d18cc",
   "metadata": {},
   "source": [
    "## ✅ 本节小结\n",
    "通过本节内容的学习，你已经学会了怎么使用RAGAS框架来评估RAG应用的质量了。"
   ]
  },
  {
   "cell_type": "markdown",
   "id": "d0ed74ea",
   "metadata": {},
   "source": []
  }
 ],
 "metadata": {
  "kernelspec": {
   "display_name": "Python 3 (ipykernel)",
   "language": "python",
   "name": "python3"
  },
  "language_info": {
   "codemirror_mode": {
    "name": "ipython",
    "version": 3
   },
   "file_extension": ".py",
   "mimetype": "text/x-python",
   "name": "python",
   "nbconvert_exporter": "python",
   "pygments_lexer": "ipython3",
   "version": "3.9.6"
  }
 },
 "nbformat": 4,
 "nbformat_minor": 5
}
