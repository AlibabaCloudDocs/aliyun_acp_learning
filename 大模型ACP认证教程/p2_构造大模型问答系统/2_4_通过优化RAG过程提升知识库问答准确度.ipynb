{
 "cells": [
  {
   "cell_type": "markdown",
   "metadata": {},
   "source": [
    "# 2.4 优化RAG应用提升问答准确度\n",
    "## 🚄  前言\n",
    "\n",
    "在前面的课程中，你已经通过自动化评测发现答疑机器人的一些问题。优化提示词并不能解决检索召回不准确引起的回答错误问题，就像你在开卷考试时拿着错误的参考书很难给出正确的答案一样。  \n",
    "\n",
    "这一章节，我们将一起更深入地了解 RAG 工作流程，并尝试提升我们的 RAG 应用问答准确度。\n",
    "\n",
    "\n",
    "## 🍁 课程目标\n",
    "学完本课程后，你将：\n",
    "\n",
    "*   更深入的了解 RAG 的实现原理与技术细节\n",
    "    \n",
    "*   了解 RAG 应用常见的问题与处理方式建议\n",
    "    \n",
    "*   通过案例，动手改进 RAG 应用效果"
   ]
  },
  {
   "cell_type": "markdown",
   "metadata": {},
   "source": [
    "## 1. 前文回顾\n",
    "\n",
    "在上一章节，你发现答疑机器人不能很好的回答「张伟是哪个部门的？」，并且发现了原因是检索阶段没有召回到正确的参考信息（文档切片）。"
   ]
  },
  {
   "cell_type": "code",
   "execution_count": 16,
   "metadata": {},
   "outputs": [
    {
     "name": "stdout",
     "output_type": "stream",
     "text": [
      "你配置的 API Key 是：sk-1a*****\n"
     ]
    }
   ],
   "source": [
    "import os\n",
    "from config.load_key import load_key\n",
    "load_key()\n",
    "print(f'''你配置的 API Key 是：{os.environ[\"DASHSCOPE_API_KEY\"][:5]+\"*\"*5}''')"
   ]
  },
  {
   "cell_type": "code",
   "execution_count": 31,
   "metadata": {},
   "outputs": [
    {
     "name": "stdout",
     "output_type": "stream",
     "text": [
      "提问：张伟是哪个部门的\n",
      "回答：根据提供的参考信息，没有找到名为张伟的员工信息。如果您能提供更多详细信息，例如部门或其他联系方式，我可以帮助您进一步查找。\n",
      "\n",
      "检索召回的参考信息如下：\n",
      "Node ID: c98bf1c0-c88d-43ee-b3ef-56079b335404\n",
      "Text: 核，提供⾏政管理与协调⽀持，优化⾏政⼯作流程。  ⾏政部 秦⻜ 蔡静 G705 034 ⾏政 ⾏政专员 13800000034\n",
      "qinf@educompany.com 维护公司档案与信息系统，负责公司通知及公告的发布，\n",
      "Score:  0.171\n",
      "\n",
      "Node ID: daa30e2b-cbb1-4a5a-b2ae-e7f5cae4e3b9\n",
      "Text: ⽀持。  绩效管理部 韩杉 李⻜ I902 041 ⼈⼒资源 绩效专员 13800000041\n",
      "hanshan@educompany.com 建⽴并维护员⼯绩效档案，定期组织绩效评价会议，协调各部⻔反馈，制定考核流程与标准，确保绩效\n",
      "Score:  0.169\n",
      "\n"
     ]
    }
   ],
   "source": [
    "from chatbot import rag\n",
    "\n",
    "query_engine = rag.create_query_engine(rag.load_index())\n",
    "\n",
    "def ask(question, query_engine):\n",
    "    rag.update_prompt_template(query_engine=query_engine)\n",
    "\n",
    "    print('提问：' + question)\n",
    "    response = query_engine.query(question)\n",
    "\n",
    "    print('回答：', end='')\n",
    "    response.print_response_stream()\n",
    "\n",
    "    print('\\n\\n检索召回的文档切片如下：')\n",
    "    for source_node in response.source_nodes:\n",
    "        print(source_node)\n",
    "\n",
    "    return response\n",
    "\n",
    "response = ask('张伟是哪个部门的', query_engine)"
   ]
  },
  {
   "cell_type": "markdown",
   "metadata": {},
   "source": [
    "## 2. 初步优化检索效果\n",
    "\n",
    "### 2.1 让大模型获取到更多参考信息\n",
    "我们可以尝试调整检索策略，比如一次多检索出几个文档切片。\n",
    "\n",
    "#### 2.1.1 调整代码"
   ]
  },
  {
   "cell_type": "code",
   "execution_count": 42,
   "metadata": {},
   "outputs": [
    {
     "name": "stdout",
     "output_type": "stream",
     "text": [
      "提问：张伟是哪个部门的\n",
      "回答：张伟是IT部的IT专员。\n",
      "\n",
      "检索召回的参考信息如下：\n",
      "Node ID: c98bf1c0-c88d-43ee-b3ef-56079b335404\n",
      "Text: 核，提供⾏政管理与协调⽀持，优化⾏政⼯作流程。  ⾏政部 秦⻜ 蔡静 G705 034 ⾏政 ⾏政专员 13800000034\n",
      "qinf@educompany.com 维护公司档案与信息系统，负责公司通知及公告的发布，\n",
      "Score:  0.171\n",
      "\n",
      "Node ID: daa30e2b-cbb1-4a5a-b2ae-e7f5cae4e3b9\n",
      "Text: ⽀持。  绩效管理部 韩杉 李⻜ I902 041 ⼈⼒资源 绩效专员 13800000041\n",
      "hanshan@educompany.com 建⽴并维护员⼯绩效档案，定期组织绩效评价会议，协调各部⻔反馈，制定考核流程与标准，确保绩效\n",
      "Score:  0.169\n",
      "\n",
      "Node ID: 445d424e-d896-4bde-b4de-85f7a4e78ee4\n",
      "Text: 效管理部 南 ⻜ 0 ⼒资源 效专员 0\n",
      "责制定绩效考核体系，组织绩效评估的实施与反馈，撰写评估报告，分析绩效数据以提出优化建议，提供决策\n",
      "Score:  0.154\n",
      "\n",
      "Node ID: 5d98660f-2745-400a-bf45-eca616189317\n",
      "Text: 组织公司活动的前期准备与后期评估，确保公司各项⼯作的顺利进⾏。  IT部 张伟 ⻢云 H802 036 IT⽀撑 IT专员\n",
      "13800000036 zhangwei036@educompany.com 进⾏公司⽹络及硬件设备的配置\n",
      "Score:  0.140\n",
      "\n"
     ]
    }
   ],
   "source": [
    "from llama_index.llms.dashscope import DashScope\n",
    "\n",
    "index = rag.load_index()\n",
    "query_engine = index.as_query_engine(\n",
    "    streaming=True,\n",
    "    llm=DashScope(model_name=\"qwen-plus\"),\n",
    "    # 一次检索出 5 个文档切片，默认为 2\n",
    "    similarity_top_k=5\n",
    ")\n",
    "\n",
    "response = ask('张伟是哪个部门的', query_engine)"
   ]
  },
  {
   "cell_type": "markdown",
   "metadata": {},
   "source": [
    "可以看到，调整了召回数量后，你的答疑机器人能够回答「张伟是哪个部门？」这个问题了。\n",
    "\n",
    "不过，事实上你们公司名为张伟的同事有多个，他们分别在教研部、课程开发部、IT部。因此，这个答案还是不够好。\n",
    "\n",
    "#### 2.1.2 评估改进效果\n",
    "为了在接下来的改进中，能够量化改进效果，我们可以继续使用上一章节中的 ragas 来进行评测。"
   ]
  },
  {
   "cell_type": "code",
   "execution_count": 41,
   "metadata": {},
   "outputs": [],
   "source": [
    "from langchain_community.llms.tongyi import Tongyi\n",
    "from langchain_community.embeddings import DashScopeEmbeddings\n",
    "from datasets import Dataset\n",
    "from ragas import evaluate\n",
    "from ragas.metrics import context_recall,context_precision,answer_correctness\n",
    "\n",
    "def evaluate_result(question, response, ground_truth):\n",
    "    answer = response.response_txt\n",
    "    context = [source_node.get_content() for source_node in response.source_nodes]\n",
    "\n",
    "    data_samples = {\n",
    "        'question': [question],\n",
    "        'answer': [answer],\n",
    "        'ground_truth':[ground_truth],\n",
    "        'contexts' : [context],\n",
    "    }\n",
    "    dataset = Dataset.from_dict(data_samples)\n",
    "    score = evaluate(\n",
    "        dataset = dataset,\n",
    "        metrics=[answer_correctness, context_recall, context_precision],\n",
    "        llm=Tongyi(model_name=\"qwen-plus\"),\n",
    "        embeddings=DashScopeEmbeddings(model=\"text-embedding-v3\")\n",
    "    )\n",
    "    return score.to_pandas()\n",
    "\n",
    "question = '张伟是哪个部门的'\n",
    "ground_truth = '''公司有三名张伟，分别是：\n",
    "- 教研部的张伟：职位是教研专员，邮箱 zhangwei@educompany.com。\n",
    "- 课程开发部的张伟：职位是课程开发专员，邮箱 zhangwei01@educompany.com。\n",
    "- IT部的张伟：职位是IT专员，邮箱 zhangwei036@educompany.com。\n",
    "'''"
   ]
  },
  {
   "cell_type": "code",
   "execution_count": 43,
   "metadata": {},
   "outputs": [
    {
     "name": "stderr",
     "output_type": "stream",
     "text": [
      "Evaluating: 100%|██████████| 3/3 [00:38<00:00, 12.89s/it]\n"
     ]
    },
    {
     "data": {
      "text/html": [
       "<div>\n",
       "<style scoped>\n",
       "    .dataframe tbody tr th:only-of-type {\n",
       "        vertical-align: middle;\n",
       "    }\n",
       "\n",
       "    .dataframe tbody tr th {\n",
       "        vertical-align: top;\n",
       "    }\n",
       "\n",
       "    .dataframe thead th {\n",
       "        text-align: right;\n",
       "    }\n",
       "</style>\n",
       "<table border=\"1\" class=\"dataframe\">\n",
       "  <thead>\n",
       "    <tr style=\"text-align: right;\">\n",
       "      <th></th>\n",
       "      <th>question</th>\n",
       "      <th>answer</th>\n",
       "      <th>ground_truth</th>\n",
       "      <th>contexts</th>\n",
       "      <th>answer_correctness</th>\n",
       "      <th>context_recall</th>\n",
       "      <th>context_precision</th>\n",
       "    </tr>\n",
       "  </thead>\n",
       "  <tbody>\n",
       "    <tr>\n",
       "      <th>0</th>\n",
       "      <td>张伟是哪个部门的</td>\n",
       "      <td>张伟是IT部的IT专员。</td>\n",
       "      <td>公司有三名张伟，分别是：\\n- 教研部的张伟：职位是教研专员，邮箱 zhangwei@edu...</td>\n",
       "      <td>[核，提供⾏政管理与协调⽀持，优化⾏政⼯作流程。 \\n⾏政部 秦⻜ 蔡静 G705 034 ...</td>\n",
       "      <td>0.364468</td>\n",
       "      <td>0.25</td>\n",
       "      <td>0.25</td>\n",
       "    </tr>\n",
       "  </tbody>\n",
       "</table>\n",
       "</div>"
      ],
      "text/plain": [
       "   question        answer                                       ground_truth  \\\n",
       "0  张伟是哪个部门的  张伟是IT部的IT专员。  公司有三名张伟，分别是：\\n- 教研部的张伟：职位是教研专员，邮箱 zhangwei@edu...   \n",
       "\n",
       "                                            contexts  answer_correctness  \\\n",
       "0  [核，提供⾏政管理与协调⽀持，优化⾏政⼯作流程。 \\n⾏政部 秦⻜ 蔡静 G705 034 ...            0.364468   \n",
       "\n",
       "   context_recall  context_precision  \n",
       "0            0.25               0.25  "
      ]
     },
     "execution_count": 43,
     "metadata": {},
     "output_type": "execute_result"
    }
   ],
   "source": [
    "evaluate_result(question=question, response=response, ground_truth=ground_truth)"
   ]
  },
  {
   "cell_type": "markdown",
   "metadata": {},
   "source": [
    "### 2.2 给大模型结构更清晰的参考信息\n",
    "\n",
    "在前面的改进过程中，你可能已经发现，这些参考信息原本是表格里的，但是在建立索引的过程中，被处理成了不太有结构的文本。\n",
    "\n",
    "结构清晰的文本，对于大模型来说是更好的输入。我们在对原始文档切片、使用向量模型建立索引的过程中，如果输入的文档切片也是结构清晰的，同样有利于改善检索效果。在 RAG 场景下，markdown 结构简单且清晰，更有利检索和模型参考总结。\n",
    "\n",
    "#### 2.2.1 重建索引\n",
    "为了验证这一点，你可以尝试执行下面的命令，将我们预先准备好的 markdown 文件添加到 docs 目录中，然后重新建立索引。\n"
   ]
  },
  {
   "cell_type": "code",
   "execution_count": 44,
   "metadata": {},
   "outputs": [],
   "source": [
    "# 将 markdown 格式的员工信息文档复制到 ./docs 目录下\n",
    "! cp ./resources/2_4/内容公司各部门职责与关键角色联系信息汇总.md ./docs/"
   ]
  },
  {
   "cell_type": "code",
   "execution_count": 45,
   "metadata": {},
   "outputs": [
    {
     "name": "stdout",
     "output_type": "stream",
     "text": [
      "重建索引\n",
      "提问：张伟是哪个部门的\n",
      "回答：张伟分别在三个不同的部门任职：\n",
      "\n",
      "1. 教研部 - 内容设计教研专员，工号001，邮箱zhangwei@educompany.com\n",
      "2. 课程开发部 - 内容开发课程开发专员，工号008，邮箱zhangwei01@educompany.com\n",
      "3. IT部 - IT支撑IT专员，工号036，邮箱zhangwei036@educompany.com\n",
      "\n",
      "请问您需要了解哪一个张伟的信息？\n",
      "\n",
      "检索召回的参考信息如下：\n",
      "Node ID: 2bb789a1-b549-4c26-9d1f-70ba4d2f3fc2\n",
      "Text: 各部门关键角色联系人  | 部门|员工姓名|员工主管|工位|工号|岗位|职位|电话|邮箱|工作职责| |\n",
      "---|---|---|---|---|---|---|---|---|---| | 教研部|张伟|李琳|A101|001|内容设计|教研专\n",
      "员|13800000001|zhangwei@educompany.com|负责教育课程的研究与开发,分析教学效果,整理教案,协助课程优化,\n",
      "以及参与教育项目的评估和反馈。| | 教研部|王芳|李琳|A102|002|内容设计|教研专员|13800000002|wangfang@e\n",
      "ducompany.com|负责制定学科教学方案,策划教学活动,编写教案,收集学生反馈,参与课程改进会议,提供专业意见。| |\n",
      "教研部|刘杰|李琳|A103|003|内...\n",
      "Score:  0.241\n",
      "\n",
      "Node ID: 56f642fb-4bdb-4415-ae96-360379329802\n",
      "Text: com|进行公司网络及硬件设备的配置与维护,监控系统运行状态,及时处理技术问题与故障,提供技术支持及工具使用培训。| | IT部\n",
      "|谢宇|马云|H803|037|IT支撑|IT专员|13800000037|xieyu@educompany.com|支持公司软件系统的开发\n",
      "与更新,参与IT项目的计划与实施,撰写技术文档与使用说明,确保信息技术的安全性与有效性。| |\n",
      "绩|朱|李|I901|04|人|绩|1380000004|zhun@educompany.com|负| | 效管理部|南|飞||0|力资源|\n",
      "效专员|0||责制定绩效考核体系,组织绩效评估的实施与反馈,撰写评估报告,分析绩效数据以提出优化建议,提供决策支持。| |\n",
      "绩效管理部|韩杉|李飞|1902|041|人力资源|绩效专员|13...\n",
      "Score:  0.211\n",
      "\n",
      "Node ID: dac91b1b-1b67-474b-841a-9747c97af65d\n",
      "Text: com|主持教材的市场调研,分析不不同阶段学生的学习需求,撰写教材使用报告,积极参与教材的试用和反馈收集,促进优化迭代。| | \n",
      "评估部|邓琪|张晓|D405|021|内容质检|评估专员|13800000021|dengqi@educompany.com|协助评估项目的\n",
      "相关文档整理,参与评估结果的反馈会议,提供数据支持,监督评估实施过程,确保评估的全面性与公正性。| | 市场部|郑刚|李明|E504|025\n",
      "|市场昔营销|市场推专员|13800000025|zhenggang@educompany.com|开展市场竞品分析,收集行业动态信息,提供\n",
      "市场预测,协助制定销售目标和策略,定期撰写市场研究报告。| |\n",
      "人FR您源部|胡楠|马婷|F603|028|人力资源|人力资源专员|1380000...\n",
      "Score:  0.183\n",
      "\n",
      "Node ID: f4601bd0-09cc-46a4-92a0-c72ccb1a47b0\n",
      "Text: 核，提供⾏政管理与协调⽀持，优化⾏政⼯作流程。  ⾏政部 秦⻜ 蔡静 G705 034 ⾏政 ⾏政专员 13800000034\n",
      "qinf@educompany.com 维护公司档案与信息系统，负责公司通知及公告的发布，\n",
      "Score:  0.171\n",
      "\n"
     ]
    }
   ],
   "source": [
    "from llama_index.llms.dashscope import DashScope\n",
    "from llama_index.core import SimpleDirectoryReader, VectorStoreIndex\n",
    "from llama_index.embeddings.dashscope import DashScopeEmbedding,DashScopeTextEmbeddingModels\n",
    "\n",
    "# 重新建立索引\n",
    "print('重建索引')\n",
    "documents = SimpleDirectoryReader('./docs').load_data()\n",
    "index = VectorStoreIndex.from_documents(\n",
    "    documents,\n",
    "    embed_model=DashScopeEmbedding(model_name=DashScopeTextEmbeddingModels.TEXT_EMBEDDING_V2)\n",
    ")\n",
    "\n",
    "query_engine = index.as_query_engine(\n",
    "    streaming=True,\n",
    "    llm=DashScope(model_name=\"qwen-plus\"),\n",
    "    similarity_top_k=5\n",
    ")\n",
    "\n",
    "response = ask('张伟是哪个部门的', query_engine)"
   ]
  },
  {
   "cell_type": "markdown",
   "metadata": {},
   "source": [
    "#### 2.2.2 评估改进效果\n",
    "可以看到，你的答疑机器人能够准确回答这个问题。你可以再运行一次 ragas 评测，评测数据同样显示，回答准确度更高了。"
   ]
  },
  {
   "cell_type": "code",
   "execution_count": 46,
   "metadata": {},
   "outputs": [
    {
     "name": "stderr",
     "output_type": "stream",
     "text": [
      "Evaluating: 100%|██████████| 3/3 [01:01<00:00, 20.38s/it]\n"
     ]
    },
    {
     "data": {
      "text/html": [
       "<div>\n",
       "<style scoped>\n",
       "    .dataframe tbody tr th:only-of-type {\n",
       "        vertical-align: middle;\n",
       "    }\n",
       "\n",
       "    .dataframe tbody tr th {\n",
       "        vertical-align: top;\n",
       "    }\n",
       "\n",
       "    .dataframe thead th {\n",
       "        text-align: right;\n",
       "    }\n",
       "</style>\n",
       "<table border=\"1\" class=\"dataframe\">\n",
       "  <thead>\n",
       "    <tr style=\"text-align: right;\">\n",
       "      <th></th>\n",
       "      <th>question</th>\n",
       "      <th>answer</th>\n",
       "      <th>ground_truth</th>\n",
       "      <th>contexts</th>\n",
       "      <th>answer_correctness</th>\n",
       "      <th>context_recall</th>\n",
       "      <th>context_precision</th>\n",
       "    </tr>\n",
       "  </thead>\n",
       "  <tbody>\n",
       "    <tr>\n",
       "      <th>0</th>\n",
       "      <td>张伟是哪个部门的</td>\n",
       "      <td>张伟分别在三个不同的部门任职：\\n\\n1. 教研部 - 内容设计教研专员，工号001，邮箱z...</td>\n",
       "      <td>公司有三名张伟，分别是：\\n- 教研部的张伟：职位是教研专员，邮箱 zhangwei@edu...</td>\n",
       "      <td>[各部门关键角色联系人\\n\\n| 部门|员工姓名|员工主管|工位|工号|岗位|职位|电话|邮...</td>\n",
       "      <td>0.788695</td>\n",
       "      <td>1.0</td>\n",
       "      <td>0.833333</td>\n",
       "    </tr>\n",
       "  </tbody>\n",
       "</table>\n",
       "</div>"
      ],
      "text/plain": [
       "   question                                             answer  \\\n",
       "0  张伟是哪个部门的  张伟分别在三个不同的部门任职：\\n\\n1. 教研部 - 内容设计教研专员，工号001，邮箱z...   \n",
       "\n",
       "                                        ground_truth  \\\n",
       "0  公司有三名张伟，分别是：\\n- 教研部的张伟：职位是教研专员，邮箱 zhangwei@edu...   \n",
       "\n",
       "                                            contexts  answer_correctness  \\\n",
       "0  [各部门关键角色联系人\\n\\n| 部门|员工姓名|员工主管|工位|工号|岗位|职位|电话|邮...            0.788695   \n",
       "\n",
       "   context_recall  context_precision  \n",
       "0             1.0           0.833333  "
      ]
     },
     "execution_count": 46,
     "metadata": {},
     "output_type": "execute_result"
    }
   ],
   "source": [
    "evaluate_result(question=question, response=response, ground_truth=ground_truth)"
   ]
  },
  {
   "cell_type": "markdown",
   "metadata": {},
   "source": [
    "## 3. 了解一个简单 RAG 应用的工作流程\n",
    "\n",
    "截止目前，你已经完成了一些改进，让答疑机器人的问答准确度更高了。但在实际生产环境中，你可能会遇到的问题远不止于此。\n",
    "\n",
    "系统全面地了解 RAG 工作流程，有助于你进一步提升回答效果。\n",
    "\n",
    "RAG 全称 Retrieval Augmented Generation，即检索增强生成，它的主要工作流程也正如其名：\n",
    "\n",
    "1. **建立索引**：对文档建立索引，为后续检索做准备。索引阶段又可以分为：文档解析与切片、切片向量存储。。\n",
    "2. **检索与生成**：根据用户的问题，从向量数据库中检索出与用户输入最相关的文档片段，然后输入给大模型，生成答案。\n",
    "   \n",
    "   \n",
    "<img src=\"https://img.alicdn.com/imgextra/i4/O1CN018d8e9G1V0jDAZMRXp_!!6000000002591-0-tps-1463-997.jpg\" alt=\"RAG 工作原理\" width=\"800px\">\n",
    "\n",
    "我们在前面的学习中对答疑机器人做出了一些改进。但 RAG 应用的改进点远不止于此，每个环节都有改进空间。\n",
    "\n",
    "## 4. 简单 RAG 应用的常见问题及改进策略\n",
    "\n",
    "### 4.1 文档解析与切片阶段\n",
    "\n",
    "大模型在回答问题时拿到的文档切片如果缺少关键信息，会回答不准确；如果拿到的文档切片非关联信息过多（噪声），也会影响回答质量。信息过少或过多，同样也会影响检索效果。\n",
    "\n",
    "因此，在建立索引的前期，对文档进行解析与切片阶段时，需要想办法最终的切片信息要完整，但也不要包含太多干扰信息。\n",
    "\n",
    "\n",
    "#### 4.1.1 问题分类及改进策略\n",
    "在文档解析与切片阶段，从参考信息完整度的角度，我们可以把可能出现的问题分为两大类：参考信息缺失、干扰信息过多。\n",
    "\n",
    "<table>\n",
    "  <tr>\n",
    "    <th>问题大类</th>\n",
    "    <th>细分类型</th>\n",
    "    <th>改进策略</th>\n",
    "  </tr>\n",
    "  <tr>\n",
    "    <td rowspan=\"6\">参考信息缺失</td>\n",
    "    <td>没有相关知识文档</td>\n",
    "    <td>补充文档</td>\n",
    "  </tr>  \n",
    "  <tr>  \n",
    "    <td>有相关知识文档，但和用户问题表述方式不接近</td>\n",
    "    <td>改进文档，补充用户视角描述信息</td>\n",
    "  </tr> \n",
    "  <tr>    \n",
    "    <td>文档类型不统一，部分格式的文档不支持解析<br><i style=\"color: #999\">比如前面用到的 SimpleDirectoryLoader 并不支持 keynote 格式的文件<i></td>\n",
    "    <td>开发对应格式的解析器，或转换文档格式</td>\n",
    "  </tr>  \n",
    "  <tr>    \n",
    "    <td>已支持解析的文档格式里，存在一些特殊内容<br><i style=\"color: #999\">比如文档里嵌入了表格、图片、视频等<i></td>\n",
    "    <td>改进文档解析器</td>\n",
    "  </tr>\n",
    "  <tr>    \n",
    "    <td>文档切片长度过短，有效信息被截断</td>\n",
    "    <td>扩大切片长度，或结合具体业务开发为更合适的切片策略</td>\n",
    "  </tr>  \n",
    "  <tr>    \n",
    "    <td>...</td>\n",
    "    <td>...</td>\n",
    "  </tr> \n",
    "  <tr>\n",
    "    <td rowspan=\"3\">干扰信息过多</td>\n",
    "    <td>文档中有很多主题接近的内容<br><i style=\"color: #999\">比如工作手册文档中，需求分析、开发、发布等每个阶段都有注意事项、操作指导<i></td>\n",
    "    <td>扩写文档标题及子标题<br><i style=\"color: #999\">「注意事项」=>「需求分析>注意事项」</i><br>建立文档元数据（打标）<br>...</td>\n",
    "  </tr>  \n",
    "  <tr>    \n",
    "    <td>文档切片长度过大，引入过多干扰项</td>\n",
    "    <td>减少切片长度，或结合具体业务开发为更合适的切片策略</td>\n",
    "  </tr> \n",
    "   <tr>    \n",
    "    <td>...</td>\n",
    "    <td>...</td>\n",
    "  </tr> \n",
    "</table>\n",
    "\n",
    "#### 4.1.2 改进策略实现参考 - 借助百炼解析 PDF 文件\n",
    "\n",
    "在前面的学习过程中，为了让你更快地看到格式转换带来的效果，我们直接提供了一份从 PDF 转换的 Markdown 格式文档。但在实际工作中，编写代码将 PDF 妥善地转为 Markdown 并非易事。\n",
    "\n",
    "实际工作中，你也可以借助百炼提供的 DashScopeParse 来完成 PDF、Word 等格式的文件解析。DashScopeParse 背后使用了阿里云的[文档智能](https://www.aliyun.com/product/ai/docmind)服务，能够帮助你从 PDF、Word 等格式的文件中识别文档中的图片、提取出结构化的文本信息。"
   ]
  },
  {
   "cell_type": "code",
   "execution_count": 10,
   "metadata": {},
   "outputs": [
    {
     "name": "stderr",
     "output_type": "stream",
     "text": [
      "Parsing files:   0%|          | 0/1 [00:00<?, ?it/s]2024-11-04 13:01:51,866 - INFO - HTTP Request: POST https://dashscope.aliyuncs.com/api/v1/datacenter/category/default/upload_lease \"HTTP/1.1 200 OK\"\n",
      "2024-11-04 13:01:52,041 DashScopeResponseHandler [INFO] 8471001792 : DashScopeParse upload_lease [URL:https://dashscope.aliyuncs.com/api/v1/datacenter/category/default/upload_lease] request_id: 5693ab02-00f0-936d-89a8-cb8042e82f8b.\n",
      "2024-11-04 13:01:52,041 - INFO - DashScopeParse upload_lease [URL:https://dashscope.aliyuncs.com/api/v1/datacenter/category/default/upload_lease] request_id: 5693ab02-00f0-936d-89a8-cb8042e82f8b.\n",
      "2024-11-04 13:01:52,042 llama_index.readers.dashscope.base [INFO] 8471001792 : ./docs/内容公司各部门职责与关键角色联系信息汇总.pdf upload lease result: bfd73c9058d946cfa9c7cf49e4d20d0c.1730696511978\n",
      "2024-11-04 13:01:52,042 - INFO - ./docs/内容公司各部门职责与关键角色联系信息汇总.pdf upload lease result: bfd73c9058d946cfa9c7cf49e4d20d0c.1730696511978\n",
      "2024-11-04 13:01:52,044 llama_index.readers.dashscope.domain.lease_domains [INFO] 8471001792 : Start upload ./docs/内容公司各部门职责与关键角色联系信息汇总.pdf.\n",
      "2024-11-04 13:01:52,044 - INFO - Start upload ./docs/内容公司各部门职责与关键角色联系信息汇总.pdf.\n",
      "2024-11-04 13:01:52,462 llama_index.readers.dashscope.domain.lease_domains [INFO] 8471001792 : Upload ./docs/内容公司各部门职责与关键角色联系信息汇总.pdf success.\n",
      "2024-11-04 13:01:52,462 - INFO - Upload ./docs/内容公司各部门职责与关键角色联系信息汇总.pdf success.\n",
      "2024-11-04 13:01:52,773 - INFO - HTTP Request: POST https://dashscope.aliyuncs.com/api/v1/datacenter/category/default/add_file \"HTTP/1.1 200 OK\"\n",
      "2024-11-04 13:01:52,991 DashScopeResponseHandler [INFO] 8471001792 : DashScopeParse add_file [URL:https://dashscope.aliyuncs.com/api/v1/datacenter/category/default/add_file] request_id: b6ee9ef6-1e19-9a05-85dc-06161bc71d62.\n",
      "2024-11-04 13:01:52,991 - INFO - DashScopeParse add_file [URL:https://dashscope.aliyuncs.com/api/v1/datacenter/category/default/add_file] request_id: b6ee9ef6-1e19-9a05-85dc-06161bc71d62.\n",
      "2024-11-04 13:01:52,993 llama_index.readers.dashscope.base [INFO] 8471001792 : Started parsing the file [./docs/内容公司各部门职责与关键角色联系信息汇总.pdf] under [file_e4773102df4748ab8c988b9cd1e07c49_10046870]\n",
      "2024-11-04 13:01:52,993 - INFO - Started parsing the file [./docs/内容公司各部门职责与关键角色联系信息汇总.pdf] under [file_e4773102df4748ab8c988b9cd1e07c49_10046870]\n",
      "2024-11-04 13:01:54,250 - INFO - HTTP Request: POST https://dashscope.aliyuncs.com/api/v1/datacenter/category/default/file/file_e4773102df4748ab8c988b9cd1e07c49_10046870/query \"HTTP/1.1 200 OK\"\n",
      "2024-11-04 13:02:00,609 - INFO - HTTP Request: POST https://dashscope.aliyuncs.com/api/v1/datacenter/category/default/file/file_e4773102df4748ab8c988b9cd1e07c49_10046870/query \"HTTP/1.1 200 OK\"\n",
      "2024-11-04 13:02:07,008 - INFO - HTTP Request: POST https://dashscope.aliyuncs.com/api/v1/datacenter/category/default/file/file_e4773102df4748ab8c988b9cd1e07c49_10046870/query \"HTTP/1.1 200 OK\"\n",
      "2024-11-04 13:02:13,664 - INFO - HTTP Request: POST https://dashscope.aliyuncs.com/api/v1/datacenter/category/default/file/file_e4773102df4748ab8c988b9cd1e07c49_10046870/query \"HTTP/1.1 200 OK\"\n",
      "2024-11-04 13:02:13,835 - INFO - HTTP Request: POST https://dashscope.aliyuncs.com/api/v1/datacenter/category/default/file/file_e4773102df4748ab8c988b9cd1e07c49_10046870/download_lease \"HTTP/1.1 200 OK\"\n",
      "2024-11-04 13:02:13,860 DashScopeResponseHandler [INFO] 8471001792 : DashScopeParse download_lease [URL:https://dashscope.aliyuncs.com/api/v1/datacenter/category/default/file/file_e4773102df4748ab8c988b9cd1e07c49_10046870/download_lease] request_id: 44fc5997-ec14-9269-869d-c6857fc029ad.\n",
      "2024-11-04 13:02:13,860 - INFO - DashScopeParse download_lease [URL:https://dashscope.aliyuncs.com/api/v1/datacenter/category/default/file/file_e4773102df4748ab8c988b9cd1e07c49_10046870/download_lease] request_id: 44fc5997-ec14-9269-869d-c6857fc029ad.\n",
      "Parsing files: 100%|██████████| 1/1 [00:23<00:00, 23.17s/it]"
     ]
    },
    {
     "name": "stdout",
     "output_type": "stream",
     "text": [
      "# 内容公司各部门职责与关键角色联系方式  \n",
      "\n",
      "## 公司定位  \n",
      "\n",
      "我们的公司致力于推动教育的数字化转型,专注于开发富有创意和互动性的在线学习平台与工具。我们结合最新的教育理论与技术创新,旨在提升学习者的参与度和学习效果。通过提供个性化学习体验,我们希望满足不同年龄段和背景的学习需求,助力教育公平和终身学习。我们的使命是使知识获取更加便捷、高效,让每个人都能充分发挥潜力。  \n",
      "\n",
      "## 各部门介绍  \n",
      "\n",
      "教研部:教育课程研究设计  \n",
      "\n",
      "课程开发部:技术内容需求开发  \n",
      "\n",
      "教材编写部:教材、练习题等内容汇编与修订  \n",
      "\n",
      "评估部:内容质量质检  \n",
      "\n",
      "市场部:市场活动营销  \n",
      "\n",
      "人力资源部:人力资源管理  \n",
      "\n",
      "IT部:IT技术支撑  \n",
      "\n",
      "绩效管理部:人员绩效考核设计  \n",
      "\n",
      "## 各部门关键角色联系人  \n",
      "\n",
      "| 部门|员工姓名|员工主管|工位|工号|岗位|职位|电话|邮箱|工作职责|\n",
      "| ---|---|---|---|---|---|---|---|---|---|\n",
      "| 教研部|张伟|李琳|A101|001|内容设计|教研专员|13800000001|zhangwei@educompany.com|负责教育课程的研究与开发,分|\n",
      "| |||||||||析\t教学效果,整理教案,协助课程优化,以及参与教育项目的评估和反<br>馈。|\n",
      "| 教研部|王芳|李琳|A102|002|内容设计|教研专员|13800000002|wangfang@educompany.com|负责制定学科教学方案,策划教学|\n",
      "| |||||||||活动,编写教案,收集学生反馈,参与课程改进会议,提供专业意<br>见。|\n",
      "| 教研部|刘杰|李琳|A103|003|内容设计|教研专员|13800000003|liujie@educompany.com|组织教研活动,分析教学成果,开展学术研|\n",
      "| |||||||||究,协助撰与研究报告,输出有效教学策略,提升课程品质。|\n",
      "| 课程开发部|李丽|王强|B201|007|内容开发|课程开发专员|13800000007|lili@educompany.com|设计并开发教育课程,撰写课程大纲,组织课程<br>试|\n",
      "| |||||||||点,分析市场需求,调整课程内容,以适应学习者的需求和反馈。|\n",
      "| 课程开发部|张伟|王强|B202|008|内容开分发|课程开发专员|13800000008|zhangwei01@educompany.com|精细化课程设计,确保课程符合国家教育标|\n",
      "| |||||||||准,\t撰写教具使用说明,协助教研部进行课程的前期调研与评估。|\n",
      "| 教材编写部|林涛|陈刚|C303|014|内容开发|教材编写专员|13800000014|linta@educompany.com|负\t责教材配套习题的出题工作,进行习<br>题|\n",
      "| |||||||||难\t易度分析与调整,开发辅助学习工具,参与教材整体编排与结构设<br>计。|\n",
      "| 教材编写部|冯雪|陈刚|C304|015|内容开发|教材编写专员|13800000015|fengxue@educompany.com|主持教材的市场调研,分析不不同阶|\n",
      "| |||||||||段\t学\t生<br>的\t学习需求,撰写教材使用报告,积极参与教材的试用和反馈收集,促进<br>优\t化\t迭<br>代。|\n",
      "| 评估部|邓琪|张晓|D405|021|内容质检|评估专员|13800000021|dengqi@educompany.com|协助评估项目的|\n",
      "| |||||||||相\t关\t文<br>档\t整理,参与评估结果的反馈会议,提供数据支持,监督评估实施过程,确<br>保\t评\t估<br>的<br>全<br>面\t性\t与\t公<br>正<br>性。|\n",
      "| 市场部|郑刚|李明|E504|025|市场昔营销|市场推专员|1380000002<br>5|zhenggang@educompany.com|开\t展\t市\t场<br>竞<br>品\t分\t析,\t收\t集行业动态信息,提供市场预测,协助制定销售目标和策略,定期<br>撰<br>写<br>市\t场\t研<br>究<br>报<br>告。|\n",
      "| 人FR您源部|胡楠|马婷|F603|028|人力资源|人力资源专员|13800000028|hunan@educompany.com|制\t定\t员<br>工<br>职<br>业\t发\t展<br>路<br>径,\t收集岗位需要的专业技能与知识,定期评估员工的职业发展<br>现<br>状,<br>协<br>助\t制<br>定<br>个<br>性\t化|\n",
      "| |||||||||职业发展计划。|\n",
      "| 人源部|熊伟|马婷|F604|029|人力资源|人力资源专员|13800000029|xiongwei@educompany.com|负<br>责<br>公\t司\t各\t项\t资源政策的实施与执行,分析<力资源数据以优化资源配<br>置,<br>提<br>供\t决\t策|\n",
      "| |||||||||支持,确保人力资源部门顺畅运作。|\n",
      "| 行政部|黎晗|蔡静|G704|033|行政|行政专员|1380000003<br>3|lih@educompany.com|负\t责\t采购办公设备与耗材,登记与管理公司固定资产协助实施绩<br>效\t考|\n",
      "| |||||||||核,\t提供行政管理与协调支持,优化行政工作流<br>程。|\n",
      "| 行政部|秦飞|蔡静|G705|034|行政|行政专员|13800000034|qinf@educompany.com|维护公司档案与信息系统,负责公司通知及公告的发布,|\n",
      "| |||||||||组\t织公司活动的前期准备与后期评估,确保公司各项工作的顺利进<br>行。|\n",
      "| IT部|张伟|马云|H802|036|IT支撑|IT专员|13800000036|zhangwei036@educompany.com|进行公司网络及硬件设备的配置|\n",
      "| |||||||||与\t维<br>护,\t监控系统运行状态,及时处理技术问题与故障,提供技术支持及工具<br>使<br>用\t培<br>训。|\n",
      "| IT部|谢宇|马云|H803|037|IT支撑|IT专员|13800000037|xieyu@educompany.com|支持公司软件系统|\n",
      "| |||||||||的<br>开\t发\t与\t更新,参与IT项目的计划与实施,撰写技术文档与使用说明,确保信息<br>技\t术<br>的\t安<br>全<br>性\t与\t有\t效<br>性。|\n",
      "| 绩|朱|李|I901|04|人|绩|1380000004|zhun@educompany.com|负|\n",
      "| 效管理部|南|飞||0|力资源|效专员|0||责<br>制\t定<br>绩\t效考核体系,组织绩效评估的实施与反馈,撰写评估报告,分析绩效数据<br>以\t提\t出<br>优<br>化\t建<br>议,\t提<br>供\t决<br>策|\n",
      "| |||||||||支持。|\n",
      "| 绩效管理部|韩杉|李飞|1902|041|人力资源|绩效专员|13800000041|hanshan@educompany.com|建<br>立\t并<br>维<br>护<br>员\t工绩效档案,定期组织绩效评价会议,协调各部门反馈,制定考核<br>流<br>程\t与\t标<br>准,<br>确<br>保\t绩\t效|\n",
      "| |||||||||考核的有效执行与公正性。|\n",
      "  \n",
      "\n",
      "\n"
     ]
    },
    {
     "name": "stderr",
     "output_type": "stream",
     "text": [
      "\n"
     ]
    }
   ],
   "source": [
    "from llama_index.readers.dashscope.utils import ResultType\n",
    "from llama_index.readers.dashscope.base import DashScopeParse\n",
    "\n",
    "import os\n",
    "import re\n",
    "import json\n",
    "import nest_asyncio\n",
    "\n",
    "nest_asyncio.apply()\n",
    "# 使用环境变量\n",
    "os.environ['DASHSCOPE_API_KEY'] = os.getenv('DASHSCOPE_API_KEY')\n",
    "\n",
    "# 文件通过DashScopeParse接口解析为程序与大模型易于处理的markdown文本\n",
    "def file_to_md(file, category_id):\n",
    "    parse = DashScopeParse(\n",
    "        result_type=ResultType.DASHSCOPE_DOCMIND,\n",
    "        category_id=category_id\n",
    "    )\n",
    "    documents = parse.load_data(file_path=file)\n",
    "    # 初始化一个空字符串来存储Markdown内容\n",
    "    markdown_content = \"\"\n",
    "    for doc in documents:\n",
    "        doc_json = json.loads(json.loads(doc.text))\n",
    "        for item in doc_json[\"layouts\"]:\n",
    "            if item[\"text\"] in item[\"markdownContent\"]:\n",
    "                markdown_content += item[\"markdownContent\"]\n",
    "            else:\n",
    "                # DashScopeParse处理时，会将文档图片内的文本信息也解析到初始markdown文本中（类似OCR），这对于本文示例文件中的命令行截图、文本截图是足够的，示例无需深层次解析图片。\n",
    "                # 实际场景中的知识库文档，如果涉及不规则、复杂信息的图片并且需要深层次理解图片内容，您可以调用视觉模型进一步理解图片含义。\n",
    "                # （DashScopeParse返回的数据结构中，针对图片数据，markdownContent字段是图片url，text字段是解析出的文本）\n",
    "                # if \".jpg\" in item[\"markdownContent\"] or \".jpeg\" in item[\"markdownContent\"] or \".png\" in item[\"markdownContent\"]:\n",
    "                #     image_url = re.findall(r'\\!\\[.*?\\]\\((https?://.*?)\\)', item[\"markdownContent\"])[0]\n",
    "                #     print(image_url)\n",
    "                #     markdown_content = markdown_content + parse_image_to_text(image_url)+\"\\n\"\n",
    "                # else:\n",
    "                #     markdown_content = markdown_content + item[\"text\"]+\"\\n\"\n",
    "                markdown_content = markdown_content + item[\"text\"]+\"\\n\"\n",
    "    return markdown_content\n",
    "\n",
    "### 调用示例\n",
    "\n",
    "# 1、可选配置。\n",
    "# 百炼平台上，可以对不同项目配置不同的业务空间，默认情况下是使用默认业务空间。\n",
    "# 如果需要使用非默认空间，可以前往[百炼控制台-业务空间管理](https://bailian.console.aliyun.com/?admin=1#/efm/business_management)，配置业务空间并获取Workspace ID。\n",
    "# 完成后，取消注释并修改这段代码为实际值：\n",
    "# os.environ['DASHSCOPE_WORKSPACE_ID'] = \"<Your Workspace id, Default workspace is empty.>\"\n",
    "\n",
    "# 2、可选配置。\n",
    "# 文件通过DashScopeParse进行解析时，需要配置上传的数据目录id。可以前往[百炼控制台-数据管理](https://bailian.console.aliyun.com/#/data-center)，配置类目并获取ID\n",
    "category_id=\"default\" # 建议修改为自定义的类目ID，以便分类管理文件\n",
    "\n",
    "md_content = file_to_md(['./docs/内容公司各部门职责与关键角色联系信息汇总.pdf'], category_id)\n",
    "print(md_content)"
   ]
  },
  {
   "cell_type": "markdown",
   "metadata": {},
   "source": [
    "由于pdf/docx等多种文件格式来源的多样性，文件解析到markdown过程中可能存在一些格式上的小问题，比如 PDF 里的跨页表格行可能被解析为多行。\n",
    "\n",
    "可以使用大模型对生成的markdown文本进行润色，修正目录层级、缺失信息等。"
   ]
  },
  {
   "cell_type": "code",
   "execution_count": 14,
   "metadata": {},
   "outputs": [
    {
     "name": "stdout",
     "output_type": "stream",
     "text": [
      "# 内容公司各部门职责与关键角色联系方式\n",
      "\n",
      "## 公司定位\n",
      "\n",
      "我们的公司致力于推动教育的数字化转型，专注于开发富有创意和互动性的在线学习平台与工具。我们结合最新的教育理论与技术创新，旨在提升学习者的参与度和学习效果。通过提供个性化学习体验，我们希望满足不同年龄段和背景的学习需求，助力教育公平和终身学习。我们的使命是使知识获取更加便捷、高效，让每个人都能充分发挥潜力。\n",
      "\n",
      "## 各部门介绍\n",
      "\n",
      "- **教研部**: 教育课程研究设计\n",
      "- **课程开发部**: 技术内容需求开发\n",
      "- **教材编写部**: 教材、练习题等内容汇编与修订\n",
      "- **评估部**: 内容质量质检\n",
      "- **市场部**: 市场活动营销\n",
      "- **人力资源部**: 人力资源管理\n",
      "- **IT部**: IT技术支撑\n",
      "- **绩效管理部**: 人员绩效考核设计\n",
      "\n",
      "## 各部门关键角色联系人\n",
      "\n",
      "| 部门       | 员工姓名 | 员工主管 | 工位  | 工号 | 岗位       | 职位           | 电话          | 邮箱                        | 工作职责                                                                                   |\n",
      "|------------|----------|----------|-------|------|------------|----------------|---------------|-----------------------------|--------------------------------------------------------------------------------------------|\n",
      "| 教研部     | 张伟     | 李琳     | A101  | 001  | 内容设计   | 教研专员       | 13800000001  | zhangwei@educompany.com     | 负责教育课程的研究与开发，分析教学效果，整理教案，协助课程优化，以及参与教育项目的评估和反馈。 |\n",
      "| 教研部     | 王芳     | 李琳     | A102  | 002  | 内容设计   | 教研专员       | 13800000002  | wangfang@educompany.com     | 负责制定学科教学方案，策划教学活动，编写教案，收集学生反馈，参与课程改进会议，提供专业意见。 |\n",
      "| 教研部     | 刘杰     | 李琳     | A103  | 003  | 内容设计   | 教研专员       | 13800000003  | liujie@educompany.com       | 组织教研活动，分析教学成果，开展学术研究，协助撰写与研究报告，输出有效教学策略，提升课程品质。 |\n",
      "| 课程开发部 | 李丽     | 王强     | B201  | 007  | 内容开发   | 课程开发专员   | 13800000007  | lili@educompany.com         | 设计并开发教育课程，撰写课程大纲，组织课程试点，分析市场需求，调整课程内容，以适应学习者的需求和反馈。 |\n",
      "| 课程开发部 | 张伟     | 王强     | B202  | 008  | 内容开发   | 课程开发专员   | 13800000008  | zhangwei01@educompany.com   | 精细化课程设计，确保课程符合国家教育标准，撰写教具使用说明，协助教研部进行课程的前期调研与评估。 |\n",
      "| 教材编写部 | 林涛     | 陈刚     | C303  | 014  | 内容开发   | 教材编写专员   | 13800000014  | lintao@educompany.com       | 负责教材配套习题的出题工作，进行习题难度分析与调整，开发辅助学习工具，参与教材整体编排与结构设计。 |\n",
      "| 教材编写部 | 冯雪     | 陈刚     | C304  | 015  | 内容开发   | 教材编写专员   | 13800000015  | fengxue@educompany.com      | 主持教材的市场调研，分析不同阶段学生的学习需求，撰写教材使用报告，积极参与教材的试用和反馈收集，促进优化迭代。 |\n",
      "| 评估部     | 邓琪     | 张晓     | D405  | 021  | 内容质检   | 评估专员       | 13800000021  | dengqi@educompany.com       | 协助评估项目相关文档整理，参与评估结果的反馈会议，提供数据支持，监督评估实施过程，确保评估的全面性与公正性。 |\n",
      "| 市场部     | 郑刚     | 李明     | E504  | 025  | 市场营销   | 市场推广专员   | 13800000025  | zhenggang@educompany.com    | 开展市场竞品分析，收集行业动态信息，提供市场预测，协助制定销售目标和策略，定期撰写市场研究报告。 |\n",
      "| 人力资源部 | 胡楠     | 马婷     | F603  | 028  | 人力资源   | 人力资源专员   | 13800000028  | hunan@educompany.com        | 制定员工职业发展路径，收集岗位需要的专业技能与知识，定期评估员工的职业发展现状，协助制定个性化职业发展计划。 |\n",
      "| 人力资源部 | 熊伟     | 马婷     | F604  | 029  | 人力资源   | 人力资源专员   | 13800000029  | xiongwei@educompany.com     | 负责公司各项资源政策的实施与执行，分析人力资源数据以优化资源配置，提供决策支持，确保人力资源部门顺畅运作。 |\n",
      "| 行政部     | 黎晗     | 蔡静     | G704  | 033  | 行政       | 行政专员       | 13800000033  | lihan@educompany.com        | 负责采购办公设备与耗材，登记与管理公司固定资产，协助实施绩效考核，提供行政管理与协调支持，优化行政工作流程。 |\n",
      "| 行政部     | 秦飞     | 蔡静     | G705  | 034  | 行政       | 行政专员       | 13800000034  | qinf@educompany.com         | 维护公司档案与信息系统，负责公司通知及公告的发布，组织公司活动的前期准备与后期评估，确保公司各项工作的顺利进行。 |\n",
      "| IT部       | 张伟     | 马云     | H802  | 036  | IT支撑     | IT专员         | 13800000036  | zhangwei036@educompany.com  | 进行公司网络及硬件设备的配置与维护，监控系统运行状态，及时处理技术问题与故障，提供技术支持及工具使用培训。 |\n",
      "| IT部       | 谢宇     | 马云     | H803  | 037  | IT支撑     | IT专员         | 13800000037  | xieyu@educompany.com        | 支持公司软件系统的开发与更新，参与IT项目的计划与实施，撰写技术文档与使用说明，确保信息技术的安全性与有效性。 |\n",
      "| 绩效管理部 | 朱南     | 李飞     | I901  | 040  | 人力资源   | 绩效专员       | 13800000040  | zun@educompany.com          | 负责制定绩效考核体系，组织绩效评估的实施与反馈，撰写评估报告，分析绩效数据以提出优化建议，提供决策支持。 |\n",
      "| 绩效管理部 | 韩杉     | 李飞     | I902  | 041  | 人力资源   | 绩效专员       | 13800000041  | hanshan@educompany.com      | 建立并维护员工绩效档案，定期组织绩效评价会议，协调各部门反馈，制定考核流程与标准，确保绩效考核的有效执行与公正性。 |"
     ]
    },
    {
     "data": {
      "text/plain": [
       "'# 内容公司各部门职责与关键角色联系方式\\n\\n## 公司定位\\n\\n我们的公司致力于推动教育的数字化转型，专注于开发富有创意和互动性的在线学习平台与工具。我们结合最新的教育理论与技术创新，旨在提升学习者的参与度和学习效果。通过提供个性化学习体验，我们希望满足不同年龄段和背景的学习需求，助力教育公平和终身学习。我们的使命是使知识获取更加便捷、高效，让每个人都能充分发挥潜力。\\n\\n## 各部门介绍\\n\\n- **教研部**: 教育课程研究设计\\n- **课程开发部**: 技术内容需求开发\\n- **教材编写部**: 教材、练习题等内容汇编与修订\\n- **评估部**: 内容质量质检\\n- **市场部**: 市场活动营销\\n- **人力资源部**: 人力资源管理\\n- **IT部**: IT技术支撑\\n- **绩效管理部**: 人员绩效考核设计\\n\\n## 各部门关键角色联系人\\n\\n| 部门       | 员工姓名 | 员工主管 | 工位  | 工号 | 岗位       | 职位           | 电话          | 邮箱                        | 工作职责                                                                                   |\\n|------------|----------|----------|-------|------|------------|----------------|---------------|-----------------------------|--------------------------------------------------------------------------------------------|\\n| 教研部     | 张伟     | 李琳     | A101  | 001  | 内容设计   | 教研专员       | 13800000001  | zhangwei@educompany.com     | 负责教育课程的研究与开发，分析教学效果，整理教案，协助课程优化，以及参与教育项目的评估和反馈。 |\\n| 教研部     | 王芳     | 李琳     | A102  | 002  | 内容设计   | 教研专员       | 13800000002  | wangfang@educompany.com     | 负责制定学科教学方案，策划教学活动，编写教案，收集学生反馈，参与课程改进会议，提供专业意见。 |\\n| 教研部     | 刘杰     | 李琳     | A103  | 003  | 内容设计   | 教研专员       | 13800000003  | liujie@educompany.com       | 组织教研活动，分析教学成果，开展学术研究，协助撰写与研究报告，输出有效教学策略，提升课程品质。 |\\n| 课程开发部 | 李丽     | 王强     | B201  | 007  | 内容开发   | 课程开发专员   | 13800000007  | lili@educompany.com         | 设计并开发教育课程，撰写课程大纲，组织课程试点，分析市场需求，调整课程内容，以适应学习者的需求和反馈。 |\\n| 课程开发部 | 张伟     | 王强     | B202  | 008  | 内容开发   | 课程开发专员   | 13800000008  | zhangwei01@educompany.com   | 精细化课程设计，确保课程符合国家教育标准，撰写教具使用说明，协助教研部进行课程的前期调研与评估。 |\\n| 教材编写部 | 林涛     | 陈刚     | C303  | 014  | 内容开发   | 教材编写专员   | 13800000014  | lintao@educompany.com       | 负责教材配套习题的出题工作，进行习题难度分析与调整，开发辅助学习工具，参与教材整体编排与结构设计。 |\\n| 教材编写部 | 冯雪     | 陈刚     | C304  | 015  | 内容开发   | 教材编写专员   | 13800000015  | fengxue@educompany.com      | 主持教材的市场调研，分析不同阶段学生的学习需求，撰写教材使用报告，积极参与教材的试用和反馈收集，促进优化迭代。 |\\n| 评估部     | 邓琪     | 张晓     | D405  | 021  | 内容质检   | 评估专员       | 13800000021  | dengqi@educompany.com       | 协助评估项目相关文档整理，参与评估结果的反馈会议，提供数据支持，监督评估实施过程，确保评估的全面性与公正性。 |\\n| 市场部     | 郑刚     | 李明     | E504  | 025  | 市场营销   | 市场推广专员   | 13800000025  | zhenggang@educompany.com    | 开展市场竞品分析，收集行业动态信息，提供市场预测，协助制定销售目标和策略，定期撰写市场研究报告。 |\\n| 人力资源部 | 胡楠     | 马婷     | F603  | 028  | 人力资源   | 人力资源专员   | 13800000028  | hunan@educompany.com        | 制定员工职业发展路径，收集岗位需要的专业技能与知识，定期评估员工的职业发展现状，协助制定个性化职业发展计划。 |\\n| 人力资源部 | 熊伟     | 马婷     | F604  | 029  | 人力资源   | 人力资源专员   | 13800000029  | xiongwei@educompany.com     | 负责公司各项资源政策的实施与执行，分析人力资源数据以优化资源配置，提供决策支持，确保人力资源部门顺畅运作。 |\\n| 行政部     | 黎晗     | 蔡静     | G704  | 033  | 行政       | 行政专员       | 13800000033  | lihan@educompany.com        | 负责采购办公设备与耗材，登记与管理公司固定资产，协助实施绩效考核，提供行政管理与协调支持，优化行政工作流程。 |\\n| 行政部     | 秦飞     | 蔡静     | G705  | 034  | 行政       | 行政专员       | 13800000034  | qinf@educompany.com         | 维护公司档案与信息系统，负责公司通知及公告的发布，组织公司活动的前期准备与后期评估，确保公司各项工作的顺利进行。 |\\n| IT部       | 张伟     | 马云     | H802  | 036  | IT支撑     | IT专员         | 13800000036  | zhangwei036@educompany.com  | 进行公司网络及硬件设备的配置与维护，监控系统运行状态，及时处理技术问题与故障，提供技术支持及工具使用培训。 |\\n| IT部       | 谢宇     | 马云     | H803  | 037  | IT支撑     | IT专员         | 13800000037  | xieyu@educompany.com        | 支持公司软件系统的开发与更新，参与IT项目的计划与实施，撰写技术文档与使用说明，确保信息技术的安全性与有效性。 |\\n| 绩效管理部 | 朱南     | 李飞     | I901  | 040  | 人力资源   | 绩效专员       | 13800000040  | zun@educompany.com          | 负责制定绩效考核体系，组织绩效评估的实施与反馈，撰写评估报告，分析绩效数据以提出优化建议，提供决策支持。 |\\n| 绩效管理部 | 韩杉     | 李飞     | I902  | 041  | 人力资源   | 绩效专员       | 13800000041  | hanshan@educompany.com      | 建立并维护员工绩效档案，定期组织绩效评价会议，协调各部门反馈，制定考核流程与标准，确保绩效考核的有效执行与公正性。 |'"
      ]
     },
     "execution_count": 14,
     "metadata": {},
     "output_type": "execute_result"
    }
   ],
   "source": [
    "from dashscope import Generation\n",
    "\n",
    "def md_polisher(data):\n",
    "    messages = [\n",
    "        {'role': 'user', 'content': '下面这段文本是由pdf转为markdown的，格式和内容可能存在一些问题，需要你帮我优化下：\\n1、目录层级，如果目录层级顺序不对请以markdown形式补全或修改；\\n2、内容错误，如果存在上下文不一致的情况，请你修改下；\\n3、如果有表格，注意上下行不一致的情况；\\n4、输出文本整体应该与输入没有较大差异，不要自己制造内容，我是需要对原文进行润色；\\n4、输出格式要求：markdown文本，你的所有回答都应该放在一个markdown文件里面。\\n特别注意：只输出转换后的 markdown 内容本身，不输出任何其他信息。\\n需要处理的内容是：' + data}\n",
    "    ]\n",
    "    response = Generation.call(\n",
    "        model=\"qwen-plus\",\n",
    "        messages=messages,\n",
    "        result_format='message',\n",
    "        stream=True,\n",
    "        incremental_output=True\n",
    "    )\n",
    "    result = \"\"\n",
    "    for chunk in response:\n",
    "        print(chunk.output.choices[0].message.content, end='')\n",
    "        result += chunk.output.choices[0].message.content\n",
    "\n",
    "    return(result)\n",
    "\n",
    "md_polisher(md_content)"
   ]
  },
  {
   "cell_type": "markdown",
   "metadata": {},
   "source": [
    "通过上面的步骤，你已经成功地将 PDF 转成了 Markdown，并且修正了其中的格式问题。与此同时，即使文档中存在图片，图片中的信息也能被提取出来，以便构建更有利于检索效果的知识库。"
   ]
  },
  {
   "cell_type": "markdown",
   "metadata": {},
   "source": [
    "### 4.2 切片向量化与存储阶段\n",
    "\n",
    "文档切片后，我们还需要对其建立索引，以便后续检索。一个常见的方案是使用嵌入（Embedding）模型将切片向量化，并存储到向量数据库中。\n",
    "\n",
    "在这一阶段，你需要选择合适的 Embedding 模型以及向量数据库，这对于提升检索效果至关重要。\n",
    "\n",
    "#### 4.2.1 了解 Embedding 与向量化\n",
    "Embedding 模型可以将文本转换为高维向量，用于表示文本语义，相似的文本会映射到相近的向量上，检索时可以根据问题的向量找到相似度高的文档切片。\n",
    "<style>\n",
    "  table.no-border,\n",
    "  table.no-border td {\n",
    "    border: none;\n",
    "    vertical-align: top;\n",
    "  }  \n",
    "  .note {\n",
    "    color: #999;\n",
    "    font-size: 0.8em;\n",
    "  }  \n",
    "</style>\n",
    "<div class=\"note\">\n",
    "  <p>\n",
    "    <i>平面坐标系中的有向线段是 2 维向量。例如，从原点 (0, 0) 到 A (xa, ya) 的有向线段可以称为向量 A。向量 A 与向量 B 之间的夹角越小，也就意味着其相似度越高。</i>  \n",
    "  </p>  \n",
    "  <img src=\"https://img.alicdn.com/imgextra/i2/O1CN01DkQ8nK1Z60EgwJq9S_!!6000000003144-0-tps-1556-1382.jpg\" width=\"200\" style=\"opacity: 0.4\"></td>\n",
    "</div>"
   ]
  },
  {
   "cell_type": "code",
   "execution_count": 48,
   "metadata": {},
   "outputs": [
    {
     "name": "stdout",
     "output_type": "stream",
     "text": [
      "A 与 B 的余弦相似度: 0.987241120712647\n",
      "B 与 C 的余弦相似度: 0.6050832675335579\n"
     ]
    }
   ],
   "source": [
    "import numpy as np\n",
    "\n",
    "def cosine_similarity(a, b):\n",
    "    \"\"\"余弦相似度\"\"\"\n",
    "    return np.dot(a, b) / (np.linalg.norm(a) * np.linalg.norm(b))\n",
    "\n",
    "# 示例向量\n",
    "a = np.array([0.2, 0.8])\n",
    "b = np.array([0.3, 0.7])\n",
    "c = np.array([0.8, 0.2])\n",
    "\n",
    "print(f\"A 与 B 的余弦相似度: {cosine_similarity(a, b)}\")\n",
    "print(f\"B 与 C 的余弦相似度: {cosine_similarity(b, c)}\")"
   ]
  },
  {
   "cell_type": "markdown",
   "metadata": {},
   "source": [
    "#### 4.2.2 选择合适的 Embedding 模型\n",
    "不同的 Embedding 模型对相同的几段文字进行计算时，得到的向量可能会完全不同。通常越新的 Embedding 模型，其表现越好。例如前文中使用的是阿里云百炼上提供的 text-embedding-v2。如果你换成更新的版本 [text-embedding-v3](https://help.aliyun.com/zh/model-studio/user-guide/embedding)，你会发现即使不去做前面的优化，检索效果也会有一定的提升。\n",
    "\n",
    "比如运行下面的代码可以看到，不同版本的 Embedding 模型，对于「张伟是哪个部门的」这个问题和不同文档切片的相似度也是不同的。"
   ]
  },
  {
   "cell_type": "code",
   "execution_count": 47,
   "metadata": {},
   "outputs": [
    {
     "name": "stdout",
     "output_type": "stream",
     "text": [
      "query: 张伟是哪个部门的\n",
      "chunk_1: 核，提供⾏政管理与协调⽀持，优化⾏政⼯作流程。 ⾏政部 秦⻜ 蔡静 G705 034 ⾏政 ⾏政专员 13800000034 qinf@educompany.com 维护公司档案与信息系统，负责公司通知及公告的发布\n",
      "chunk_2: 组织公司活动的前期准备与后期评估，确保公司各项⼯作的顺利进⾏。 IT部 张伟 ⻢云 H802 036 IT⽀撑 IT专员 13800000036 zhangwei036@educompany.com 进⾏公司⽹络及硬件设备的配置\n",
      "\n",
      "=== text-embedding-v2 ===\n",
      "query 和 chunk_1 的相似度: 0.3689517525912472\n",
      "query 和 chunk_2 的相似度: 0.25767606999575354\n",
      "=== text-embedding-v3 ===\n",
      "query 和 chunk_1 的相似度: 0.49452193642238024\n",
      "query 和 chunk_2 的相似度: 0.5603671453781736\n"
     ]
    }
   ],
   "source": [
    "from llama_index.embeddings.dashscope import DashScopeEmbedding\n",
    "\n",
    "query = \"张伟是哪个部门的\"\n",
    "chunk_1 = \"核，提供⾏政管理与协调⽀持，优化⾏政⼯作流程。 ⾏政部 秦⻜ 蔡静 G705 034 ⾏政 ⾏政专员 13800000034 qinf@educompany.com 维护公司档案与信息系统，负责公司通知及公告的发布\"\n",
    "chunk_2 = \"组织公司活动的前期准备与后期评估，确保公司各项⼯作的顺利进⾏。 IT部 张伟 ⻢云 H802 036 IT⽀撑 IT专员 13800000036 zhangwei036@educompany.com 进⾏公司⽹络及硬件设备的配置\"\n",
    "\n",
    "text_embedding_v2 = DashScopeEmbedding(model_name=\"text-embedding-v2\")\n",
    "text_embedding_v3 = DashScopeEmbedding(model_name=\"text-embedding-v3\")\n",
    "\n",
    "print(f\"query: {query}\")\n",
    "print(f\"chunk_1: {chunk_1}\")\n",
    "print(f\"chunk_2: {chunk_2}\")\n",
    "\n",
    "print(\"\\n=== text-embedding-v2 ===\")\n",
    "print(f\"\"\"query 和 chunk_1 的相似度: {cosine_similarity(text_embedding_v2.get_text_embedding(query), text_embedding_v2.get_text_embedding(chunk_1))}\"\"\")\n",
    "print(f\"\"\"query 和 chunk_2 的相似度: {cosine_similarity(text_embedding_v2.get_text_embedding(query), text_embedding_v2.get_text_embedding(chunk_2))}\"\"\")\n",
    "\n",
    "print(\"=== text-embedding-v3 ===\")\n",
    "print(f\"\"\"query 和 chunk_1 的相似度: {cosine_similarity(text_embedding_v3.get_query_embedding(query), text_embedding_v3.get_text_embedding(chunk_1))}\"\"\")\n",
    "print(f\"\"\"query 和 chunk_2 的相似度: {cosine_similarity(text_embedding_v3.get_query_embedding(query), text_embedding_v3.get_text_embedding(chunk_2))}\"\"\")"
   ]
  },
  {
   "cell_type": "markdown",
   "metadata": {},
   "source": [
    "另外，通用的 Embedding 模型是基于通用领域语料训练，可能并不适合某些细分垂直领域，如医学、金融、法律。因为这些领域有特定的术语和复杂知识结构。为解决这一问题，通常需要在专业数据上训练专门的 Embedding 模型，或者对通用模型进行微调，以提高其在特定领域的表现。"
   ]
  },
  {
   "cell_type": "markdown",
   "metadata": {},
   "source": [
    "#### 4.2.3 选择合适的向量数据库\n",
    "\n",
    "文档切片转为向量后，需要持久化存储下来，用于后续检索。目前构建的答疑机器人中，使用的是 LlamaIndex 内置的内存向量存储。实际生产环境中，选择一个合适的向量数据库是更好的选择。\n",
    "\n",
    "很多向量数据库除了向量相似度检索外，还支持基于元数据标签过滤（也称标量检索）。如果你的知识库里有很多相似的内容（比如前面的岗位说明里有，每个岗位都有注意事项），就可以结合标量检索进一步缩小检索范围，让检索更准确。\n",
    "\n",
    "阿里云上有很多云服务提供了向量存储与检索能力，你可以结合具体业务需求、既有资源情况以及人员能力来选择合适的向量数据库：\n",
    "\n",
    "1. 如果你是第一次构建 RAG 应用，并且希望控制初期投入成本，你可以选择 [向量检索服务（DashVector）](https://www.aliyun.com/product/ai/dashvector) 。DashVecctor支持按实际调用量、存储量付费，能有效降低初期投入成本，并且能自动扩展以应对业务增长。\n",
    "   \n",
    "2. 如果已经在使用一些开源向量数据库，如 Milvus，则可以选择 [向量检索服务 Milvus 版](https://www.aliyun.com/product/milvus)。你可以方便的将数据迁移到阿里云上的向量检索服务 Milvus 版，并且无需关注 Milvus 数据的运维。\n",
    "   \n",
    "3. 如果你已经在使用阿里云上的数据库、搜索类产品，也可以使用这些产品所支持的向量存储与检索能力，无需购买额外资源：比如云数据库 RDS、云数据库 PolarDB、云原生多模数据库 Lindorm、云数据库 Redis、表格存储、智能开放搜索 OpenSearch、检索分析服务 Elasticsearch版 等都支持向量存储与检索。\n",
    "\n",
    "\n",
    "<figure align=\"center\">\n",
    "  <img src=\"https://img.alicdn.com/imgextra/i4/O1CN01ked0xy1y2DM02aWzJ_!!6000000006520-0-tps-1942-932.jpg\" width=\"600\"/>\n",
    "  <figcaption style=\"color: #999\">DashVectory 中支持 age、name 等标签过滤 + 向量相似度检索</figcaption>\n",
    "</figure>"
   ]
  },
  {
   "cell_type": "markdown",
   "metadata": {},
   "source": [
    "### 4.3 检索召回阶段\n",
    "\n",
    "检索阶段会遇到的主要问题就是，很难从众多文档切片中，找出和用户问题最相关、且包含正确答案信息的片段。\n",
    "\n",
    "从切入时机来看，可以将解法分为两大类：\n",
    "\n",
    "1. 在执行检索前，很多用户问题描述是不完整、甚至有歧义的，你需要想办法还原用户真实意图，以便提升检索效果。\n",
    "2. 在执行检索后，你可能会发现会存在一些无关的信息，需要想办法减少无关信息，避免干扰下一步的答案生成。\n",
    "\n",
    "\n",
    "<style>\n",
    "  .note {\n",
    "    color: #999;\n",
    "    font-size: 0.9em;\n",
    "  }\n",
    "</style>\n",
    "<table>\n",
    "  <tr>\n",
    "    <th>时机</th>\n",
    "    <th>改进策略</th>  \n",
    "    <th>示例</th>  \n",
    "  </tr>\n",
    "  <tr>\n",
    "    <td rowspan=\"7\">检索前</td>\n",
    "    <td>问题改写<br><i class=\"note\">通过重新表达，让问题更匹配数据库中的信息</i></td>\n",
    "    <td>「附近有好吃的餐厅吗？」=> 「请推荐我附近的几家评价较高的餐厅」</td>\n",
    "  </tr>\n",
    "  <tr>    \n",
    "    <td>问题扩写<br><i class=\"note\">通过增加更多信息，让检索结果更全面</i></td>\n",
    "    <td>「张伟是哪个部门的？」=> 「张伟是哪个部门的？他的联系方式、职责范围、工作目标是什么？」</td>\n",
    "  </tr>\n",
    "  <tr>    \n",
    "    <td>基于用户画像扩展上下文<br><i class=\"note\">结合用户信息、行为等数据扩写问题</i></td>\n",
    "    <td><p>内容工程师提问「工作注意事项」=> 「内容工程师有哪些工作注意事项」</p><p>项目经理提问「工作注意事项」=> 「项目经理有哪些工作注意事项」</p></td>\n",
    "  </tr>\n",
    "  <tr>    \n",
    "    <td>提取标签<br><i class=\"note\">提取标签，用于后续标签过滤+向量相似度检索</i></td>\n",
    "    <td>「内容工程师有哪些工作注意事项」=> <ul><li>标签过滤：{\"岗位\": \"内容工程师\"}</li><li>向量检索：「内容工程师有哪些工作注意事项」</li></ul></td>\n",
    "  </tr>  \n",
    "  <tr>    \n",
    "    <td>反问用户</td>\n",
    "    <td>「工作职责是什么」=> 大模型反问：「请问你想了解那个岗位的工作职责」  <br>\n",
    "      <i class=\"note\">实现反问的提示词可以参考：<a href=\"https://help.aliyun.com/zh/model-studio/use-cases/create-an-ai-shopping-assistant\" target=\"blank\">10分钟构建能主动提问的智能导购</a></i>\n",
    "    </td>      \n",
    "  </tr>  \n",
    "  <tr>    \n",
    "    <td>思考并规划多次检索</td>\n",
    "    <td>\n",
    "      「张伟不在，可以找谁」<br>\n",
    "      => 大模型思考规划： <br> \n",
    "      => task_1：张伟的职责是什么, task_2：${task_1_result}职责的人有谁<br>\n",
    "      => 按顺序执行多次检索\n",
    "    </td>      \n",
    "  </tr>  \n",
    "  <tr>\n",
    "    <td>...</td>\n",
    "    <td>...</td>\n",
    "  </tr>\n",
    "  <tr>\n",
    "    <td rowspan=\"7\">检索后</td>\n",
    "    <td>重排序 ReRank + 过滤<br><i class=\"note\">多数向量数据库会考虑效率，牺牲一定精确度，召回的切片中可能有一些实际相关性不够高</i></td>\n",
    "    <td>chunk1、chunk2...、chunk10 <br>=> chunk 2、chunk4、chunk5</td>\n",
    "  </tr>\n",
    "  <tr>\n",
    "    <td>滑动窗口检索<br><i class=\"note\">在检索到一个切片后，补充前后相邻的若干个切片，让信息更完整，因为相邻的切片语义可能是比较相关的。</i></td>\n",
    "    <td><p>常见的实现是句子滑动窗口。</p>例如，原始文本：「<span class=\"note\">我们将在下周举行一次会议。</span>会议的主题是公司未来的发展方向。<span class=\"note\">希望大家都能积极参与并提出自己的看法。</span>」<br> <br> 检索到的句子：「会议的主题是公司未来的发展方向。」 <br><br> 补充相邻的句子后：「<span class=\"note\">我们将在下周举行一次会议。</span>会议的主题是公司未来的发展方向。<span class=\"note\">希望大家都能积极参与并提出自己的看法。</span>」\n",
    "    <br> \n",
    "    </td>\n",
    "  </tr>  \n",
    "  <tr>\n",
    "    <td>...</td>\n",
    "    <td>...</td>\n",
    "  </tr>\n",
    "</table>"
   ]
  },
  {
   "cell_type": "markdown",
   "metadata": {},
   "source": [
    "#### 4.3.1 改进策略参考实现 - 提取标签\n",
    "\n",
    "在 RAG 应用开发过程中，你可以使用大模型来提取标签，以便提升后续检索效果。\n",
    "\n",
    "比如，你可以使用百炼上提供的 qwen-turbo，其成本低、速度快，适用于标签提取这种推理复杂度不高的场景。"
   ]
  },
  {
   "cell_type": "code",
   "execution_count": 68,
   "metadata": {},
   "outputs": [
    {
     "name": "stdout",
     "output_type": "stream",
     "text": [
      "[{\"key\": \"岗位名称\", \"value\": \"内容工程师\"}]\n",
      "[{\"key\": \"部门名称\", \"value\": \"课程开发部\"}, {\"key\": \"岗位名称\", \"value\": \"内容工程师\"}]\n",
      "[{\"key\": \"部门名称\", \"value\": null}]\n",
      "[]\n"
     ]
    }
   ],
   "source": [
    "import os\n",
    "from openai import OpenAI\n",
    "\n",
    "client = OpenAI(api_key=os.getenv(\"DASHSCOPE_API_KEY\"), base_url=\"https://dashscope.aliyuncs.com/compatible-mode/v1\")\n",
    "\n",
    "system_message = \"\"\"你是一个标签提取专家，请按照下面的要求，从用户问题中提取标签信息。\n",
    "---\n",
    "【目前支持的标签】\n",
    "- 岗位名称\n",
    "- 部门名称\n",
    "---\n",
    "【输出要求】\n",
    "1. 请用 json 输出，如：[{\"key\": \"部门名称\", \"value\": \"教研部\"}]、[]\n",
    "2. 识别不出来时，value 可以为 null\n",
    "---\n",
    "用户的问题如下：\n",
    "\"\"\"\n",
    "\n",
    "def extract_tags(question):\n",
    "  completion = client.chat.completions.create(\n",
    "      # 模型列表：https://help.aliyun.com/zh/model-studio/getting-started/models\n",
    "      model=\"qwen-turbo\",\n",
    "      messages=[\n",
    "          {'role': 'system', 'content': system_message},\n",
    "          {'role': 'user', 'content': question}\n",
    "      ],\n",
    "      # 确保生成结果是 JSON 格式，以便后续流程解析使用\n",
    "      response_format={\"type\": \"json_object\"}\n",
    "  )\n",
    "  return completion.choices[0].message.content\n",
    "\n",
    "print(extract_tags('内容工程师的工作职责是什么'))\n",
    "print(extract_tags('课程开发部的内容工程师的工作职责是什么'))\n",
    "print(extract_tags('张伟是哪个部门的'))\n",
    "print(extract_tags('张伟是谁'))"
   ]
  },
  {
   "cell_type": "markdown",
   "metadata": {},
   "source": [
    "当然，在实际使用时，还需要在建立索引阶段，将文档切片向量加上对应的标签存入向量数据库，才能在检索时使用向量 + 标量的联合检索。"
   ]
  },
  {
   "cell_type": "markdown",
   "metadata": {},
   "source": [
    "#### 4.3.2 改进策略参考实现 - 重排序\n",
    "\n"
   ]
  },
  {
   "cell_type": "markdown",
   "metadata": {},
   "source": [
    "我们可以删除前面构建的 markdown 文件，来复现本章节最开始回答不好「张伟是哪个部门的」的状态。"
   ]
  },
  {
   "cell_type": "code",
   "execution_count": null,
   "metadata": {},
   "outputs": [],
   "source": [
    "!rm ./docs/内容公司各部门职责与关键角色联系信息汇总.md"
   ]
  },
  {
   "cell_type": "markdown",
   "metadata": {},
   "source": [
    "删除文件后，可以执行下面的代码。可以看到，我们设置了从向量数据库中检索召回 3 条相关的文档切片。\n",
    "\n",
    "从结果上来看，这 3 条切片，事实上不够相关，问答机器人无法正确回答「张伟是哪个部门的」。"
   ]
  },
  {
   "cell_type": "code",
   "execution_count": 50,
   "metadata": {},
   "outputs": [
    {
     "name": "stdout",
     "output_type": "stream",
     "text": [
      "提问：张伟是哪个部门的\n",
      "回答：根据提供的参考信息，没有找到名为张伟的员工信息。如果您能提供更多详细信息，例如部门名称或其他联系方式，我可以帮助您进一步查找。\n",
      "\n",
      "检索召回的参考信息如下：\n",
      "Node ID: 4165d466-ae2d-45da-9e2f-597b43528944\n",
      "Text: 核，提供⾏政管理与协调⽀持，优化⾏政⼯作流程。  ⾏政部 秦⻜ 蔡静 G705 034 ⾏政 ⾏政专员 13800000034\n",
      "qinf@educompany.com 维护公司档案与信息系统，负责公司通知及公告的发布，\n",
      "Score:  0.171\n",
      "\n",
      "Node ID: 2fd56095-4c84-468d-8e79-f353aa99983f\n",
      "Text: ⽀持。  绩效管理部 韩杉 李⻜ I902 041 ⼈⼒资源 绩效专员 13800000041\n",
      "hanshan@educompany.com 建⽴并维护员⼯绩效档案，定期组织绩效评价会议，协调各部⻔反馈，制定考核流程与标准，确保绩效\n",
      "Score:  0.169\n",
      "\n",
      "Node ID: 58b7012c-d8c9-41ab-9554-fd0c5912ceca\n",
      "Text: 效管理部 南 ⻜ 0 ⼒资源 效专员 0\n",
      "责制定绩效考核体系，组织绩效评估的实施与反馈，撰写评估报告，分析绩效数据以提出优化建议，提供决策\n",
      "Score:  0.154\n",
      "\n"
     ]
    }
   ],
   "source": [
    "from llama_index.llms.dashscope import DashScope\n",
    "from chatbot import rag\n",
    "\n",
    "index = rag.create_index('./docs')\n",
    "query_engine = index.as_query_engine(\n",
    "    llm=DashScope(model_name=\"qwen-plus\"),\n",
    "    similarity_top_k=3,\n",
    "    streaming=True,\n",
    ")\n",
    "\n",
    "response = ask(\"张伟是哪个部门的\", query_engine=query_engine)"
   ]
  },
  {
   "cell_type": "code",
   "execution_count": 51,
   "metadata": {},
   "outputs": [
    {
     "name": "stderr",
     "output_type": "stream",
     "text": [
      "Evaluating: 100%|██████████| 3/3 [00:41<00:00, 13.73s/it]\n"
     ]
    },
    {
     "data": {
      "text/html": [
       "<div>\n",
       "<style scoped>\n",
       "    .dataframe tbody tr th:only-of-type {\n",
       "        vertical-align: middle;\n",
       "    }\n",
       "\n",
       "    .dataframe tbody tr th {\n",
       "        vertical-align: top;\n",
       "    }\n",
       "\n",
       "    .dataframe thead th {\n",
       "        text-align: right;\n",
       "    }\n",
       "</style>\n",
       "<table border=\"1\" class=\"dataframe\">\n",
       "  <thead>\n",
       "    <tr style=\"text-align: right;\">\n",
       "      <th></th>\n",
       "      <th>question</th>\n",
       "      <th>answer</th>\n",
       "      <th>ground_truth</th>\n",
       "      <th>contexts</th>\n",
       "      <th>answer_correctness</th>\n",
       "      <th>context_recall</th>\n",
       "      <th>context_precision</th>\n",
       "    </tr>\n",
       "  </thead>\n",
       "  <tbody>\n",
       "    <tr>\n",
       "      <th>0</th>\n",
       "      <td>张伟是哪个部门的</td>\n",
       "      <td>根据提供的参考信息，没有找到名为张伟的员工信息。如果您能提供更多详细信息，例如部门名称或其他...</td>\n",
       "      <td>公司有三名张伟，分别是：\\n- 教研部的张伟：职位是教研专员，邮箱 zhangwei@edu...</td>\n",
       "      <td>[核，提供⾏政管理与协调⽀持，优化⾏政⼯作流程。 \\n⾏政部 秦⻜ 蔡静 G705 034 ...</td>\n",
       "      <td>0.186401</td>\n",
       "      <td>0.0</td>\n",
       "      <td>0.0</td>\n",
       "    </tr>\n",
       "  </tbody>\n",
       "</table>\n",
       "</div>"
      ],
      "text/plain": [
       "   question                                             answer  \\\n",
       "0  张伟是哪个部门的  根据提供的参考信息，没有找到名为张伟的员工信息。如果您能提供更多详细信息，例如部门名称或其他...   \n",
       "\n",
       "                                        ground_truth  \\\n",
       "0  公司有三名张伟，分别是：\\n- 教研部的张伟：职位是教研专员，邮箱 zhangwei@edu...   \n",
       "\n",
       "                                            contexts  answer_correctness  \\\n",
       "0  [核，提供⾏政管理与协调⽀持，优化⾏政⼯作流程。 \\n⾏政部 秦⻜ 蔡静 G705 034 ...            0.186401   \n",
       "\n",
       "   context_recall  context_precision  \n",
       "0             0.0                0.0  "
      ]
     },
     "execution_count": 51,
     "metadata": {},
     "output_type": "execute_result"
    }
   ],
   "source": [
    "evaluate_result(question, response, ground_truth)"
   ]
  },
  {
   "cell_type": "markdown",
   "metadata": {},
   "source": [
    "我们可以调整代码，先从向量数据库中检索召回 20 条文档切片，再借助阿里云百炼提供的[文本排序模型](https://help.aliyun.com/zh/model-studio/getting-started/models#eafbfdceb7n03)进行重排序，并且筛选出其中最相关的 3 条参考信息。\n",
    "\n",
    "运行代码后你可以看到，同样是 3 条参考信息，这次大模型能够准确回答问题了。"
   ]
  },
  {
   "cell_type": "code",
   "execution_count": 52,
   "metadata": {},
   "outputs": [
    {
     "name": "stdout",
     "output_type": "stream",
     "text": [
      "提问：张伟是哪个部门的\n",
      "回答：公司中有三位名叫张伟的员工，分别隶属于不同的部门：\n",
      "\n",
      "1. 教研部的张伟，岗位为内容设计教研专员。\n",
      "2. 课程开发部的张伟，岗位为内容开发课程开发专员。\n",
      "3. IT部的张伟，岗位为IT支撑IT专员。\n",
      "\n",
      "请问您需要了解哪一位张伟的信息？\n",
      "\n",
      "检索召回的参考信息如下：\n",
      "Node ID: 9ebe53cb-6dc2-4384-8ef1-b95d2fba0d91\n",
      "Text: 组织公司活动的前期准备与后期评估，确保公司各项⼯作的顺利进⾏。  IT部 张伟 ⻢云 H802 036 IT⽀撑 IT专员\n",
      "13800000036 zhangwei036@educompany.com 进⾏公司⽹络及硬件设备的配置\n",
      "Score:  0.638\n",
      "\n",
      "Node ID: 487d986f-d9bd-46d6-b231-4c61a41a56d0\n",
      "Text: 内容公司各部⻔职责与关键⻆⾊联系⽅式 公司定位\n",
      "我们的公司致⼒于推动教育的数字化转型，专注于开发富有创意和互动性的在线学习平台与⼯具。 我们结合最新的教育理论与技术创新，\n",
      "旨在提升学习者的参与度和学习效果。 通过提供个性化学习体验， 我们希望满⾜不同年龄段和背景的学习需求，\n",
      "助⼒教育公平和终⾝学习。我们的使命是使知识获取更加便捷、⾼效，让每个⼈都能充分发挥潜⼒。 各部⻔介绍 教研部：教育课程研究设计\n",
      "课程开发部：技术内容需求开发 教材编写部：教材、练习题等内容汇编与修订 评估部：内容质量质检 市场部：市场活动营销 ⼈⼒资源部：⼈⼒资源管理\n",
      "IT部：IT技术⽀撑 绩效管理部：⼈员绩效考核设计 各部⻔关键⻆⾊联系⼈ 部⻔ 员⼯姓名 员⼯主管 ⼯位 ⼯号 岗位 职位 电话 邮箱\n",
      "⼯作职责 教...\n",
      "Score:  0.574\n",
      "\n",
      "Node ID: 4d5ca6e1-0802-4202-8c36-bea2e6c961d2\n",
      "Text: 点，分析市场需求，调整课程内容，以适应学习者的需求和反馈。  课程开发部 张伟 王强 B202 008 内容开发 课程开发专员\n",
      "13800000008 zhangwei01@educompany.com 精细化课程设计，确保课程符合国家教育标\n",
      "Score:  0.551\n",
      "\n"
     ]
    }
   ],
   "source": [
    "from llama_index.postprocessor.dashscope_rerank import DashScopeRerank\n",
    "from llama_index.core.postprocessor import SimilarityPostprocessor\n",
    "\n",
    "query_engine = index.as_query_engine(\n",
    "    llm=DashScope(model_name=\"qwen-plus\"),\n",
    "    # 先设置一个较大的召回切片数量\n",
    "    similarity_top_k=20,\n",
    "    streaming=True,\n",
    "    node_postprocessors=[\n",
    "        # 在rerank 模型中选择你最终想召回的切片个数，重排模型选择通义实验室的gte-rerank模型\n",
    "        DashScopeRerank(top_n=3, model=\"gte-rerank\"),\n",
    "        # 设置一个相似度阈值，低于该阈值的切片会被过滤掉\n",
    "        SimilarityPostprocessor(similarity_cutoff=0.2)\n",
    "    ]\n",
    ")\n",
    "\n",
    "response = ask(\"张伟是哪个部门的\", query_engine=query_engine)"
   ]
  },
  {
   "cell_type": "code",
   "execution_count": 53,
   "metadata": {},
   "outputs": [
    {
     "name": "stderr",
     "output_type": "stream",
     "text": [
      "Evaluating: 100%|██████████| 3/3 [01:09<00:00, 23.12s/it]\n"
     ]
    },
    {
     "data": {
      "text/html": [
       "<div>\n",
       "<style scoped>\n",
       "    .dataframe tbody tr th:only-of-type {\n",
       "        vertical-align: middle;\n",
       "    }\n",
       "\n",
       "    .dataframe tbody tr th {\n",
       "        vertical-align: top;\n",
       "    }\n",
       "\n",
       "    .dataframe thead th {\n",
       "        text-align: right;\n",
       "    }\n",
       "</style>\n",
       "<table border=\"1\" class=\"dataframe\">\n",
       "  <thead>\n",
       "    <tr style=\"text-align: right;\">\n",
       "      <th></th>\n",
       "      <th>question</th>\n",
       "      <th>answer</th>\n",
       "      <th>ground_truth</th>\n",
       "      <th>contexts</th>\n",
       "      <th>answer_correctness</th>\n",
       "      <th>context_recall</th>\n",
       "      <th>context_precision</th>\n",
       "    </tr>\n",
       "  </thead>\n",
       "  <tbody>\n",
       "    <tr>\n",
       "      <th>0</th>\n",
       "      <td>张伟是哪个部门的</td>\n",
       "      <td>公司中有三位名叫张伟的员工，分别隶属于不同的部门：\\n\\n1. 教研部的张伟，岗位为内容设计...</td>\n",
       "      <td>公司有三名张伟，分别是：\\n- 教研部的张伟：职位是教研专员，邮箱 zhangwei@edu...</td>\n",
       "      <td>[组织公司活动的前期准备与后期评估，确保公司各项⼯作的顺利进⾏。 \\nIT部 张伟 ⻢云 H...</td>\n",
       "      <td>0.68934</td>\n",
       "      <td>1.0</td>\n",
       "      <td>1.0</td>\n",
       "    </tr>\n",
       "  </tbody>\n",
       "</table>\n",
       "</div>"
      ],
      "text/plain": [
       "   question                                             answer  \\\n",
       "0  张伟是哪个部门的  公司中有三位名叫张伟的员工，分别隶属于不同的部门：\\n\\n1. 教研部的张伟，岗位为内容设计...   \n",
       "\n",
       "                                        ground_truth  \\\n",
       "0  公司有三名张伟，分别是：\\n- 教研部的张伟：职位是教研专员，邮箱 zhangwei@edu...   \n",
       "\n",
       "                                            contexts  answer_correctness  \\\n",
       "0  [组织公司活动的前期准备与后期评估，确保公司各项⼯作的顺利进⾏。 \\nIT部 张伟 ⻢云 H...             0.68934   \n",
       "\n",
       "   context_recall  context_precision  \n",
       "0             1.0                1.0  "
      ]
     },
     "execution_count": 53,
     "metadata": {},
     "output_type": "execute_result"
    }
   ],
   "source": [
    "evaluate_result(question, response, ground_truth)"
   ]
  },
  {
   "cell_type": "markdown",
   "metadata": {},
   "source": [
    "### 4.4 生成答案阶段\n"
   ]
  },
  {
   "cell_type": "markdown",
   "metadata": {},
   "source": [
    "大模型最终生成的答案可能还是不及预期。你遇到的问题可能会有：\n",
    "\n",
    "1. 没有检索到相关信息，大模型捏造答案。\n",
    "2. 检索到了相关信息，但是大模型没有按照要求生成答案。\n",
    "3. 检索到了相关信息，大模型也给出了答案，但是你希望 AI 给出更全面的答案。\n",
    "\n",
    "\n",
    "为了解决这些问题，你可以从以下角度着手分析与解决：\n",
    "\n",
    "1. 选择合适的大模型：\n",
    "   \n",
    "   1. 如果只是简单的信息查询总结，小参数量的模型足以满足需求，比如 [qwen-turbo](https://help.aliyun.com/zh/model-studio/getting-started/models#ff492e2c10lub)。\n",
    "   \n",
    "   2. 如果你希望答疑机器人能完成较为复杂的逻辑推理，建议选择参数量更大、推理能力更强的大模型，比如 [qwen-plus](https://help.aliyun.com/zh/model-studio/getting-started/models#bb0ffee88bwnk) 甚至是 [qwen-max](https://help.aliyun.com/zh/model-studio/getting-started/models#cf6cc4aa2aokf)。\n",
    "   \n",
    "   3. 如果你构建的 RAG 应用面向一些非通用领域，如法律领域，建议使用面向特定领域训练的模型，如[通义法睿](https://help.aliyun.com/zh/model-studio/getting-started/models#f0436273ef1xm)。\n",
    "\n",
    "2. 充分优化提示词模板，比如：\n",
    "\n",
    "    1. 明确要求：你可以在提示词对于捏造答案（幻觉）的情况，你可以通过提示词要求大模型：「如果所提供的信息不足以回答问题，请明确告知“根据现有信息，我无法回答这个问题。”切勿编造答案。」\n",
    "\n",
    "    2. 使用分隔符：检索召回的文档切片如果随意混杂在提示词里，人也很难看清整个提示词的结构，大模型也会受到干扰。建议将提示词和检索切片明确的分开，以便大模型能够正确地理解你的意图。\n",
    "\n",
    "    3. 动态提示词模板：不同问题的回答范式可能是不同的，你可以借助大模型识别问题类型，然后映射使用不同的提示词模板。比如有些问题，你希望大模型先输出整体框架，然后再输出细节；有些问题你可能希望大模型言简意赅的给出结论。\n",
    "\n",
    "3. 调整大模型的参数，比如：\n",
    "\n",
    "      1. 如果你希望大模型输出在相同的问题下，输出的内容尽可能相同，你可以在每次模型调用时传入相同的seed值。\n",
    "      \n",
    "      2. 如果你希望大模型在回答用户问题时不要总是用重复的句子，你可以适当调高 presence_penalty 值。\n",
    "\n",
    "      3. 你也可以查阅[通义千问 API Reference]([presence_penalty](https://help.aliyun.com/zh/model-studio/developer-reference/use-qwen-by-calling-api))，来了解更多参数的使用说明。\n",
    "\n",
    "4. 调优大模型：如果上述方法都做了充分的尝试，仍然不及预期，或者希望有更进一步的效果提升，你也可以尝试面向你的场景调优一个模型。在后续的章节中，我们将一起学习和实践这一点。\n",
    "      "
   ]
  },
  {
   "cell_type": "markdown",
   "metadata": {},
   "source": [
    "## ✅ 本节小结\n",
    "\n",
    "通过前面的学习，你已经了解了一个简单 RAG 的工作流程，以及常见优化手段。你也可以结合前面学习到的知识，结合实际需求，将不同的问题，路由到不同的 RAG 应用中，以构建一个能力更强大的模块化 RAG 应用。当然，RAG 的优化手段远不止课程中介绍的这些，业内关于 RAG 的研究和探索也在持续进行，建议你持续保持了解和学习。\n",
    "\n",
    "另外，从前面的学习可以看到，构建一个完善、表现足够好的 RAG 应用并不简单。\n",
    "\n",
    "而在实际工作中，你可能需要更快的捕捉业务机会，没有时间投入到这些细节完善中。借助百炼，你可以快速构建一个效果比较好的 RAG 应用，而不去关注这么多细节。\n",
    "\n",
    "- 比如，你可以参考这篇文档来[0代码构建私有知识问答应用](https://help.aliyun.com/zh/model-studio/getting-started/build-knowledge-base-qa-assistant-without-coding)，使用默认配置即可获得一个效果不错的 RAG 应用。\n",
    "\n",
    "- 如果你的业务流程比较复杂，也可以借助百炼上的[可视化工作流、智能体编排](https://help.aliyun.com/zh/model-studio/user-guide/application-introduction)，来构建一个更强大的应用。\n",
    "  \n",
    "- 同时，百炼也提供了一系列 [LlamaIndex 组件](https://help.aliyun.com/zh/model-studio/developer-reference/llamaindex/)，方便你充分利用百炼的能力的同时，可以继续使用熟悉的 LlamaIndex API 构建 RAG 应用。\n",
    "\n",
    "\n",
    "此外，通过前面的学习，你应该也能发现，大模型不只是可以用于构建问答系统。借助大模型识别用户意图、提取结构化信息（比如前面的根据用户问题提取标签），也能在很多其他应用场景中发挥作用。"
   ]
  },
  {
   "cell_type": "markdown",
   "metadata": {},
   "source": [
    "## 🔥 课后小测验\n",
    "\n",
    "\n",
    "【单选题】在RAG应用中，文档切片的长度和内容对检索效果有很大影响。如果文档切片长度过大，导致引入过多的干扰信息，应该如何处理？\n",
    "\n",
    "A. 增加文档的数量\n",
    "\n",
    "B. 减少切片长度，或根据业务特点开发更合理的切片策略\n",
    "\n",
    "C. 使用更高级的检索算法\n",
    "\n",
    "D. 提升大模型的训练水平\n",
    "\n",
    "答案：B"
   ]
  },
  {
   "cell_type": "markdown",
   "metadata": {},
   "source": [
    "## ✉️ 评价反馈\n",
    "感谢你学习阿里云大模型ACP认证课程，如果你觉得课程有哪里写得好、哪里写得不好，期待你[通过问卷提交评价和反馈](https://survey.aliyun.com/apps/zhiliao/Mo5O9vuie)。\n",
    "\n",
    "你的批评和鼓励都是我们前进的动力。"
   ]
  }
 ],
 "metadata": {
  "kernelspec": {
   "display_name": "venv",
   "language": "python",
   "name": "python3"
  },
  "language_info": {
   "codemirror_mode": {
    "name": "ipython",
    "version": 3
   },
   "file_extension": ".py",
   "mimetype": "text/x-python",
   "name": "python",
   "nbconvert_exporter": "python",
   "pygments_lexer": "ipython3",
   "version": "3.10.15"
  }
 },
 "nbformat": 4,
 "nbformat_minor": 4
}
