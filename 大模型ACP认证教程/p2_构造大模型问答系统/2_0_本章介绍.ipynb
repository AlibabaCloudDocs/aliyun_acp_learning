{
 "cells": [
  {
   "cell_type": "markdown",
   "metadata": {},
   "source": [
    "# 2.0 项目背景\n",
    "\n",
    "在这一章节，你将开始本课程的第一个项目。\n",
    "你在一家教育内容开发公司工作，随着新员工的持续加入，频繁的答疑需求导致了显著的时间与资源成本。\n",
    "\n",
    "<img src=\"https://gw.alicdn.com/imgextra/i2/O1CN01TACOmD1IPpuPqCNnT_!!6000000000886-0-tps-1024-1024.jpg\" alt=\"一堆文件\" width=\"400px\">\n",
    "\n",
    "为了应对这一现象，公司整理了一个综合文档库，涵盖了公司规章制度、写作规范、日常工具使用指南等多个方面。新员工们现在可以自行查阅资料，获取需要的信息了。\n",
    "\n",
    "<img src=\"https://gw.alicdn.com/imgextra/i4/O1CN011CuUk11OEk0XDFFAZ_!!6000000001674-0-tps-1024-1024.jpg\" alt=\"一堆文件\" width=\"400px\">\n",
    "\n",
    "过了一段时间，公司发现，新员工的工作并不符合规章制度，工作频繁出错。\n",
    "经过分析，原来是文档库的信息太多，新员工难以全面阅读与消化。\n",
    "\n",
    "<img src=\"https://gw.alicdn.com/imgextra/i2/O1CN010a2mVD1G61Xjj7SEi_!!6000000000572-0-tps-1024-1024.jpg\" alt=\"一堆文件\" width=\"400px\">\n",
    "\n",
    "为了进一步解决这个问题，公司开发了一个问答系统。系统里配置了员工的高频问题，员工们可以自主提问。\n",
    "\n",
    "<img src=\"https://gw.alicdn.com/imgextra/i4/O1CN01d4Cheb28hZGNpjpOZ_!!6000000007964-0-tps-1024-801.jpg\" alt=\"一堆文件\" width=\"400px\">\n",
    "\n",
    "问答系统运行了一段时间后，大家发现员工咨询量和工作出错情况还是没有显著减少。\n",
    "公司领导意识到当前的问答系统存在诸多局限性，主要是系统基于固定规则和相似度判断的机制，使得当员工使用不同问法时，系统可能无法回答问题。\n",
    "此外，人工配置问答对的工作量也很大，投入产出比很低。\n",
    "\n",
    "<img src=\"https://gw.alicdn.com/imgextra/i2/O1CN01vGr3eE1q1Hc1niZAV_!!6000000005435-0-tps-714-469.jpg\" alt=\"一堆文件\" width=\"400px\">\n",
    "\n",
    "针对这一现状，公司领导决定让你来负责这个事情，希望能彻底解决这个问题。\n",
    "经过调研，你计划利用时下最先进的大模型技术来构建一个智能问答的应用。基于大模型的智能应用无需配置问答对，它能够很好地理解人类语言，也可以基于公司内部知识库来准确回答问题，将真正有效地减少员工咨询量，提高工作效率。\n",
    "\n",
    "<img src=\"https://gw.alicdn.com/imgextra/i1/O1CN01UZmxgz1uY2OowazMq_!!6000000006048-0-tps-1024-1024.jpg\" alt=\"一堆文件\" width=\"400px\">\n",
    "\n",
    "接下来，你将进行项目实操，以期实现这一目标。"
   ]
  },
  {
   "cell_type": "markdown",
   "metadata": {},
   "source": []
  }
 ],
 "metadata": {
  "kernelspec": {
   "display_name": "learnacp",
   "language": "python",
   "name": "python3"
  },
  "language_info": {
   "codemirror_mode": {
    "name": "ipython",
    "version": 3
   },
   "file_extension": ".py",
   "mimetype": "text/x-python",
   "name": "python",
   "nbconvert_exporter": "python",
   "pygments_lexer": "ipython3",
   "version": "3.9.12"
  }
 },
 "nbformat": 4,
 "nbformat_minor": 2
}
