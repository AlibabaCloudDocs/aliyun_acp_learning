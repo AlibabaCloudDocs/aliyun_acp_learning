{
 "cells": [
  {
   "cell_type": "markdown",
   "metadata": {},
   "source": [
    "# 2.5 用插件扩展答疑机器人的能力边界\n",
    "\n",
    "## 🚄 前言\n",
    "在前面的课程中，你已经能够通过优化提示词、文本解析与切片、检索过程等方法提高了答疑机器人的回复效果。但答疑机器人有一定的局限性，它似乎只可以“答疑”，而无法帮助你完成更多需求，比如帮你请假、帮你发送邮件等。即使对提示词进行精心设计、对RAG的整体流程进行优化，它依然无法做到，因为这需要与外界进行交互，而答疑机器人只能回答问题。\n",
    "\n",
    "创建智能体（Agent）应用可以解决这些问题，它以大模型为基础，同时可以配备工具，从而达到与外界交互的目的，就像给大脑配备了四肢。\n",
    "\n",
    "## 🍁 课程目标\n",
    "学完本课程后，你将能够：\n",
    "\n",
    "* 了解Agent的原理以及运行机制；\n",
    "* 掌握 Assistant API 的基础使用方法；\n",
    "* 了解Multi-Agent系统的设计方法。\n",
    "\n",
    "## 📖 课程目录\n",
    "在本节课程中，我们会向你介绍Agent如何通过集成工具函数扩展大模型的能力。\n",
    "\n",
    "- 1.&nbsp;什么是Agent    \n",
    "- 2.&nbsp;如何构建Agent    \n",
    "- 3.&nbsp;Multi-Agent"
   ]
  },
  {
   "cell_type": "markdown",
   "metadata": {},
   "source": [
    "## 🤖 1. 什么是Agent"
   ]
  },
  {
   "cell_type": "markdown",
   "metadata": {},
   "source": [
    "一些同事希望答疑机器人能具备这样一种功能：只需说出“帮我请明天的假”，机器人便能自动提交请假申请单。\n",
    "\n",
    "为实现此功能，答疑机器人的设计可以包括以下步骤：\n",
    "1. 编写工具函数，利用公司内部的API实现请假等操作；\n",
    "2. 当大模型接收到用户的指令（如“我要请后天的假”）时，解析出需要调用的工具及其参数，例如请假工具所需的日期；\n",
    "3. 根据大模型的解析结果，执行相应的工具函数，并获取结果，例如“2024年x月x日至2024年y月y日的请假申请已提交”。然后直接或经过处理后将结果反馈给用户。\n",
    "这种增添了工具函数的系统被称为Agent。它作为大模型与外界互动的桥梁，扩展了大模型的功能。\n",
    "\n",
    "<img src=\"https://img.alicdn.com/imgextra/i4/O1CN01bJe4vz1epryTreCNG_!!6000000003921-0-tps-828-752.jpg\" alt=\"image\" style=\"width:500px;height:400px;\">"
   ]
  },
  {
   "cell_type": "markdown",
   "metadata": {},
   "source": [
    "## 🛠️ 2. 如何构建Agent\n",
    "阿里云百炼平台提供了Assistant API，可以帮助你快速构建Agent。\n",
    "你需要先把API Key配置到环境变量中。"
   ]
  },
  {
   "cell_type": "code",
   "execution_count": 1,
   "metadata": {},
   "outputs": [
    {
     "name": "stdout",
     "output_type": "stream",
     "text": [
      "你配置的 API Key 是：sk-1a*****\n"
     ]
    }
   ],
   "source": [
    "import os\n",
    "from config.load_key import load_key\n",
    "\n",
    "load_key()\n",
    "print(f'''你配置的 API Key 是：{os.environ[\"DASHSCOPE_API_KEY\"][:5]+\"*\"*5}''')"
   ]
  },
  {
   "cell_type": "markdown",
   "metadata": {},
   "source": [
    "### 2.1 定义工具函数\n",
    "\n",
    "配置好环境变量后，我们就可以通过Assistant API来构建一个Agent了。\n",
    "\n",
    "首先我们需要定义一些工具函数，假设我们的答疑机器人有三个功能，查询员工信息，发送请假申请，查询公司规章制度。\n",
    "\n",
    "我们需要定义三个工具函数。\n",
    "\n",
    "#### 2.1.1 查询员工信息\n",
    "\n",
    "你希望将用户的提问作为工具函数的输入，并生成对应的SQL语句（这一步骤也叫NL2SQL，即自然语言转SQL语句），再使用SQL语句去数据库中查询，将查询结果作为工具函数的输出。为了帮助你更多的关注到Agent的内容，我们模拟一个查询步骤，而不实际去数据库中查询。\n",
    "> 假设员工表名为employee，字段包括department（部门）、name（姓名）、HR。\n",
    "\n",
    "> 如果你希望继续提升大模型NL2SQL的性能，请前往微调教程学习。"
   ]
  },
  {
   "cell_type": "code",
   "execution_count": 2,
   "metadata": {},
   "outputs": [
    {
     "name": "stdout",
     "output_type": "stream",
     "text": [
      "SQL语句为：SELECT COUNT(*) FROM employees WHERE department = '教育部门'\n"
     ]
    },
    {
     "data": {
      "text/plain": [
       "'教育部门共有66名员工。'"
      ]
     },
     "execution_count": 2,
     "metadata": {},
     "output_type": "execute_result"
    }
   ],
   "source": [
    "# 导入依赖\n",
    "from llama_index.llms.dashscope import DashScope\n",
    "from llama_index.core.base.llms.types import MessageRole, ChatMessage\n",
    "\n",
    "# 定义一个员工查询函数\n",
    "def query_employee_info(query):\n",
    "    '''\n",
    "    输入用户提问，输出员工信息查询结果\n",
    "    '''\n",
    "    # 1. 首先根据用户提问，使用NL2SQL生成SQL语句\n",
    "    llm = DashScope(model_name=\"qwen-plus\")\n",
    "    messages = [\n",
    "        ChatMessage(role=MessageRole.SYSTEM, content='''你有一个表叫employees，记录公司的员工信息，这个表有department（部门）、name（姓名）、HR三个字段。\n",
    "    你需要根据用户输入生成sql语句进行查询,你一定不能生成sql语句之外的内容，也不要把```sql```这个信息加上。'''),\n",
    "        ChatMessage(role=MessageRole.USER, content=query)\n",
    "    ]\n",
    "    SQL_output = llm.chat(messages).message.content\n",
    "    # 打印出SQL语句\n",
    "    print(f'SQL语句为：{SQL_output}')\n",
    "    # 2. 根据SQL语句去查询数据库（此处为模拟查询），并返回结果\n",
    "    if SQL_output == \"SELECT COUNT(*) FROM employees WHERE department = '教育部门'\":\n",
    "        return \"教育部门共有66名员工。\"\n",
    "    if SQL_output == \"SELECT HR FROM employees WHERE name = '张三'\":\n",
    "        return \"张三的HR是李四。\"\n",
    "    if SQL_output == \"SELECT department FROM employees WHERE name = '王五'\":\n",
    "        return \"王五的部门是后勤部。\"\n",
    "    else:\n",
    "        return \"抱歉，我暂时无法回答您的问题。\"\n",
    "\n",
    "# 测试一下这个函数\n",
    "query_employee_info(\"教育部门有几个人\")"
   ]
  },
  {
   "cell_type": "markdown",
   "metadata": {},
   "source": [
    "#### 2.1.2 发送请假申请\n",
    "\n",
    "你希望这个工具函数将员工输入的请假日期作为输入参数，并返回一个申请成功的字符串。我们在此模拟一个申请步骤，而不实际去公司系统中提交请假申请。"
   ]
  },
  {
   "cell_type": "code",
   "execution_count": 3,
   "metadata": {},
   "outputs": [
    {
     "name": "stdout",
     "output_type": "stream",
     "text": [
      "已为你发送请假申请，请假日期是明后两天。\n"
     ]
    }
   ],
   "source": [
    "def send_leave_application(date):\n",
    "    '''\n",
    "    输入请假时间，输出请假申请发送结果\n",
    "    '''\n",
    "    return f'已为你发送请假申请，请假日期是{date}。'\n",
    "\n",
    "# 测试一下这个函数\n",
    "print(send_leave_application(\"明后两天\"))"
   ]
  },
  {
   "cell_type": "markdown",
   "metadata": {},
   "source": [
    "#### 2.1.3 查询公司规章制度\n",
    "\n",
    "你希望这个工具函数以用户的提问作为输入，输出是根据之前教程创建的RAG答疑机器人给出的回复。"
   ]
  },
  {
   "cell_type": "code",
   "execution_count": 4,
   "metadata": {},
   "outputs": [
    {
     "data": {
      "text/plain": [
       "'公司项目管理可以使用如Jira或Trello这样的项目管理软件。这些工具能够帮助团队更好地规划和跟踪项目的进度，确保任务按时完成。同时，它们还支持任务分配、时间跟踪和团队协作等功能，有助于提高工作效率。'"
      ]
     },
     "execution_count": 4,
     "metadata": {},
     "output_type": "execute_result"
    }
   ],
   "source": [
    "from chatbot.rag import load_index\n",
    "\n",
    "def query_company_info(query):\n",
    "    '''\n",
    "    输入用户提问，输出公司信息查询结果\n",
    "    '''\n",
    "    # 使用封装好的函数加载索引\n",
    "    index = load_index()\n",
    "    query_engine = index.as_query_engine(\n",
    "      llm=DashScope(model_name=\"qwen-plus\")\n",
    "    )\n",
    "    return query_engine.query(query).response\n",
    "\n",
    "# 测试一下效果\n",
    "query_company_info(\"我们公司项目管理应该用什么工具\")"
   ]
  },
  {
   "cell_type": "markdown",
   "metadata": {},
   "source": [
    "尽管这些工具函数的实现比较简单，但却是大模型与外界交互的关键。接下来我们将使用Assistant API创建一个Agent，并将这三个工具函数集成进来。"
   ]
  },
  {
   "cell_type": "markdown",
   "metadata": {},
   "source": [
    "### 2.2 将工具函数与大模型集成进Agent中\n",
    "\n",
    "你已经定义好了工具函数，接下来就要将它们与大模型通过Assistant API集成到Agent中。\n",
    "\n",
    "通过Assistants.create方法，你可以创建一个新的Agent，并通过model（模型名称）、name（Agent命名）、description（Agent的描述信息）、instructions（Agent非常重要的参数，用于提示Agent所具有的工具函数能力，同时也可以规范输出格式）、tools（工具函数通过该参数传入）参数来定义Agent。\n",
    "\n",
    "> 其中，tools参数中的function.name用于指定工具函数，但需要为字符串格式，因此可以通过一个map方法映射到工具函数上。"
   ]
  },
  {
   "cell_type": "code",
   "execution_count": 5,
   "metadata": {},
   "outputs": [
    {
     "name": "stdout",
     "output_type": "stream",
     "text": [
      "公司小蜜创建完成\n",
      "工具函数与function.name映射关系建立完成\n"
     ]
    }
   ],
   "source": [
    "# 引入依赖\n",
    "from dashscope import Assistants, Messages, Runs, Threads\n",
    "import json\n",
    "\n",
    "# 定义公司小蜜\n",
    "ChatAssistant = Assistants.create(\n",
    "    # 在此指定模型名称\n",
    "    model=\"qwen-plus\",\n",
    "    # 在此指定Agent名称\n",
    "    name='公司小蜜',\n",
    "    # 在此指定Agent的描述信息\n",
    "    description='一个智能助手，能够查询员工信息，帮助员工发送请假申请，或者查询公司规章制度。',\n",
    "    # 用于提示大模型所具有的工具函数能力，也可以规范输出格式\n",
    "    instructions='''你是公司小蜜，你的功能有以下三个：\n",
    "    1. 查询员工信息。例如：查询员工张三的HR是谁；\n",
    "    2. 发送请假申请。例如：当员工提出要请假时，你可以在系统里帮他完成请假申请的发送；\n",
    "    3. 查询公司规章制度。例如：我们公司项目管理的工具是什么？\n",
    "    请准确判断需要调用哪个工具，并礼貌回答用户的提问。\n",
    "    ''',\n",
    "    # 将工具函数传入\n",
    "    tools=[\n",
    "        {\n",
    "            # 定义工具函数类型，一般设置为function即可\n",
    "            'type': 'function',\n",
    "            'function': {\n",
    "                # 定义工具函数名称，通过map方法映射到query_employee_info函数\n",
    "                'name': '查询员工信息',\n",
    "                # 定义工具函数的描述信息，Agent主要根据description来判断是否需要调用该工具函数\n",
    "                'description': '当需要查询员工信息时非常有用，比如查询员工张三的HR是谁，查询教育部门总人数等。',\n",
    "                # 定义工具函数的参数\n",
    "                'parameters': {\n",
    "                    'type': 'object',\n",
    "                    'properties': {\n",
    "                        # 将用户的提问作为输入参数\n",
    "                        'query': {\n",
    "                            'type': 'str',\n",
    "                            # 对输入参数的描述\n",
    "                            'description': '用户的提问。'\n",
    "                        },\n",
    "                    },\n",
    "                    # 在此声明该工具函数需要哪些函数\n",
    "                    'required': ['query']},\n",
    "            }\n",
    "        },\n",
    "        {\n",
    "            'type': 'function',\n",
    "            'function': {\n",
    "                'name': '发送请假申请',\n",
    "                'description': '当需要帮助员工发送请假申请时非常有用。',\n",
    "                'parameters': {\n",
    "                    'type': 'object',\n",
    "                    'properties': {\n",
    "                        # 需要请假的时间\n",
    "                        'date': {\n",
    "                            'type': 'str',\n",
    "                            'description': '员工想要请假的时间。'\n",
    "                        },\n",
    "                    },\n",
    "                    'required': ['date']},\n",
    "            }\n",
    "        },\n",
    "        {\n",
    "            'type': 'function',\n",
    "            'function': {\n",
    "                'name': '查询公司规章制度',\n",
    "                'description': '当需要查询公司规章制度时非常有用，比如查询公司项目管理的工具是什么，查询公司都有哪些部门等。',\n",
    "                'parameters': {\n",
    "                    'type': 'object',\n",
    "                    'properties': {\n",
    "                        'query': {\n",
    "                            'type': 'str',\n",
    "                            'description': '用户的提问。'\n",
    "                        }\n",
    "                    }\n",
    "                }\n",
    "            }\n",
    "        }\n",
    "    ]\n",
    ")\n",
    "print(f'{ChatAssistant.name}创建完成')\n",
    "# 建立Agent Function name与工具函数的映射关系\n",
    "function_mapper = {\n",
    "    \"查询员工信息\": query_employee_info,\n",
    "    \"发送请假申请\": send_leave_application,\n",
    "    \"查询公司规章制度\": query_company_info\n",
    "}\n",
    "print('工具函数与function.name映射关系建立完成')"
   ]
  },
  {
   "cell_type": "markdown",
   "metadata": {},
   "source": [
    "通过Assistant API获得Agent回复的过程需要涉及到如thread、message、run等概念，如果你对这些概念与细节感兴趣，请参考[阿里云Assistant API官方文档](https://help.aliyun.com/zh/model-studio/developer-reference/assistantapi/)。\n",
    "\n",
    "我们封装好了一个辅助函数`get_agent_response`，你只需要传入Agent与提问内容，即可得到指定Agent的回复。\n",
    "\n",
    "> 如果你希望给Agent配备更多的能力，可以添加工具函数，并在function_mapper与tools中建立映射关系。"
   ]
  },
  {
   "cell_type": "code",
   "execution_count": 6,
   "metadata": {},
   "outputs": [],
   "source": [
    "# 输入message信息，输出为指定Agent的回复\n",
    "def get_agent_response(assistant, message=''):\n",
    "    # 打印出输入Agent的信息\n",
    "    thread = Threads.create()\n",
    "    message = Messages.create(thread.id, content=message)\n",
    "    run = Runs.create(thread.id, assistant_id=assistant.id)\n",
    "    run_status = Runs.wait(run.id, thread_id=thread.id)\n",
    "    # 如果响应失败，会打印出run failed\n",
    "    if run_status.status == 'failed':\n",
    "        print('run failed:')\n",
    "    # 如果需要工具来辅助大模型输出，则进行以下流程\n",
    "    if run_status.required_action:\n",
    "        f = run_status.required_action.submit_tool_outputs.tool_calls[0].function\n",
    "        # 获得function name\n",
    "        func_name = f['name']\n",
    "        # 获得function 的入参\n",
    "        param = json.loads(f['arguments'])\n",
    "        # 打印出工具信息\n",
    "        print(\"function is\",f)\n",
    "        # 根据function name，通过function_mapper映射到函数，并将参数输入工具函数得到output输出\n",
    "        if func_name in function_mapper:\n",
    "            output = function_mapper[func_name](**param)\n",
    "        else:\n",
    "            output = \"\"\n",
    "        tool_outputs = [{\n",
    "            'output':\n",
    "                output\n",
    "        }]\n",
    "        run = Runs.submit_tool_outputs(run.id,\n",
    "                                       thread_id=thread.id,\n",
    "                                       tool_outputs=tool_outputs)\n",
    "        run_status = Runs.wait(run.id, thread_id=thread.id)\n",
    "    run_status = Runs.get(run.id, thread_id=thread.id)\n",
    "    msgs = Messages.list(thread.id)\n",
    "    # 将Agent的输出返回\n",
    "    return msgs['data'][0]['content'][0]['text']['value']"
   ]
  },
  {
   "cell_type": "markdown",
   "metadata": {},
   "source": [
    "我们可以向ChatAssistant提问，测试一下回复效果。"
   ]
  },
  {
   "cell_type": "code",
   "execution_count": 7,
   "metadata": {},
   "outputs": [
    {
     "name": "stdout",
     "output_type": "stream",
     "text": [
      "提问是：\n",
      "谁是张三的HR？\n",
      "思考过程与最终输出是：\n",
      "function is {'name': '查询员工信息', 'arguments': '{\"query\": \"谁是张三的HR？\"}', 'output': None}\n",
      "SQL语句为：SELECT HR FROM employees WHERE name = '张三'\n",
      "张三的HR是李四。如果您还有其他问题，欢迎随时向我提问。\n",
      "\n",
      "\n",
      "提问是：\n",
      "教育部门一共有多少员工？\n",
      "思考过程与最终输出是：\n",
      "function is {'name': '查询员工信息', 'arguments': '{\"query\": \"教育部门总人数\"}', 'output': None}\n",
      "SQL语句为：SELECT COUNT(*) FROM employees WHERE department = '教育部门'\n",
      "教育部门共有66名员工。如果您还有其他问题，欢迎随时向我提问。\n",
      "\n",
      "\n",
      "提问是：\n",
      "王五在哪个部门？\n",
      "思考过程与最终输出是：\n",
      "function is {'name': '查询员工信息', 'arguments': '{\"query\": \"王五在哪个部门？\"}', 'output': None}\n",
      "SQL语句为：SELECT department FROM employees WHERE name = '王五'\n",
      "王五在后勤部工作。如果您还有其他问题，欢迎随时向我提问。\n",
      "\n",
      "\n",
      "提问是：\n",
      "帮我提交下周三请假的申请\n",
      "思考过程与最终输出是：\n",
      "function is {'name': '发送请假申请', 'arguments': '{\"date\": \"下周三\"}', 'output': None}\n",
      "已经帮您提交了下周三的请假申请，有进一步的消息我会通知您的。\n",
      "\n",
      "\n",
      "提问是：\n",
      "我们公司应该用什么项目管理工具呢？\n",
      "思考过程与最终输出是：\n",
      "function is {'name': '查询公司规章制度', 'arguments': '{\"query\": \"我们公司项目管理的工具是什么？\"}', 'output': None}\n",
      "我们公司使用的项目管理工具有Jira和Trello。这些工具可以帮助团队更好地进行需求分析、任务分配和进度跟踪。如果您需要进一步的帮助或者培训，可以联系IT部门。\n",
      "\n",
      "\n"
     ]
    }
   ],
   "source": [
    "query_stk = [\n",
    "    \"谁是张三的HR？\",\n",
    "    \"教育部门一共有多少员工？\",\n",
    "    \"王五在哪个部门？\",\n",
    "    \"帮我提交下周三请假的申请\",\n",
    "    \"我们公司应该用什么项目管理工具呢？\"\n",
    "]\n",
    "for query in query_stk:\n",
    "    print(\"提问是：\")\n",
    "    print(query)\n",
    "    print(\"思考过程与最终输出是：\")\n",
    "    print(get_agent_response(ChatAssistant,query))\n",
    "    print(\"\\n\")\n"
   ]
  },
  {
   "cell_type": "markdown",
   "metadata": {},
   "source": [
    "从测试结果可以看出，拓展了功能之后的答疑机器人达到了你预期的效果。"
   ]
  },
  {
   "cell_type": "markdown",
   "metadata": {},
   "source": [
    "## 3.Multi-Agent（多智能体）"
   ]
  },
  {
   "cell_type": "markdown",
   "metadata": {},
   "source": [
    "尽管答疑机器人达到了你预期的测试效果，但目前仍存在两个问题：\n",
    "1. 当前工具函数较少，因此一个Agent可以完成这个任务，如果工具函数增多，一个Agent可能很难同时完成对工具的决策与对问题的回答。\n",
    "2. 答疑机器人只能回答使用单一工具函数的问题，如果用户提问了一个需要使用多个工具函数的问题，那答疑机器人也将无法给出正确答案。比如：“张三的HR是谁？公司应该使用什么项目管理工具？”"
   ]
  },
  {
   "cell_type": "code",
   "execution_count": 10,
   "metadata": {},
   "outputs": [
    {
     "name": "stdout",
     "output_type": "stream",
     "text": [
      "function is {'name': '查询员工信息', 'arguments': '{\"query\": \"张三的HR是谁\"}', 'output': None}\n",
      "SQL语句为：SELECT HR FROM employees WHERE name = '张三'\n"
     ]
    },
    {
     "data": {
      "text/plain": [
       "'张三的HR是谁？公司应该使用什么项目管理工具？'"
      ]
     },
     "execution_count": 10,
     "metadata": {},
     "output_type": "execute_result"
    }
   ],
   "source": [
    "get_agent_response(ChatAssistant,\"张三的HR是谁？公司应该使用什么项目管理工具？\")"
   ]
  },
  {
   "cell_type": "markdown",
   "metadata": {},
   "source": [
    "由于答疑机器人目前只能完成单个工具函数的调用，因此无法返回正确结果。\n",
    "\n",
    "为了解决这两个问题，我们可以构建一个Multi-Agent（多智能体）系统。\n",
    "\n",
    "如果说单Agent的工作方式像一个独立开发者，那么Multi-Agent的工作方式就像一个部门，每个人都有自己的职责，相互之间按照规则进行交互。\n",
    "Multi-Agent系统有多种设计思路，我们在这里介绍一个由Router Agent、若干个负责执行工具函数的Agent，以及一个Summary Agent组成的Multi-Agent系统。\n",
    "- Router Agent\n",
    "\n",
    "    根据用户的输入内容，判断要将任务分发给哪个Agent。\n",
    "- 执行工具函数的Agent\n",
    "\n",
    "    根据Router Agent分发的任务，执行属于自己的工具函数。\n",
    "- Summary Agent\n",
    "\n",
    "    根据用户的输入，以及执行工具函数的Agent的输出，生成总结并返回给用户。"
   ]
  },
  {
   "cell_type": "markdown",
   "metadata": {},
   "source": [
    "### 3.1 Router Agent"
   ]
  },
  {
   "cell_type": "markdown",
   "metadata": {},
   "source": [
    "Router Agent 是 Multi-Agent 系统的核心部分，它负责分析问题，并决定将任务分发到哪个Agent上。我们利用 Assistant API 创建 Router Agent，并通过 instructions 指定其可调用的 Agent 及输出格式。\n",
    "\n",
    "由于 Agent 的返回值为字符串格式，我们要求 Router Agent 输出列表形式的字符串，例如：`[\"employee_info_agent\", \"leave_agent\", \"company_info_agent\"]`，以便后续使用字符串解析工具将其转换为结构化数据。"
   ]
  },
  {
   "cell_type": "code",
   "execution_count": 11,
   "metadata": {},
   "outputs": [
    {
     "name": "stdout",
     "output_type": "stream",
     "text": [
      "Router Agent创建完成\n"
     ]
    }
   ],
   "source": [
    "# 决策级别的agent，决定使用哪些agent，以及它们的运行顺序\n",
    "router_agent = Assistants.create(\n",
    "    model=\"qwen-plus\",\n",
    "    # 定义Agent的名称\n",
    "    name='流程编排机器人',\n",
    "    # 定义Agent的功能描述\n",
    "    description='你是团队的leader，你的手下有很多agent，你需要根据用户的输入，决定要以怎样的顺序去使用这些agent',\n",
    "    # 定义对Agent的指示语句，Agent会按照指示语句进行工具的调用并返回结果。\n",
    "    instructions=\"\"\"你的团队中有以下agent。\n",
    "    employee_info_agent：可以查询公司的员工信息，如果提问中关于部门、HR等信息，则调用该agent；\n",
    "    leave_agent：可以帮助员工发送请假申请，如果用户提出请假，则调用该agent；\n",
    "    company_info_agent: 可以查询公司的规章制度信息，如果用户提出关于公司规章制度的问题，则调用该agent；\n",
    "    chat_agent：如果用户的问题无需以上agent，则调用该agent。\n",
    "\n",
    "    你需要根据用户的问题，判断要以什么顺序使用这些agent，一个agent可以被多次调用。你的返回形式是一个列表，不能返回其它信息。比如：[\"employee_info_agent\", \"leave_agent\",\"company_info_agent\"]或者[\"chat_agent\"]，列表中的元素只能为上述的agent。\"\"\"\n",
    ")\n",
    "\n",
    "print(\"Router Agent创建完成\")"
   ]
  },
  {
   "cell_type": "markdown",
   "metadata": {},
   "source": [
    "我们准备了几个测试问题，看下Router Agent能否分发到正确的Agent。"
   ]
  },
  {
   "cell_type": "code",
   "execution_count": 12,
   "metadata": {},
   "outputs": [
    {
     "name": "stdout",
     "output_type": "stream",
     "text": [
      "提问是：\n",
      "谁是张三的HR？教育部门一共有多少员工？\n",
      "[\"employee_info_agent\", \"employee_info_agent\"]\n",
      "\n",
      "\n",
      "提问是：\n",
      "王五在哪个部门？帮我提交下周三请假的申请\n",
      "[\"employee_info_agent\", \"leave_agent\"]\n",
      "\n",
      "\n",
      "提问是：\n",
      "你好\n",
      "[\"chat_agent\"]\n",
      "\n",
      "\n"
     ]
    }
   ],
   "source": [
    "query_stk = [\n",
    "    \"谁是张三的HR？教育部门一共有多少员工？\",\n",
    "    \"王五在哪个部门？帮我提交下周三请假的申请\",\n",
    "    \"你好\"\n",
    "]\n",
    "for query in query_stk:\n",
    "    print(\"提问是：\")\n",
    "    print(query)\n",
    "    print(get_agent_response(router_agent,query))\n",
    "    print(\"\\n\")\n"
   ]
  },
  {
   "cell_type": "markdown",
   "metadata": {},
   "source": [
    "对于这三个测试问题，Router Agent都做出了正确的选择。\n",
    "\n",
    "Router Agent在给出了回复后，你需要将它解析为列表数据以便在后续进行处理，此处使用ast工具加载列表形式的字符串。"
   ]
  },
  {
   "cell_type": "code",
   "execution_count": 13,
   "metadata": {},
   "outputs": [
    {
     "name": "stdout",
     "output_type": "stream",
     "text": [
      "第1步调用：employee_info_agent\n",
      "第2步调用：leave_agent\n"
     ]
    }
   ],
   "source": [
    "import ast\n",
    "\n",
    "# 获得Router Agent的回复\n",
    "router_response = get_agent_response(router_agent,\"王五在哪个部门？帮我提交下周三请假的申请\")\n",
    "# 通过ast工具将列表形式的字符串加载为列表\n",
    "order_stk = ast.literal_eval(router_response)\n",
    "# 打印出Router Agent的规划\n",
    "for i in range(len(order_stk)):\n",
    "    print(f'第{i+1}步调用：{order_stk[i]}')"
   ]
  },
  {
   "cell_type": "markdown",
   "metadata": {},
   "source": [
    "### 3.2 执行工具函数的Agent\n"
   ]
  },
  {
   "cell_type": "markdown",
   "metadata": {},
   "source": [
    "在获取到Router Agent的规划后，我们需要进行**执行工具函数Agent**的创建。创建方法与第二节基本一致，区别在于将三个工具函数分配到三个Agent上。\n",
    "> 需要确保agent变量名与Router Agent的instructions中定义的agent变量名一致。"
   ]
  },
  {
   "cell_type": "code",
   "execution_count": 14,
   "metadata": {},
   "outputs": [
    {
     "name": "stdout",
     "output_type": "stream",
     "text": [
      "员工信息查询助手创建完成\n",
      "请假申请助手创建完成\n",
      "公司规章制度查询助手创建完成\n",
      "回答日常问题的机器人创建完成\n"
     ]
    }
   ],
   "source": [
    "# 员工信息查询agent\n",
    "employee_info_agent = Assistants.create(\n",
    "    model=\"qwen-plus\",\n",
    "    name='员工信息查询助手',\n",
    "    description='一个智能助手，能够查询员工信息。',\n",
    "    instructions='''你是员工信息查询助手，负责查询员工姓名、部门、HR等信息''',\n",
    "    tools=[\n",
    "        {\n",
    "            'type': 'function',\n",
    "            'function': {\n",
    "                'name': '查询员工信息',\n",
    "                'description': '当需要查询员工信息时非常有用，比如查询员工张三的HR是谁，查询教育部门总人数等。',\n",
    "                'parameters': {\n",
    "                    'type': 'object',\n",
    "                    'properties': {\n",
    "                        'query': {\n",
    "                            'type': 'str',\n",
    "                            'description': '用户的提问。'\n",
    "                        },\n",
    "                    },\n",
    "                    'required': ['query']},\n",
    "            }\n",
    "        }\n",
    "    ]\n",
    ")\n",
    "print(f'{employee_info_agent.name}创建完成')\n",
    "\n",
    "# 请假申请agent\n",
    "leave_agent = Assistants.create(\n",
    "    model=\"qwen-plus\",\n",
    "    name='请假申请助手',\n",
    "    description='一个智能助手，能够帮助员工提交请假申请。',\n",
    "    instructions='''你是员工请假申请助手，负责帮助员工提交请假申请。''',\n",
    "    tools=[\n",
    "        {\n",
    "            'type': 'function',\n",
    "            'function': {\n",
    "                'name': '发送请假申请',\n",
    "                'description': '当需要帮助员工发送请假申请时非常有用。',\n",
    "                'parameters': {\n",
    "                    'type': 'object',\n",
    "                    'properties': {\n",
    "                        # 需要请假的时间\n",
    "                        'date': {\n",
    "                            'type': 'str',\n",
    "                            'description': '员工想要请假的时间。'\n",
    "                        },\n",
    "                    },\n",
    "                    'required': ['date']},\n",
    "            }\n",
    "        }\n",
    "    ]\n",
    ")\n",
    "print(f'{leave_agent.name}创建完成')\n",
    "\n",
    "# 公司规章制度查询agent\n",
    "company_info_agent =  Assistants.create(\n",
    "    model=\"qwen-plus\",\n",
    "    name='公司规章制度查询助手',\n",
    "    description='一个智能助手，能够帮助员工查询公司规章制度。',\n",
    "    instructions='''你是公司规章制度查询助手，负责帮助员工查询公司规章制度。''',\n",
    "    tools=[\n",
    "        {\n",
    "            'type': 'function',\n",
    "            'function': {\n",
    "                'name': '查询公司规章制度',\n",
    "                'description': '当需要查询公司规章制度时非常有用，比如查询公司项目管理的工具是什么，查询公司都有哪些部门等。',\n",
    "                'parameters': {\n",
    "                    'type': 'object',\n",
    "                    'properties': {\n",
    "                        'query': {\n",
    "                            'type': 'str',\n",
    "                            'description': '用户的提问。'\n",
    "                        }\n",
    "                    }\n",
    "                }\n",
    "            }\n",
    "        }\n",
    "    ]\n",
    ")\n",
    "print(f'{company_info_agent.name}创建完成')\n",
    "\n",
    "# 功能是回复日常问题。对于日常问题来说，可以使用价格较为低廉的模型作为agent的基座\n",
    "chat_agent = Assistants.create(\n",
    "    # 因为该Agent对大模型性能要求不高，因此使用成本较低的qwen-turbo模型\n",
    "    model=\"qwen-turbo\",\n",
    "    name='回答日常问题的机器人',\n",
    "    description='一个智能助手，解答用户的问题',\n",
    "    instructions='请礼貌地回答用户的问题'\n",
    ")\n",
    "print(f'{chat_agent.name}创建完成')"
   ]
  },
  {
   "cell_type": "markdown",
   "metadata": {},
   "source": [
    "### 3.3 创建Summary Agent并测试Multi-Agent效果"
   ]
  },
  {
   "cell_type": "markdown",
   "metadata": {},
   "source": [
    "在完成了Router Agent和执行工具函数Agent的创建后，我们还需要创建Summary Agent，该Agent会根据用户的问题与之前Agent输出的参考信息，全面、完整地回答用户问题."
   ]
  },
  {
   "cell_type": "code",
   "execution_count": 15,
   "metadata": {},
   "outputs": [
    {
     "name": "stdout",
     "output_type": "stream",
     "text": [
      "总结机器人创建完成\n"
     ]
    }
   ],
   "source": [
    "summary_agent = Assistants.create(\n",
    "    model=\"qwen-plus\",\n",
    "    name='总结机器人',\n",
    "    description='一个智能助手，根据用户的问题与参考信息，全面、完整地回答用户问题',\n",
    "    instructions='你是一个智能助手，根据用户的问题与参考信息，全面、完整地回答用户问题'\n",
    ")\n",
    "print(f'{summary_agent.name}创建完成')"
   ]
  },
  {
   "cell_type": "markdown",
   "metadata": {},
   "source": [
    "我们将以上步骤封装为一个get_multi_agent_response函数，这样只需要输入问题就可以得到回复了。\n",
    "> 由于列表中的元素为字符串，因此通过一个agent_mapper方法将字符串格式的Agent映射到定义好的Agent对象。"
   ]
  },
  {
   "cell_type": "code",
   "execution_count": 19,
   "metadata": {},
   "outputs": [
    {
     "name": "stdout",
     "output_type": "stream",
     "text": [
      "Router Agent正在工作：\n",
      "第1步调用：employee_info_agent\n",
      "第2步调用：leave_agent\n",
      "function is {'name': '查询员工信息', 'arguments': '{\"query\": \"王五所在部门\"}', 'output': None}\n",
      "SQL语句为：SELECT department FROM employees WHERE name = '王五'\n",
      "function is {'name': '发送请假申请', 'arguments': '{\"date\": \"下周三\"}', 'output': None}\n",
      "Multi-Agent回复为：王五在后勤部工作。关于您的请假申请，我已经帮您发送了一份申请，申请的请假日期是下周三。请您将这份请假申请提交给您的直接上级或者人力资源部门。如果有其他问题，欢迎随时向我咨询。祝您一切顺利！\n"
     ]
    },
    {
     "data": {
      "text/plain": [
       "'王五在后勤部工作。关于您的请假申请，我已经帮您发送了一份申请，申请的请假日期是下周三。请您将这份请假申请提交给您的直接上级或者人力资源部门。如果有其他问题，欢迎随时向我咨询。祝您一切顺利！'"
      ]
     },
     "execution_count": 19,
     "metadata": {},
     "output_type": "execute_result"
    }
   ],
   "source": [
    "# 将列表中的字符串映射到Agent对象上\n",
    "agent_mapper = {\n",
    "    \"employee_info_agent\": employee_info_agent,\n",
    "    \"leave_agent\": leave_agent,\n",
    "    \"company_info_agent\": company_info_agent\n",
    "}\n",
    "\n",
    "def get_multi_agent_response(query):\n",
    "    # 获取Agent的运行顺序\n",
    "    agent_order = get_agent_response(router_agent,query)\n",
    "    # 由于大模型输出可能不稳定，因此加入异常处理模块处理列表字符串解析失败的问题\n",
    "    try:\n",
    "        order_stk = ast.literal_eval(agent_order)\n",
    "        print(\"Router Agent正在工作：\")\n",
    "        for i in range(len(order_stk)):\n",
    "            print(f'第{i+1}步调用：{order_stk[i]}')\n",
    "        # 随着多Agent的加入，需要将Agent的输出添加到用户问题中，作为参考信息\n",
    "        cur_query = query\n",
    "\n",
    "        Agent_Message = \"\"\n",
    "        # 依次运行Agent\n",
    "        for i in range(len(order_stk)):\n",
    "            cur_agent = agent_mapper[order_stk[i]]\n",
    "            response = get_agent_response(cur_agent,cur_query)\n",
    "            Agent_Message += f\"*{order_stk[i]}*的回复为：{response}\\n\\n\"\n",
    "            # 如果当前Agent为最后一个Agent，则将其输出作为Multi Agent的输出\n",
    "            if i == len(order_stk)-1:\n",
    "                prompt = f\"请参考已知的信息：{Agent_Message}，回答用户的问题：{query}。\"\n",
    "                multi_agent_response = get_agent_response(summary_agent,prompt)\n",
    "                print(f'Multi-Agent回复为：{multi_agent_response}')\n",
    "                return multi_agent_response\n",
    "            # 如果当前Agent不是最后一个Agent，则将上一个Agent的输出response添加到下一轮的query中，作为参考信息\n",
    "            else:\n",
    "                # 在参考信息前后加上特殊标识符，可以防止大模型混淆参考信息与提问\n",
    "                cur_query = f\"你可以参考已知的信息：{response}你要完整地回答用户的问题。问题是：{query}。\"\n",
    "    # 兜底策略，如果上述程序运行失败，则直接调用大模型\n",
    "    except Exception as e:\n",
    "        return get_agent_response(chat_agent,query)\n",
    "\n",
    "# 我们来用 “王五在哪个部门？帮我提交下周三请假的申请”进行一个测试\n",
    "get_multi_agent_response(\"王五在哪个部门？帮我提交下周三请假的申请\")"
   ]
  },
  {
   "cell_type": "markdown",
   "metadata": {},
   "source": [
    "## 🔥 课后小测验\n",
    "\n",
    "\n",
    "【单选题】 在本教程中，Router Agent的作用是什么？（ ）\n",
    "\n",
    "A. 负责执行工具函数\n",
    "\n",
    "B. 负责总结Agent的输出内容\n",
    "\n",
    "C. 负责分析用户输入，并将任务分发到其它Agent上\n",
    "\n",
    "D. 负责打印关键日志\n",
    "\n",
    "答案：C\n",
    "\n",
    "## ✅ 本节小结\n",
    "\n",
    "在本节课程中，我们探讨了如何利用插件来扩展答疑机器人的功能。为了更好地将这些知识应用于实践中，以下几点建议或许能为你提供帮助：\n",
    "\n",
    "- **明确目标**  \n",
    "  使用百炼Assistant API 创建 Agent 时，需清晰定义 Agent 的任务目标。这有助于提高设计与实施的效率。\n",
    "- **系统思维**  \n",
    "  构建 Multi-Agent 系统时，应考虑各 Agent 之间的交互与协作。确保系统整体运行的高效性至关重要。\n",
    "- **持续迭代**  \n",
    "  面对技术的快速变迁，不断学习新知并将其应用于实践，依据用户反馈对 Agent 进行调整与优化，是维持竞争力的核心。\n",
    "- **全面测试**  \n",
    "  在 Agent 正式部署之前，进行详尽的测试以确保其在不同环境下的稳定性和性能符合预期。"
   ]
  }
 ],
 "metadata": {
  "kernelspec": {
   "display_name": "Python 3",
   "language": "python",
   "name": "python3"
  },
  "language_info": {
   "codemirror_mode": {
    "name": "ipython",
    "version": 3
   },
   "file_extension": ".py",
   "mimetype": "text/x-python",
   "name": "python",
   "nbconvert_exporter": "python",
   "pygments_lexer": "ipython3",
   "version": "3.9.6"
  }
 },
 "nbformat": 4,
 "nbformat_minor": 2
}
