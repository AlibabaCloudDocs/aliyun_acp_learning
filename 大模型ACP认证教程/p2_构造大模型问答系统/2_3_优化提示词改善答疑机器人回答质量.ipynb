{
 "cells": [
  {
   "cell_type": "markdown",
   "id": "92010cd5",
   "metadata": {},
   "source": [
    "# 2.3 优化提示词改善答疑机器人回答质量"
   ]
  },
  {
   "cell_type": "markdown",
   "id": "b0b18130",
   "metadata": {},
   "source": [
    "## 🚄 前言"
   ]
  },
  {
   "cell_type": "markdown",
   "id": "4a33d28f-9014-414a-a7b5-b016e12d4bb0",
   "metadata": {},
   "source": [
    "上一节，你学习了**上下文工程 (Context Engineering)** 的一种关键技术——RAG，通过为大模型提供外部知识来扩展其能力。但这仅仅是构建优秀用户体验的第一步。用户往往期待更个性化、更精准的交互。\n",
    "\n",
    "本节将深入探索上下文工程的另一重要方面：如何通过优化**提示词 (Prompt)** 来精细地控制大模型的输出，例如调整语气、规范格式，甚至赋予它处理文本总结、推断、转换等多种任务的能力。"
   ]
  },
  {
   "cell_type": "markdown",
   "id": "37a39a58",
   "metadata": {},
   "source": [
    "## 🍁 课程目标\n",
    "\n",
    "学完本节课程后，你将能够：\n",
    "\n",
    "* 了解提示词框架和模板\n",
    "* 了解提示词技巧和最佳实践\n",
    "* 学习在工程中应用大模型处理多种不同类型的任务"
   ]
  },
  {
   "cell_type": "markdown",
   "id": "5b0e80fa",
   "metadata": {},
   "source": [
    "## 1. 前文回顾\n",
    "\n",
    "上一节中通过RAG方法，大模型已经获取到了公司的私有知识。为了方便调用，将其封装成了几个函数，并保存在了 chatbot/rag.py 中。 现在你可以通过如下代码来快速调用。"
   ]
  },
  {
   "cell_type": "code",
   "execution_count": null,
   "id": "7aa6756d-47a4-4b11-8074-d992d6ce327b",
   "metadata": {
    "ExecuteTime": {
     "end_time": "2025-01-15T06:49:03.577636Z",
     "start_time": "2025-01-15T06:49:03.573248Z"
    }
   },
   "outputs": [],
   "source": [
    "import os\n",
    "from config.load_key import load_key\n",
    "# 加载API密钥\n",
    "load_key()\n",
    "print(f'''你配置的 API Key 是：{os.environ[\"DASHSCOPE_API_KEY\"][:5]+\"*\"*5}''')"
   ]
  },
  {
   "cell_type": "code",
   "execution_count": null,
   "id": "91138451-fbc1-49ff-a268-2ece341b10bd",
   "metadata": {
    "ExecuteTime": {
     "end_time": "2025-01-15T06:49:11.770743Z",
     "start_time": "2025-01-15T06:49:11.611835Z"
    }
   },
   "outputs": [],
   "source": [
    "from chatbot import rag, llm\n",
    "# 加载索引\n",
    "# 上小节已经建立了索引，因此这里可以直接加载索引。如果需要重建索引，可以增加一行代码：rag.indexing()\n",
    "index = rag.load_index()\n",
    "query_engine = rag.create_query_engine(index=index)"
   ]
  },
  {
   "cell_type": "code",
   "execution_count": null,
   "id": "1d2d8d11-5a07-441c-9cd6-6ba10bf80603",
   "metadata": {
    "ExecuteTime": {
     "end_time": "2025-01-15T06:49:16.961802Z",
     "start_time": "2025-01-15T06:49:16.959373Z"
    }
   },
   "outputs": [],
   "source": [
    "# 定义问答函数\n",
    "def ask_llm(question, query_engine):\n",
    "  streaming_response = query_engine.query(question)\n",
    "  streaming_response.print_response_stream()"
   ]
  },
  {
   "cell_type": "markdown",
   "id": "b1715f36",
   "metadata": {},
   "source": [
    "## 2. 优化提示词以改善大模型回答质量\n",
    "\n",
    "上一节，你已经成功地让答疑机器人通过 RAG 掌握了公司的内部知识。现在，你可以测试一下它的实际效果。一位新同事想了解项目管理工具，于是他向机器人发起了提问：\n"
   ]
  },
  {
   "cell_type": "code",
   "execution_count": null,
   "id": "8c51ba4b",
   "metadata": {},
   "outputs": [],
   "source": [
    "# 仅使用RAG时，机器人的表现\n",
    "question = \"我们公司项目管理应该用什么工具？\"\n",
    "ask_llm(question, query_engine)"
   ]
  },
  {
   "cell_type": "markdown",
   "id": "16c5e4d9",
   "metadata": {},
   "source": [
    "预期输出（示例）：\n",
    "```\n",
    "公司项目管理可以使用Jira或Trello等项目管理软件。这些工具能够帮助团队更好地规划和跟踪项目的进度，确保任务按时完成。同时，它们还支持任务分配、时间跟踪和团队协作等功能，有助于提高工作效率。\n",
    "```"
   ]
  },
  {
   "cell_type": "markdown",
   "id": "d0d5c9f2",
   "metadata": {},
   "source": [
    "这个回答是正确的，但不够“好用”。同事反馈说：“如果能直接附上工具的链接就完美了，省得我再去到处找。”\n",
    "\n",
    "这个需求非常合理。一个最直观、最“暴力”的解决方法，或许是在用户的问题后面，手动加上一句指令："
   ]
  },
  {
   "cell_type": "code",
   "execution_count": null,
   "id": "b12a310a-660c-4cd3-9d23-8819bdefb8bb",
   "metadata": {
    "ExecuteTime": {
     "end_time": "2025-01-15T06:49:34.992776Z",
     "start_time": "2025-01-15T06:49:29.417135Z"
    }
   },
   "outputs": [],
   "source": [
    "# 尝试一个简单的“补丁”\n",
    "question = \"我们公司项目管理应该用什么工具？\"\n",
    "instruction = \" 回答时请务必附带上工具的官方网站或下载链接。\"\n",
    " \n",
    "# 将问题和指令简单地拼接在一起\n",
    "new_question = question + instruction\n",
    "ask_llm(new_question, query_engine)"
   ]
  },
  {
   "cell_type": "markdown",
   "id": "59c07db0",
   "metadata": {},
   "source": [
    "预期输出（示例）：\n",
    "```\n",
    "对于项目管理，推荐使用 Jira 或 Trello。这两个工具都非常适合管理和跟踪项目进度，确保团队成员之间的高效协作。\n",
    "\n",
    "- **Jira** 是一个非常强大的项目管理工具，特别适用于软件开发项目。它可以帮助你跟踪问题和任务，管理项目进度。你可以访问 [Atlassian官网](https://www.atlassian.com/software/jira) 获取更多信息或下载。\n",
    "\n",
    "- **Trello** 则是一个更加灵活的看板式项目管理工具，适合各种类型的项目。通过卡片和列表的形式，可以直观地看到项目的进展。你可以访问 [Trello官网](https://trello.com/) 获取更多信息或注册使用。\n",
    "```"
   ]
  },
  {
   "cell_type": "markdown",
   "id": "806fadd6-673a-4542-b3e2-fe36310b30ad",
   "metadata": {},
   "source": [
    "问题似乎解决了。但……真的解决了吗？\n",
    "\n",
    "你需要考虑另一个场景，当用户问一个跟工具无关的问题时："
   ]
  },
  {
   "cell_type": "code",
   "execution_count": null,
   "id": "0260a2af",
   "metadata": {},
   "outputs": [],
   "source": [
    "# 看看这个“补丁”在其他问题上的表现\n",
    "question_2 = \"我们公司的年假有多少天？\"\n",
    "instruction = \" 回答时请务必附带上工具的官方网站或下载链接。\"\n",
    " \n",
    "new_question_2 = question_2 + instruction\n",
    "ask_llm(new_question_2, query_engine)"
   ]
  },
  {
   "cell_type": "markdown",
   "id": "e7855091",
   "metadata": {},
   "source": [
    "预期输出（示例）：\n",
    "```\n",
    "您的问题涉及到具体的公司福利政策，特别是年假天数，但提供的信息中并没有直接提到这一点。通常这类详细信息会记录在员工手册或者公司内部的人力资源政策文件中。建议您直接联系人力资源部获取准确的信息。人力资源部的联系人是熊伟，您可以发送邮件至xiongwei@educompany.com询问具体事宜。\n",
    "\n",
    "至于您要求的工具官方网站或下载链接，由于您的问题并未提及需要使用哪个工具，因此无法提供相关链接。\n",
    "```"
   ]
  },
  {
   "cell_type": "markdown",
   "id": "c76e76cc",
   "metadata": {},
   "source": [
    "现在，问题暴露了。这种“一刀切”地拼接指令的方式非常脆弱。它不仅可能让模型的回答变得啰嗦和奇怪，而且每次提问都要手动判断该拼接哪句指令，这在真实的应用中是完全不可行的。\n",
    "\n",
    "**这正是深入学习提示词工程（Prompt Engineering）的原因**。 它属于 **上下文工程（Context Engineering）** 的一部分，教你如何不再使用这种临时的“补丁”，而是系统性地、智能地构建与模型的对话上下文，精确地“指导”模型如何根据不同的情况来回答问题。"
   ]
  },
  {
   "cell_type": "markdown",
   "id": "c006a5ea-5693-4805-9d2c-ccc0d2214939",
   "metadata": {},
   "source": [
    "## 3. 提示词框架\n",
    "\n",
    "### 3.1 基本要素\n",
    "\n",
    "当和大模型在交流时，可以将它想象是一个经过“社会化训练的”人，交流方式应当和人与人之间传递信息的方式一样。你的需求需要清晰明确，不能有歧义。你的提问方式（Prompt）越清晰明确，大模型越能抓住问题的关键点，回复就越符合你的预期。为了系统性地构建高效的上下文，我们可以遵循一个包含多个基本要素的提示词框架：**任务目标、上下文、角色、受众、样例、输出格式**。这些要素共同构成了一个完整的上下文“蓝图”，能帮助你构建一个完整、有效的提示词。\n",
    "\n",
    "|要素|含义|\n",
    "|----|----|\n",
    "|任务目标（Object）|明确要求大模型完成什么任务，让大模型专注具体目标|\n",
    "|上下文（Context）|任务的背景信息，比如操作流程、任务场景等，明确大模型理解讨论的范围|\n",
    "|角色（Role）|大模型扮演的角色，或者强调大模型应该使用的语气、写作风格等，明确大模型回应的预期情感|\n",
    "|受众（Audience）|明确大模型针对的特定受众，约束大模型的应答风格|\n",
    "|样例（Sample）|让大模型参考的具体案例，大模型会从中抽象出实现方案、需要注意的具体格式等信息|\n",
    "|输出格式（Output Format）|明确指定输出的格式、输出类型、枚举值的范围。通常也会明确指出不需要输出的内容和不期望的信息，可以结合样例来进一步明确输出的格式和输出方法|"
   ]
  },
  {
   "cell_type": "markdown",
   "id": "dc35341a-3d7c-4881-81e3-935d42a1dcb2",
   "metadata": {},
   "source": [
    "当然，除了上面讲的提示词框架，许多问题分析的思维范式都可以用来帮助你描述清晰具体的需求。例如，SWOT分析法、5W2H分析法等。另外，你也可以考虑使用阿里云百炼提供的[提示词自动优化工具](https://bailian.console.aliyun.com/?tab=app#/component-manage/prompt/optimize)，来帮助你完善提示词。\n",
    "\n",
    "<a href=\"https://img.alicdn.com/imgextra/i3/O1CN014JCCqn22zX6xB4tt3_!!6000000007191-0-tps-2068-1052.jpg\" target=\"_blank\">\n",
    "<img src=\"https://img.alicdn.com/imgextra/i3/O1CN014JCCqn22zX6xB4tt3_!!6000000007191-0-tps-2068-1052.jpg\" width=\"700\"/>\n",
    "</a>"
   ]
  },
  {
   "cell_type": "markdown",
   "id": "5e1fa6d9",
   "metadata": {},
   "source": [
    "### 3.2 提示词模板\n",
    "\n",
    "在开发大模型应用时，直接让用户根据框架书写提示词并非最佳选择。你可以参考各种提示词框架中的要素，构建一个提示词模板。提示词模板可以预设部分信息，如大模型的角色、注意事项等，以此来约束大模型的行为。开发者只需在模板中配置输入参数，便能创建标准化的大模型的应用。"
   ]
  },
  {
   "cell_type": "markdown",
   "id": "a84e29a3-a017-47c4-907e-2ff897333d1d",
   "metadata": {},
   "source": [
    "使用 LlamaIndex 中创建的 RAG应用中，有个默认的提示词模板，如下所示：\n",
    "\n",
    "- 默认的模板可以使用代码查看，你可以参考[LlamaIndex官网的代码。](https://docs.llamaindex.ai/en/stable/examples/prompts/prompts_rag/)LlamaIndex原始prompt模板为：\n",
    "\n",
    "```text\n",
    "Context information is below.\n",
    "---------------------\n",
    "{context_str}\n",
    "---------------------\n",
    "Given the context information and not prior knowledge, answer the query.\n",
    "Query: {query_str}\n",
    "Answer:\n",
    "```\n",
    "\n",
    "其中，`context_str`和`query_str`都表示变量。在进行向量检索和提问过程中，`context_str`将替换为从向量库中检索到的上下文信息，`query_str`则替换为用户的问题。"
   ]
  },
  {
   "cell_type": "markdown",
   "id": "78ff8788-4d67-47b8-a4a2-3f3a85e6b0c5",
   "metadata": {},
   "source": [
    "由于原模板是通用模板，不适合用来约束答疑机器人的行为。你可以通过下列示例代码重新调整提示词模板，其中`prompt_template_string`表示新的提示词模板，你可以根据自己的场景自行修改。"
   ]
  },
  {
   "cell_type": "code",
   "execution_count": null,
   "id": "05aea996-fdc8-4a35-922f-288313881fa3",
   "metadata": {
    "ExecuteTime": {
     "end_time": "2025-01-15T07:52:22.442975Z",
     "start_time": "2025-01-15T07:52:22.435217Z"
    }
   },
   "outputs": [],
   "source": [
    "# 构建提示词模板\n",
    "prompt_template_string = (\n",
    "    \"你是公司的客服小蜜，你需要简明扼要的回答用户的问题\"\n",
    "    \"【注意事项】：\\n\"\n",
    "    \"1. 依据上下文信息来回答用户问题。\\n\"\n",
    "    \"2. 你只需要回答用户的问题，不要输出其他信息\\n\"\n",
    "    \"以下是参考信息。\"\n",
    "    \"---------------------\\n\"\n",
    "    \"{context_str}\\n\"\n",
    "    \"---------------------\\n\"\n",
    "    \"问题：{query_str}\\n。\"\n",
    "    \"回答：\"\n",
    ")\n",
    "\n",
    "# 更新提示词模板\n",
    "rag.update_prompt_template(query_engine,prompt_template_string)"
   ]
  },
  {
   "cell_type": "markdown",
   "id": "fa99f324",
   "metadata": {},
   "source": [
    "## 4. 构建有效提示词的技巧\n",
    "\n",
    "在3.1中列举了一些提示词设计中的要素，接下来将从提示词要素出发，结合具体场景展开讲解提示词技巧。"
   ]
  },
  {
   "cell_type": "markdown",
   "id": "f1b3eb55-646d-41dd-b801-152d76205bbe",
   "metadata": {},
   "source": [
    "### 4.1 清晰表达需求，并使用分隔符\n",
    "\n",
    "明确的表达需求可以确保大模型生成的内容与任务高度相关。需求包括任务目标、背景及上下文信息，还可以使用分隔符将各种提示词要素隔开。\n",
    "\n",
    "分隔符可以使大模型抓住具体的目标，避免模糊的理解，也减少对不必要信息的处理。分隔符一般可以选择 “**【】**”、“**<< >>**”、“**###**”来标识关键要素，用“**===**”、“**---**”来分隔段落，或者使用xml标签如`<tag> </tag>`来对特定段落进行标识。当然，分隔符不止上述提到的几种，只需要起到明确阻隔的作用即可。需要注意的是，如果提示词中已大量使用某种符号（如【】），则应避免用该符号作为分隔符，以防混淆。\n",
    "\n",
    "在下面的示例中，将基于3.2中的提示词模板，以答疑机器人的身份帮你完成文档润色。\n",
    "\n",
    "- 你需要运行3.2中的代码，才能使新的提示词模板生效。"
   ]
  },
  {
   "cell_type": "code",
   "execution_count": null,
   "id": "8918731d-49b6-4132-9ba5-2dce3eee360c",
   "metadata": {
    "ExecuteTime": {
     "end_time": "2025-01-15T07:52:32.192934Z",
     "start_time": "2025-01-15T07:52:24.619420Z"
    }
   },
   "outputs": [],
   "source": [
    "question = \"\"\"\n",
    "把下列【】括起来的文本进行扩写和润色，让文案生动且富有创造力，并且受到公司新员工的喜欢。\n",
    "【新员工训练营活动】\n",
    "\"\"\"\n",
    "ask_llm(question,query_engine)"
   ]
  },
  {
   "cell_type": "markdown",
   "id": "62ae4c28-a2e6-4ad3-995b-7af2d78b19d1",
   "metadata": {},
   "source": [
    "由上述运行结果可以发现，提示词中明确了任务需求：对文本进行扩写和润色，任务主题为“**新员工训练营活动**”，受众为“**公司员工**”，并使用了“**【】**”分隔符分隔了文本。使用这样的提示词，让输出的文本不仅保持了原本的含义，还更加生动有趣。"
   ]
  },
  {
   "cell_type": "markdown",
   "id": "e7e4407d-3cff-4f00-a39b-b8ddfd7cce1d",
   "metadata": {},
   "source": [
    "### 4.2 限定角色和受众\n",
    "\n",
    "角色指大模型在特定场景下应扮演的身份，如专家、顾问或助手。受众是使用模型输出的目标用户群体，如普通消费者或学生。这有助于开发者定制内容的风格和深度。以下示例将展示不同的系统角色对输出文本风格和内容的影响，用户的问题为：qwen-vl是什么？\n",
    "\n",
    "- 以下仅演示提示词模板和输出的内容，你可以将提示词模板传入到`prompt_template_string`中，将用户问题传入到`question`中，再调用`ask_llm`函数。"
   ]
  },
  {
   "cell_type": "markdown",
   "id": "79e5f128-8b02-40ca-b789-d577b6e38a3a",
   "metadata": {},
   "source": [
    "<table>\n",
    "  <thead>\n",
    "    <tr>\n",
    "      <th width = '80px'>角色</th>\n",
    "      <th width = '500px'>大模型算法工程师</th>\n",
    "      <th width = '500px'>小学老师</th>\n",
    "    </tr>\n",
    "  </thead>\n",
    "  <tbody valign = 'top'>\n",
    "    <tr>\n",
    "      <td>提示模板</td>\n",
    "      <td>\"你是资深的大模型算法工程师，请根据用户的问题进行解答\\n\"<br>\"---------------------\\n\"<br>\"{context_str}\\n\"<br>\"---------------------\\n\"<br>\"问题：{query_str}\\n。\"<br>\"回答：\"</td>\n",
    "      <td>\"你是一名小学老师，请根据用户的问题进行解答\\n\"<br>\"---------------------\\n\"<br>\"{context_str}\\n\"<br>\"---------------------\\n\"<br>\"问题：{query_str}\\n。\"<br>\"回答：\"</td>\n",
    "    </tr>\n",
    "    <tr>\n",
    "      <td>用户问题</td>\n",
    "      <td>Qwen-VL</td>\n",
    "      <td>Qwen-VL</td>\n",
    "    </tr>\n",
    "    <tr>\n",
    "      <td>输出回答</td>\n",
    "      <td>Qwen-VL是阿里巴巴云推出的一种多模态预训练模型，它结合了文本和图像处理能力，能够理解和生成与图像相关的文本描述。简单来说，Qwen-VL可以看作是一个能够“看图说话”的人工智能助手，它不仅能够理解图片的内容，还能根据图片内容生成相应的文字描述或回答相关问题。这种技术在多个领域都有广泛的应用前景，比如自动图像标注、视觉问答系统、基于内容的图像搜索等。对于新媒体运营而言，Qwen-VL这样的工具可以帮助提高内容创作效率，增强用户体验，为用户提供更加丰富多元的信息展示方式。</td>\n",
    "      <td>小朋友们，我们今天来认识一个新朋友，它的名字叫做Qwen-VL！<br>Qwen-VL就像是一个非常聪明的机器人，它拥有“眼睛”👀和“大脑”🧠。它能“看”图片、视频，还能理解它们的意思，就像我们一样！<br>比如，你给它看一张小猫玩毛线球的图片，它不仅能认出这是一只小猫🐱，还能告诉你它在玩毛线球🧶。 更厉害的是，你还可以问它：“小猫是什么颜色的？”，它就能告诉你小猫的颜色。<br>它还能理解视频里的内容，比如你给它看一段小朋友们踢足球⚽️的视频，它能告诉你谁在踢球，球踢到了哪里，甚至还能猜到接下来可能会发生什么！<br>Qwen-VL就像一个正在学习的小朋友，它还在不断地学习和进步，将来它会变得更聪明，能做更多的事情，帮助我们更好地了解这个世界！</td>\n",
    "    </tr>\n",
    "  </tbody>\n",
    "</table>\n"
   ]
  },
  {
   "cell_type": "markdown",
   "id": "10f06bea-a34b-4e7a-b2b5-918af4c1ebdb",
   "metadata": {},
   "source": [
    "### 4.3 规定输出格式\n",
    "有时候，开发者在设计大模型应用时，需要采用结构化的数据作为下游系统的输入，才能完成整个应用的开发，但是一般大模型是输出连续的文本。不用担心，大模型有结构化输出的能力。你只需在提示词中指定输出的格式和要求，大模型有很大可能会输出结构化的内容。\n",
    "\n",
    "在下面的示例中，将基于3.2中的提示词模板，以答疑机器人的身份帮助公司开发的文档进行文档质量审查，并将结果以json的格式输出："
   ]
  },
  {
   "cell_type": "code",
   "execution_count": null,
   "id": "e6692496-b6e4-4d75-aaa2-ef38b0c24f0c",
   "metadata": {
    "ExecuteTime": {
     "end_time": "2025-01-15T06:49:49.007218Z",
     "start_time": "2025-01-15T06:49:46.080617Z"
    }
   },
   "outputs": [],
   "source": [
    "question_task= \"\"\"\n",
    "【任务要求】\n",
    "你将看到一句话或一段话。你需要审查这段话中有没有错别字。如果出现了错别字，你要指出错误，并给出解释。\n",
    " “的” 和 “地” 混淆不算错别字，没有错误\n",
    "---\n",
    "【输出要求】\n",
    "请你只输出json格式，不要输出代码段\n",
    "其中，label只能取0或1，0代表有错误，1代表没有错误\n",
    "reason是错误的原因\n",
    "correct是修正后的文档内容\n",
    "---\n",
    "【用户输入】\n",
    "以下是用户输入，请审阅：\n",
    "\"\"\"\n",
    "question_doc = \"分隔符是特殊的符号，它们帮助大语言膜形 (LLM) 识别提示中哪些部分应当被视为一个完整的意思单元。\"\n",
    "\n",
    "question = question_task + question_doc\n",
    "ask_llm(question, query_engine)"
   ]
  },
  {
   "cell_type": "markdown",
   "id": "ebe59cd3-a241-4b28-902e-7ca35966e6a7",
   "metadata": {},
   "source": [
    "由上述示例的结果可知，在提示词`question_task`中注明了输出格式为json，也规定了输出的内容，大模型成功的输出了格式化的内容。这种稳定的格式化输出，使得在现有的系统中接入大模型这个操作变得具有可行性。\n",
    "\n",
    "在新闻网站、博客平台或企业内部的知识分享平台上，用户编辑或发布的文章可能会包含错别字、语法错误、甚至是敏感信息。但是传统的人工审核方式很容易出疏漏。这时候可以接入大模型来对内容做审查工作。如果文章被标记为存在严重语法错误或含有高风险敏感词汇，则将其修改的优先级设置为“高”。对于轻微问题的文章，则可以将其修改的优先级设置为“低”。这样会节省人力成本，提高系统的效率与准确性。\n",
    "\n",
    "当然了，类似于上述场景的应用非常多，开发者可以分析系统中流程的瓶颈或者关注数据密集型的任务，探索更多的大模型应用场景。"
   ]
  },
  {
   "cell_type": "markdown",
   "id": "75f32b7a-9b47-40f1-82cb-e889a3b48048",
   "metadata": {},
   "source": [
    "### 4.4 提供少样本示例\n",
    "\n",
    "在4.3的例子中，提示词规定了输出的格式，大模型成功生成了格式化的内容。然而，如果希望大模型输出的内容不仅格式正确，而且风格和结构也保持一致，可以提供几个样例作为参考。这相当于给大模型提供了一本“参考书”。下面的代码示例中，先观察下没有样例时的大模型的输出吧！"
   ]
  },
  {
   "cell_type": "code",
   "execution_count": null,
   "id": "afcca16d368baf38",
   "metadata": {
    "ExecuteTime": {
     "end_time": "2025-01-15T07:20:42.883097Z",
     "start_time": "2025-01-15T07:20:18.423060Z"
    }
   },
   "outputs": [],
   "source": [
    "question_task = \"\"\"\n",
    "【任务要求】\n",
    "请你根据用户的主题，创作内容。\n",
    "---\n",
    "【输出要求】\n",
    "最终输出需要以Markdown格式呈现，请注意，在你的回答中包含所有必要的Markdown元素，如标题、列表、链接、图片引用、加粗等，以便于阅读、后续编辑和保存。\n",
    "---\n",
    "【用户输入】\n",
    "以下是用户的要求创作的主题：\n",
    "\"\"\"\n",
    "question_doc = \"手工钥匙扣制作教程\"\n",
    "\n",
    "question = question_task + question_doc\n",
    "ask_llm(question, query_engine)"
   ]
  },
  {
   "cell_type": "markdown",
   "id": "30f61d316e005c4f",
   "metadata": {},
   "source": [
    "上述示例大模型成功了输出了手工钥匙扣制作教程，但是内容不够简洁，如果只想大模型输出特定风格和结构的内容，如只输出主题、材料清单、步骤等内容，可以为大模型添加几个样例，让它去“模仿”！"
   ]
  },
  {
   "cell_type": "code",
   "execution_count": null,
   "id": "c1e0f67f703e7ba",
   "metadata": {
    "ExecuteTime": {
     "end_time": "2025-01-15T06:50:39.297041Z",
     "start_time": "2025-01-15T06:50:24.071562Z"
    }
   },
   "outputs": [],
   "source": [
    "question_task= \"\"\"\n",
    "【任务要求】\n",
    "请根据用户的主题，结合下面【样例】给的例子，理解和使用一致的风格和结构继续创作内容，不要输出多余的内容。\n",
    "---\n",
    "【输出要求】\n",
    "最终输出需要以Markdown格式呈现，请注意，在你的回答中包含所有必要的Markdown元素，如标题、列表、链接、图片引用、加粗等，以便于阅读、后续编辑和保存。\n",
    "---\n",
    "【样例】\n",
    "### 示例1: 制作简易书签\n",
    "# 简易书签制作教程\n",
    "\n",
    "## 材料清单\n",
    "- 彩色卡纸\n",
    "- 剪刀\n",
    "- 装饰贴纸\n",
    "- 铅笔\n",
    "\n",
    "## 步骤\n",
    "1. 选择一张彩色卡纸。\n",
    "2. 用铅笔在卡纸上画出一个长方形，尺寸约为2英寸 x 6英寸。\n",
    "3. 沿着铅笔线剪下长方形。\n",
    "4. 使用装饰贴纸对书签进行个性化装饰。\n",
    "5. 完成！现在你有了一个独一无二的书签。\n",
    "\n",
    "## 结束语\n",
    "希望这个教程能帮助你制作出满意的书签！\n",
    "\n",
    "---\n",
    "【用户输入】\n",
    "以下是用户的要求创作的主题：\n",
    "\"\"\"\n",
    "question_doc = \"制作手工贺卡\"\n",
    "\n",
    "question = question_task + question_doc\n",
    "ask_llm(question, query_engine)"
   ]
  },
  {
   "cell_type": "markdown",
   "id": "e95447ee9772539d",
   "metadata": {},
   "source": [
    "由上述示例结果可知，大模型完全按照了样例输出了相同结构和风格的内容。在提示词中规定输出格式的同时，建议提供几个样例供大模型参考，这样可以使得大模型的输出更加稳定和一致。"
   ]
  },
  {
   "cell_type": "markdown",
   "id": "53569b47-1619-4527-a9c8-b53f5e5bdf8d",
   "metadata": {},
   "source": [
    "### 4.5 给模型“思考”的时间\n",
    "\n",
    "对于一些复杂的任务来说，使用上面提到的提示词也许还不能帮助大模型完成任务。但是你可以通过让大模型一步步“思考”，引导大模型输出任务的中间步骤，允许大模型在进行推理之前，得到更多的依据，从而提升在复杂任务的表现能力。思维链（COT）方法是让模型进行思考的一种方法。它通过让模型处理中间步骤，逐步将复杂问题分解为子问题，最终推导出正确答案。\n",
    "\n",
    "假设有这样的场景，让大模型计算下面这道数学题，在此先提示一下，这道题的正确答案为10500元。先使用简单的提示词："
   ]
  },
  {
   "cell_type": "code",
   "execution_count": null,
   "id": "3569f469-c601-406a-a26d-fb0a74157c68",
   "metadata": {
    "ExecuteTime": {
     "end_time": "2025-01-15T06:50:42.416991Z",
     "start_time": "2025-01-15T06:50:41.378053Z"
    }
   },
   "outputs": [],
   "source": [
    "question = \"\"\"\n",
    "【背景信息】\n",
    "某教育培训机构（以下简称“公司”）在2023年度发生了以下主要支出：\n",
    "为了给不同城市的学校学生上课，公司的老师全年共出差了5次，每次出差时间为一周，具体费用如下：\n",
    "   - 交通费及住宿费：平均1600元/次\n",
    "   - 教学用具采购费用：公司在年初一次性购买了一批教学用具，总价为10000元，预计可以使用4年。\n",
    "   \n",
    "【问题描述】\n",
    "请根据上述背景信息，完成以下任务：\n",
    "计算全年因教师出差而产生的差旅总费用，包括摊销的教学用具。\n",
    "\n",
    "【输出要求】\n",
    "直接给出总差旅费用，不要其他信息\"\"\"\n",
    "\n",
    "ask_llm(question, query_engine)"
   ]
  },
  {
   "cell_type": "markdown",
   "id": "edf9078a-f716-4537-b003-a90d70f988b5",
   "metadata": {},
   "source": [
    "由上面的实验结果来看，大模型计算结果不正确。下面将使用COT方法，让大模型逐步进行思考。"
   ]
  },
  {
   "cell_type": "code",
   "execution_count": null,
   "id": "92cb1715-305c-43ee-bd5e-274d2556ad56",
   "metadata": {
    "ExecuteTime": {
     "end_time": "2025-01-15T06:50:55.556383Z",
     "start_time": "2025-01-15T06:50:43.720893Z"
    }
   },
   "outputs": [],
   "source": [
    "question = \"\"\"某教育培训机构（以下简称“公司”）在2023年度发生了以下主要支出：\n",
    "为了给不同城市的学校学生上课，公司的老师全年共出差了5次，每次出差时间为一周，具体费用如下：\n",
    "   - 交通费及住宿费：平均1600元/次\n",
    "   - 教学用具采购费用：公司在年初一次性购买了一批教学用具，总价为10000元，预计可以使用4年。\n",
    "   \n",
    "### 问题描述\n",
    "请根据上述背景信息，完成以下任务：\n",
    "计算全年因教师出差而产生的差旅总费用，包括摊销的教学用具。\n",
    "\n",
    "### 输出要求\n",
    "请你一步步推导，计算总差旅费用\"\"\"\n",
    "\n",
    "ask_llm(question, query_engine)"
   ]
  },
  {
   "cell_type": "markdown",
   "id": "b0ec9cdf-d6e1-469f-9e4c-f91fdf7f1c3e",
   "metadata": {},
   "source": [
    "经过优化后的提示词，大模型能够准确计算出结果。因此在开发大模型应用时，可以在提示词中添加思维链的方法，可以确保一些推理任务能正确执行。  \n",
    "\n",
    "使大模型进行 “思考”的方法还有很多种，比如：思维树（ToT)、思维图（GOT） 等。但是就目前大模型的发展来说，仅靠引导大模型“思考”还是无法完成更复杂的工作。大模型也逐渐从COT的提示方法向多智能体（Agent）方向进行发展。你可以在<2.6 用插件扩展答疑机器人的能力边界>阅读详细内容。"
   ]
  },
  {
   "cell_type": "markdown",
   "id": "n6dhhkohbt",
   "metadata": {},
   "source": [
    "### 4.6 Meta Prompting: 让大模型成为你的提示词教练"
   ]
  },
  {
   "cell_type": "markdown",
   "id": "i11zcld9f3m",
   "metadata": {},
   "source": [
    "一次性就写好一个完美的提示词，往往非常困难。更常见的工作流是：\n",
    "1.  写出第一版提示词。\n",
    "2.  运行它，并分析输出结果中有哪些不符合预期的地方。\n",
    "3.  总结问题，思考如何改进，然后修改提示词。\n",
    "4.  不断重复这个迭代过程，直到满意为止。\n",
    "\n",
    "你可以回想一下，这是否也是你优化提示词的常规路径？这个过程虽然有效，但非常依赖经验，也颇为耗时。\n",
    "\n",
    "这时，你可能会想到：既然大模型这么强大，**这个分析、总结、改进的迭代过程，是否能让大模型自己来做呢？** 让它扮演“提示词评审专家”的角色，帮助我们分析和优化提示词，无疑会更高效。\n",
    "\n",
    "答案是肯定的。这种**让你和模型一起“讨论”如何优化提示词本身**的方法，就叫做 **Meta Prompting**。\n",
    "\n",
    "为了进一步理解这个强大的技巧，你可以来亲手实践一下。"
   ]
  },
  {
   "cell_type": "markdown",
   "id": "c7jtomn45xs",
   "metadata": {},
   "source": [
    "#### 步骤 1：一个不甚理想的初始提示词\n",
    "\n",
    "假设你的任务是优化答疑机器人的回答，让它在回答新员工关于“公司福利”的问题时，输出更友好、结构更清晰的内容。你可能会从一个简单的提示词开始："
   ]
  },
  {
   "cell_type": "code",
   "execution_count": null,
   "id": "qc1fi30l5mc",
   "metadata": {},
   "outputs": [],
   "source": [
    "# 在真实的 RAG 应用中，这段文本会由你的向量数据库检索而来。\n",
    "# 这里用一个字符串来模拟它，方便你进行实验。\n",
    "retrieved_text = \"\"\"\n",
    "关于公司的福利政策，我们提供全面的健康保险，覆盖员工及其直系家属。\n",
    "年度体检是标配。此外，每年有15天的带薪年假，以及5天的带薪病假。\n",
    "我们还提供每月500元的交通补贴和300元的餐饮补贴。\n",
    "为了鼓励员工成长，公司设有每年高达8000元的教育培训基金，员工可以申请用于课程学习或购买专业书籍。\n",
    "健身方面，公司与多家健身房有合作，员工可享受折扣价。\n",
    "\"\"\"\n",
    "\n",
    "# 这是一个非常基础的提示词，只是简单地将任务和信息拼接起来。\n",
    "initial_prompt = f\"\"\"\n",
    "根据以下信息，回答新员工关于公司福利的问题。\n",
    "\n",
    "【参考信息】\n",
    "{retrieved_text}\n",
    "\"\"\"\n",
    "\n",
    "# 看看这个“朴素”的提示词会产生什么样的效果。\n",
    "response = llm.invoke(initial_prompt)\n",
    "print(\"--- 初始回答 ---\")\n",
    "print(response)"
   ]
  },
  {
   "cell_type": "markdown",
   "id": "l9df0nw4kwc",
   "metadata": {},
   "source": [
    "这个回答虽然包含了所有信息，但你可能会觉得，对于一个刚入职的新员工来说，它显得有些平淡和杂乱。它只是简单地复述了文本，没有重点，也缺乏热情的欢迎语气。\n",
    "\n",
    "显然，这个效果没有达到你的预期。现在，你无需自己苦思冥想如何修改，而是可以尝试一种更高效的方法：**让大模型来帮你优化**。\n",
    "\n",
    "#### 步骤 2：构建 Meta Prompt，让大模型提供优化建议\n",
    "\n",
    "现在，你对这个平淡的回答不满意。你可以构建一个“Meta Prompt”，清晰地向模型描述你的目标（友好、结构化、重点突出），并将你那不甚理想的初始提示词和它产出的回答一并“喂”给大模型，请求它以“提示词工程专家”的身份，帮你改进。"
   ]
  },
  {
   "cell_type": "code",
   "execution_count": null,
   "id": "mthl0mpq7u",
   "metadata": {},
   "outputs": [],
   "source": [
    "# 你需要将你的不满和期望清晰地表达出来，这是让AI教练理解你意图的关键。\n",
    "meta_prompt = f\"\"\"\n",
    "我正在为公司的新员工答疑机器人优化一个提示词，目标是回答关于“公司福利”的问题。\n",
    "\n",
    "这是我的第一个尝试：\n",
    "---\n",
    "{initial_prompt}\n",
    "---\n",
    "\n",
    "这是它生成的输出：\n",
    "---\n",
    "{response}\n",
    "---\n",
    "\n",
    "这个输出不够好。我希望机器人的回答更具吸引力，并且结构清晰，能让新员工快速抓住重点。具体要求如下：\n",
    "1.  **语气**：友好、热情，有欢迎新同事的感觉。\n",
    "2.  **结构**：使用清晰的要点（比如用表情符号开头的列表）来组织内容。\n",
    "3.  **内容**：将福利分为几个类别，如“健康与假期”、“补贴与激励”等。\n",
    "\n",
    "请你扮演一位提示词工程专家，帮我重写这个提示词，以实现上述目标。\n",
    "\"\"\"\n",
    "\n",
    "# 现在，让AI教练开始工作，为你生成一个优化版的提示词。\n",
    "optimization_suggestion = llm.invoke(meta_prompt)\n",
    "print(\"--- 来自AI教练的优化建议 --\")\n",
    "print(optimization_suggestion)"
   ]
  },
  {
   "cell_type": "markdown",
   "id": "o856e9fcof",
   "metadata": {},
   "source": [
    "观察AI教练给出的建议，你会发现，它给出的优化后提示词，很可能应用了你在前面章节学到的多种技巧，例如：\n",
    "\n",
    "*   **明确角色** (例如，“你是一位热情、友好的入职伙伴”)\n",
    "*   **清晰的任务描述** (例如，“根据提供的参考信息，生成一段关于公司福利的介绍”)\n",
    "*   **规定输出格式和风格** (例如，“使用热情的欢迎语”、“用表情符号开头的列表”)\n",
    "\n",
    "这证明，让模型扮演专家来优化提示词是完全可行的。\n",
    "\n",
    "#### 步骤 3：使用优化后的提示词\n",
    "\n",
    "现在，你可以直接将这位“AI教练”为你量身定做的提示词用于你的任务，看看效果如何。"
   ]
  },
  {
   "cell_type": "code",
   "execution_count": null,
   "id": "21fwswiytnc",
   "metadata": {},
   "outputs": [],
   "source": [
    "# 这是一个假设的、由AI教练建议的优化版提示词\n",
    "# 在实际应用中，你可以直接使用 `optimization_suggestion` 的输出\n",
    "# 这里为了演示，我们手动构建一个符合建议的提示词\n",
    "\n",
    "optimized_prompt = f\"\"\"\n",
    "【角色】\n",
    "你是一位热情、友好的入职伙伴（Onboarding Buddy），你的任务是欢迎新同事，并清晰地介绍公司的福利政策。\n",
    "\n",
    "【任务】\n",
    "根据提供的【参考信息】，生成一段关于公司福利的介绍。\n",
    "\n",
    "【输出要求】\n",
    "1.  开头使用热情洋溢的欢迎语。\n",
    "2.  将福利信息分类整理，例如分为“健康与假期”、“补贴与激励”等。\n",
    "3.  每个福利项目前使用一个相关的表情符号，使其更生动。\n",
    "4.  结尾表达对新同事的美好祝愿。\n",
    "\n",
    "【参考信息】\n",
    "{retrieved_text}\n",
    "\"\"\"\n",
    "\n",
    "# 使用优化后的提示词再次调用模型\n",
    "final_response = llm.invoke(optimized_prompt)\n",
    "print(\"--- 使用优化版提示词的回答 ---\")\n",
    "print(final_response)"
   ]
  },
  {
   "cell_type": "markdown",
   "id": "pdlgh7ddj5q",
   "metadata": {},
   "source": [
    "通过这个迭代过程，你将得到一个语气热情、结构清晰的回答，这无疑会给新员工留下更好的第一印象。\n",
    "\n",
    "这个例子展示了 Meta Prompting 在提升用户体验方面的巨大价值。它不仅仅是提取信息，更是关于**如何更好地呈现信息**。当你遇到一个棘手的提示词难题时，不要忘记，你的模型本身就是最好的教练。通过清晰地描述你的目标和困难，你可以引导它为你构建出更强大、更精确、也更有“人情味”的提示词。"
   ]
  },
  {
   "cell_type": "markdown",
   "id": "oqor78pg46l",
   "metadata": {},
   "source": [
    "在刚才的初步方案中，我们是向“AI教练”描述了我们期望的**定性目标**（如“友好”、“结构更清晰”），然后由它直接为我们生成一个优化后的提示词。这个方法很便捷，但它有一个关键的局限性：AI教练对这些定性目标的理解可能不够精确，你描述的需求也可能不够具体，这导致优化结果的好坏存在不确定性。\n",
    "\n",
    "为了解决这个问题，让优化过程变得更可控、更精确，我们需要从“定性指导”升级到“量化对齐”。与其给出一个模糊的目标，不如直接给出一个完美的 **“参考答案”** 作为精确的靶子。接下来的进阶方案将向你展示如何利用这个“参考答案”，让大模型通过自动化的差距分析和迭代，逐步地、精确地向着最优结果逼近。这才是更具工程化的改进思路。"
   ]
  },
  {
   "cell_type": "markdown",
   "id": "r5lli1fdexj",
   "metadata": {},
   "source": [
    "#### 多轮迭代：引入参考答案进行差距分析\n",
    "\n",
    "在前面的例子中，你扮演了主导角色，接收“AI教练”的建议并手动应用它。但这个过程还可以进一步自动化和精确化。与其让评估者给出一个模糊的“好”或“不好”的判断，一个更高级的方法是引入一个 **“参考答案”（Reference Answer）**。\n",
    "\n",
    "这个“参考答案”是你心目中最完美的理想答案，可以由人类专家撰写，也可以用一个非常详尽的提示词让最强大的模型生成。迭代优化的目标就变成了：**不断修改提示词，使其生成的回答与这个“参考答案”之间的差距越来越小**。\n",
    "\n",
    "这个过程就像一个拥有精确制导系统的自我修正流程：\n",
    "\n",
    "1.  **设定参考答案 (Set Reference Answer)**：首先，定义一个高质量的、理想的“参考答案”。\n",
    "2.  **生成 (Generate)**：使用当前待优化的提示词，生成一个回答。\n",
    "3.  **分析差距 (Analyze Gap)**：让一个“评估者”大模型（Critic）来比较“生成的回答”和“参考答案”，并输出一份详细的“差距分析报告”，指出两者在语气、结构、内容、格式等方面的具体差异。\n",
    "4.  **优化 (Optimize)**：将“差距分析报告”连同原始提示词、生成的回答一起，交给一个“优化者”大模型（Optimizer）。它的任务是根据这份报告，重写提示词，以专门解决其中指出的问题，从而缩小差距。\n",
    "5.  **重复 (Repeat)**：用优化后的新提示词替换旧的，然后回到第2步，直到“评估者”认为两者差距足够小，或达到最大迭代次数。"
   ]
  },
  {
   "cell_type": "code",
   "execution_count": 63,
   "id": "kda6wboa3z",
   "metadata": {},
   "outputs": [
    {
     "name": "stdout",
     "output_type": "stream",
     "text": [
      "--- 第 1 轮迭代 ---\n",
      "生成的回答 (部分):\\n欢迎加入我们的团队！关于公司福利，这里有一份详细的介绍：\n",
      "\n",
      "1. **健康保险**：我们为所有员工及他们的直系家属提供全面的健康保险，确保您和家人的健康得到保障。\n",
      "\n",
      "2. **年度体检**：每位员工每...\n",
      "差距分析报告:\\n### 差距分析报告\n",
      "\n",
      "#### 1. 语气\n",
      "- **参考答案**：采用了更加亲切、温馨的语气，使用了多个感叹号和表情符号（如 🏥、💰、🎉），营造出一种欢迎和鼓励的氛围。\n",
      "- **生成回答**：语气相对正式，虽然也表达了欢迎和关怀，但没有使用表情符号，整体显得更为严肃。\n",
      "\n",
      "#### 2. 结构\n",
      "- **参考答案**：结构清晰，分为两个主要部分：“健康与假期”和“补贴与激励”，每个部分下有具体的福利项目，条理分明。\n",
      "- **生成回答**：同样结构清晰，但没有明确的分段标题，而是通过数字序列表达各个福利项目。虽然信息量相同，但视觉上不如参考答案直观。\n",
      "\n",
      "#### 3. 内容细节\n",
      "- **参考答案**：\n",
      "  - **健康保险**：提到“覆盖你和你的家人，安心工作无烦忧”。\n",
      "  - **年度体检**：强调“你的健康，我们时刻关心”。\n",
      "  - **带薪年假**：描述为“去探索诗和远方吧！”。\n",
      "  - **带薪病假**：提到“让你安心休养，快速恢复活力”。\n",
      "  - **交通补贴**：具体金额为“每月500元”。\n",
      "  - **餐饮补贴**：具体金额为“每月300元”，并幽默地说“午餐加个鸡腿！”。\n",
      "  - **教育培训基金**：金额为“每年高达8000元”，并鼓励“投资自己，未来可期”。\n",
      "  - **健身折扣**：提到“与多家健身房合作，工作再忙也别忘了锻炼哦！”。\n",
      "- **生成回答**：\n",
      "  - **健康保险**：提到“我们为所有员工及他们的直系家属提供全面的健康保险，确保您和家人的健康得到保障”。\n",
      "  - **年度体检**：描述为“每位员工每年都可以享受一次免费的全面体检，帮助您及时了解自己的健康状况”。\n",
      "  - **带薪休假**：包括“15天的带薪年假和5天的带薪病假”。\n",
      "  - **交通与餐饮补贴**：具体金额分别为“每月500元”和“每月300元”，并说明“直接发放到您的工资卡中”。\n",
      "  - **教育培训基金**：金额为“每年最高可达8000元”，并提到可以“参加各种培训课程或购买专业书籍等”。\n",
      "  - **健身优惠**：提到“与多家健身房建立了合作关系，员工可以享受特别折扣价”。\n",
      "\n",
      "#### 4. 格式\n",
      "- **参考答案**：使用了表情符号（如 🏥、💰、🎉），增加了亲和力和趣味性。\n",
      "- **生成回答**：没有使用表情符号，整体格式较为正式。\n",
      "\n",
      "### 总结\n",
      "- **语气**：参考答案更加亲切和温馨，生成回答则较为正式。\n",
      "- **结构**：参考答案通过分段标题使信息更直观，生成回答则通过数字序列表达。\n",
      "- **内容细节**：两者的具体内容基本一致，但参考答案在描述时加入了更多的鼓励和关怀语言，使内容更具吸引力。\n",
      "- **格式**：参考答案使用了表情符号，增加了亲和力，生成回答则较为正式。\n",
      "\n",
      "总体而言，两者在内容上差异不大，但在语气、结构和格式上有一定的差距。\n",
      "\\n评估未通过，根据差距分析报告优化提示词...\n",
      "--- 第 2 轮迭代 ---\n",
      "生成的回答 (部分):\\n欢迎加入我们的大家庭！关于公司福利，这里有一份详细而温暖的介绍，希望能让你感受到我们的关怀和支持 😊：\n",
      "\n",
      "### 健康与假期\n",
      "1. **健康保险 🏥**：我们为每一位员工及他们的直系家属提供全面的健康...\n",
      "差距分析报告:\\n### 差距分析报告\n",
      "\n",
      "#### 一、语气\n",
      "- **参考答案**：\n",
      "  - 语气较为正式，但不失亲切感。例如，“欢迎加入我们的大家庭！”和“希望这些福利能让你感受到公司的关怀！”等句子都体现了对新员工的欢迎和关怀。\n",
      "- **生成回答**：\n",
      "  - 语气更为亲切和温馨。例如，“欢迎加入我们的大家庭！关于公司福利，这里有一份详细而温暖的介绍，希望能让你感受到我们的关怀和支持 😊”以及“如果你有任何疑问或需要进一步的帮助，请随时联系人力资源部门，我们随时在这里支持你。”这些句子增加了情感上的连接，使新员工感到更加被重视。\n",
      "\n",
      "#### 二、结构\n",
      "- **参考答案**：\n",
      "  - 结构清晰，分为两个主要部分：健康与假期、补贴与激励。每个部分下有具体的福利项目，条理分明。\n",
      "- **生成回答**：\n",
      "  - 结构同样清晰，但增加了更多的细节描述。每个福利项目都有更详细的解释和说明，使内容更加丰富和具体。例如，健康保险部分增加了“让你和家人都能享受到全方位的医疗保障，工作更安心”的描述。\n",
      "\n",
      "#### 三、内容细节\n",
      "- **参考答案**：\n",
      "  - 内容简洁明了，直接列出各项福利的具体内容。例如，“全面健康保险”、“每月500元交通补贴”等。\n",
      "- **生成回答**：\n",
      "  - 内容更加详细和具体。例如，在健康保险部分增加了“让你和家人都能享受到全方位的医疗保障，工作更安心”的描述；在年度体检部分增加了“确保你的身体健康，我们始终关心你的福祉”的描述。这些细节使新员工更容易理解和感受到公司的关怀。\n",
      "\n",
      "#### 四、格式（如表情符号使用）\n",
      "- **参考答案**：\n",
      "  - 使用了一些简单的表情符号，如“👋”、“🎉”，增加了文本的生动性。\n",
      "- **生成回答**：\n",
      "  - 使用了更多的表情符号，如“🏥”、“📊”、“🌴”、“💤”、“🚗”、“🍽️”、“📚”、“🏋️‍♂️”，使文本更加生动和有趣。这些表情符号不仅增强了视觉效果，还帮助新员工更快地理解各个福利项目的具体内容。\n",
      "\n",
      "### 总结\n",
      "- **语气**：生成回答更加亲切和温馨，增加了情感上的连接。\n",
      "- **结构**：两者的结构都清晰，但生成回答在每个福利项目下增加了更多的细节描述，使内容更加丰富和具体。\n",
      "- **内容细节**：生成回答提供了更多的细节和解释，使新员工更容易理解和感受到公司的关怀。\n",
      "- **格式**：生成回答使用了更多的表情符号，使文本更加生动和有趣。\n",
      "\n",
      "综上所述，虽然两者的结构和主要内容相似，但生成回答在语气、内容细节和格式上都有所提升，使其更加亲切、详细和生动。因此，生成回答在多个方面都优于参考答案。\n",
      "\\n评估未通过，根据差距分析报告优化提示词...\n",
      "--- 第 3 轮迭代 ---\n",
      "生成的回答 (部分):\\n亲爱的小伙伴 😊，\n",
      "\n",
      "欢迎加入我们的大家庭！在这里，我们非常重视每位同事的健康与幸福，因此准备了一系列贴心的福利政策，希望能让你在工作之余也能享受到生活的美好。下面，就让我来一一介绍这些福利吧！\n",
      "\n",
      "首...\n",
      "差距分析报告:\\n### 差距分析报告\n",
      "\n",
      "#### 1. 语气\n",
      "- **参考答案**：语气较为正式且热情，使用了较多的专业术语和礼貌用语，如“欢迎加入我们的大家庭！”、“希望这些福利能让你感受到公司的关怀！”等。\n",
      "- **生成回答**：语气更加亲切和友好，使用了更多的表情符号和口语化的表达，如“亲爱的小伙伴 😊”、“祝好，Qwen 🌟”等。这种语气更容易拉近与读者的距离，显得更加人性化。\n",
      "\n",
      "#### 2. 结构\n",
      "- **参考答案**：结构清晰，分为两个主要部分：“健康与假期”和“补贴与激励”，每个部分下有具体的福利项目。整体布局简洁明了。\n",
      "- **生成回答**：同样分为两个主要部分，但在每个部分的介绍中加入了更多的背景说明和情感表达。例如，在介绍健康保险时，不仅提到了保险的内容，还强调了其重要性和覆盖面。这种结构虽然信息量更大，但可能略显冗长。\n",
      "\n",
      "#### 3. 内容细节\n",
      "- **参考答案**：内容具体且简明，每项福利都用一两句话概括清楚，没有过多的解释和修饰。\n",
      "- **生成回答**：内容更加详细，每项福利都有详细的解释和背景说明。例如，在介绍健康保险时，不仅提到覆盖范围，还强调了“确保你和家人在需要时能够得到及时有效的医疗帮助”。这种详细的说明有助于读者更好地理解每一项福利的具体内容和意义。\n",
      "\n",
      "#### 4. 格式\n",
      "- **参考答案**：格式简洁，使用了Markdown格式的标题和列表，使得内容层次分明，易于阅读。\n",
      "- **生成回答**：格式同样使用了Markdown，但在每个段落之间增加了更多的过渡句和情感表达，使得整体看起来更加流畅。此外，生成回答中使用了更多的表情符号，如😊、🏥、🌞、🚇、🍽️、💼、🏋️‍♂️等，这些符号增加了文本的趣味性和亲和力。\n",
      "\n",
      "#### 总结\n",
      "- **语气**：生成回答更加亲切和友好，而参考答案则更为正式和专业。\n",
      "- **结构**：生成回答在每个部分的介绍中加入了更多的背景说明和情感表达，虽然信息量更大，但可能略显冗长。\n",
      "- **内容细节**：生成回答对每项福利进行了详细的解释和背景说明，有助于读者更好地理解。\n",
      "- **格式**：生成回答使用了更多的表情符号，增加了文本的趣味性和亲和力。\n",
      "\n",
      "总体而言，生成回答在语气、内容细节和格式上都更加注重与读者的情感交流，而参考答案则更加注重信息的简洁和专业性。两者各有优势，但生成回答在人性化和亲和力方面表现得更好。\n",
      "\\n评估未通过，根据差距分析报告优化提示词...\n",
      "\\n达到最大迭代次数，停止优化。\n"
     ]
    }
   ],
   "source": [
    "# 1. 设定参考答案\n",
    "reference_answer = \"\"\"\n",
    "👋 欢迎加入我们的大家庭！很高兴能为你介绍我们超棒的福利政策：\n",
    "\n",
    "**🏥 健康与假期，我们为你保驾护航：**\n",
    "-   **全面健康保险**：覆盖你和你的家人，安心工作无烦忧。\n",
    "-   **年度体检**：你的健康，我们时刻关心。\n",
    "-   **带薪年假**：每年足足15天，去探索诗和远方吧！\n",
    "-   **带薪病假**：5天时间，让你安心休养，快速恢复活力。\n",
    "\n",
    "**💰 补贴与激励，为你加油打气：**\n",
    "-   **交通补贴**：每月500元，通勤路上更轻松。\n",
    "-   **餐饮补贴**：每月300元，午餐加个鸡腿！\n",
    "-   **教育培训基金**：每年高达8000元，投资自己，未来可期。\n",
    "-   **健身折扣**：与多家健身房合作，工作再忙也别忘了锻炼哦！\n",
    "\n",
    "希望这些福利能让你感受到公司的关怀！期待与你一起创造更多价值！🎉\n",
    "\"\"\"\n",
    "\n",
    "# 2. 定义差距分析和优化函数\n",
    "def analyze_gap(generated_response, reference):\n",
    "    gap_analysis_prompt = f\"\"\"\n",
    "    【角色】你是一位文本比较专家。\n",
    "    【任务】请详细比较【生成回答】与【参考答案】之间的差距。\n",
    "    【参考答案】\n",
    "    {reference}\n",
    "    ---\n",
    "    【生成回答】\n",
    "    {generated_response}\n",
    "    ---\n",
    "    【要求】\n",
    "    请从语气、结构、内容细节、格式（如表情符号使用）等方面，输出一份详细的差距分析报告。如果两者几乎没有差距，请直接回答“差距很小”。\n",
    "    \"\"\"\n",
    "    return llm.invoke(gap_analysis_prompt)\n",
    "\n",
    "def optimize_prompt_with_gap_analysis(current_prompt, generated_response, gap_report):\n",
    "    optimization_prompt = f\"\"\"\n",
    "    【角色】你是一位顶级的提示词工程师。\n",
    "    【任务】根据提供的“差距分析报告”，优化“当前提示词”，使其能够生成更接近“参考答案”的输出。\n",
    "    ---\n",
    "    【当前提示词】\n",
    "    {current_prompt}\n",
    "    ---\n",
    "    【它生成的回答】\n",
    "    {generated_response}\n",
    "    ---\n",
    "    【差距分析报告】\n",
    "    {gap_report}\n",
    "    ---\n",
    "    【要求】\n",
    "    请只返回优化后的新提示词，不要包含任何其他解释。\n",
    "    \"\"\"\n",
    "    return llm.invoke(optimization_prompt)\n",
    "\n",
    "# 3. 迭代优化循环\n",
    "current_prompt = initial_prompt # 复用4.6节的initial_prompt\n",
    "for i in range(3): # 最多迭代3次\n",
    "    print(f\"--- 第 {i+1} 轮迭代 ---\")\n",
    "    generated_response = llm.invoke(current_prompt.format(retrieved_text=retrieved_text))\n",
    "    print(f\"生成的回答 (部分):\\\\n{generated_response[:100]}...\")\n",
    "    \n",
    "    gap_report = analyze_gap(generated_response, reference_answer)\n",
    "    print(f\"差距分析报告:\\\\n{gap_report}\")\n",
    "    \n",
    "    if \"差距很小\" in gap_report:\n",
    "        print(\"\\\\n评估通过，优化完成！\")\n",
    "        break\n",
    "    \n",
    "    print(\"\\\\n评估未通过，根据差距分析报告优化提示词...\")\n",
    "    current_prompt = optimize_prompt_with_gap_analysis(current_prompt, generated_response, gap_report)\n",
    "else:\n",
    "    print(\"\\\\n达到最大迭代次数，停止优化。\")\n",
    "\n",
    "final_prompt_based_on_reference = current_prompt"
   ]
  },
  {
   "cell_type": "markdown",
   "id": "zeaxehmn60s",
   "metadata": {},
   "source": [
    "这个自动化的迭代过程展示了 Meta Prompting 的真正效果。它将你从繁琐的手动调整中解放出来，让模型自己去探索和发现最佳的表达方式，也为更复杂的 **AI 自我改进（Self-Improvment）** 系统的设计提供了基础思路。\n",
    "\n",
    "#### 效果评测：量化你的优化成果\n",
    "\n",
    "当你有多个版本的提示词（例如，初始版本 vs. 单次优化版 vs. 多轮迭代最终版），你如何客观地证明哪个更好呢？除了直观感受，更科学的方法是进行**量化评估**。\n",
    "\n",
    "你可以再次利用大模型，让它扮演一个“评分员”（Grader）的角色，根据一系列标准对不同提示词生成的回答进行打分。\n",
    "\n",
    "例如，你可以定义一个评分标准：\n",
    "\n",
    "*   **友好度 (Friendliness)**: 1-5分\n",
    "*   **结构清晰度 (Clarity)**: 1-5分\n",
    "*   **信息准确性 (Accuracy)**: 1-5分\n",
    "\n",
    "然后，构建一个“Grader Prompt”，将评分标准和待评估的回答一起交给大模型，让它输出一个结构化的评分结果（如 JSON）。"
   ]
  },
  {
   "cell_type": "code",
   "execution_count": 64,
   "id": "qho0sd1rgc8",
   "metadata": {},
   "outputs": [
    {
     "data": {
      "image/png": "[encoded data removed]",
      "text/plain": [
       "<Figure size 1400x800 with 1 Axes>"
      ]
     },
     "metadata": {},
     "output_type": "display_data"
    }
   ],
   "source": [
    "import json\n",
    "import matplotlib.pyplot as plt\n",
    "import numpy as np\n",
    "\n",
    "# 设置中文字体\n",
    "plt.rcParams['font.sans-serif'] = ['SimHei']\n",
    "plt.rcParams['axes.unicode_minus'] = False\n",
    "\n",
    "# 三个质量差异明显的典型回答样本\n",
    "# 差：只是简单罗列信息，没有结构和感情\n",
    "poor_response = \"公司福利：健康保险，家属可用。15天年假，5天病假。交通补贴500，餐饮补贴300。培训基金8000。健身房有折扣。\"\n",
    "\n",
    "# 中：有基本结构和分类，但语气平淡\n",
    "medium_response = \"\"\"\n",
    "公司福利：\n",
    "1. 💦健康和假期：\n",
    "   - 健康保险（含家属）\n",
    "   - 年度体检\n",
    "   - 15天年假和5天病假\n",
    "2. 💰补贴和激励：\n",
    "   - 每月500交通补贴和300餐饮补贴\n",
    "   - 8000元/年的教育培训基金\n",
    "   - 合作健身房折扣\n",
    "\"\"\"\n",
    "\n",
    "# 优：结构清晰、语气友好、视觉吸引力强（直接使用我们的参考答案）\n",
    "good_response = reference_answer \n",
    "\n",
    "# 设计更细化的评估维度\n",
    "def grade_response_detailed(response_to_grade):\n",
    "    grader_prompt = f\"\"\"\n",
    "    【角色】你是一位经验丰富的内部沟通和员工体验评测官。\n",
    "    【任务】请根据以下四个维度，对提供的“公司福利介绍”文本进行1-5分的量化评分。\n",
    "    \n",
    "    【评分维度】\n",
    "    1.  **欢迎语气 (Welcoming Tone)**: 1分表示语气冰冷生硬，5分表示非常热情、有感染力。\n",
    "    2.  **内容结构化 (Structuring)**: 1分表示信息混乱无序，5分表示分类清晰、逻辑性强。\n",
    "    3.  **视觉吸引力 (Visual Appeal)**: 1分表示枯燥乏味，5分表示善用表情符号、粗体等元素，非常吸引眼球。\n",
    "    4.  **信息完整性 (Completeness)**: 1分表示信息缺失严重，5分表示关键福利信息完整无缺。\n",
    "\n",
    "    【待评估文本】\n",
    "    {response_to_grade}\n",
    "    ---\n",
    "    【输出要求】\n",
    "    请严格以JSON格式返回你的评分，不要包含任何解释。例如：\n",
    "    {{\"welcoming_tone\": 5, \"structuring\": 4, \"visual_appeal\": 5, \"completeness\": 5}}\n",
    "    \"\"\"\n",
    "    try:\n",
    "        raw_output = llm.invoke(grader_prompt)\n",
    "        json_str = raw_output[raw_output.find('{'):raw_output.rfind('}')+1]\n",
    "        return json.loads(json_str)\n",
    "    except (json.JSONDecodeError, IndexError):\n",
    "        # 容错处理\n",
    "        return {{\"welcoming_tone\": 1, \"structuring\": 1, \"visual_appeal\": 1, \"completeness\": 1}}\n",
    "\n",
    "# 对三个典型样本进行评分\n",
    "scores = {\n",
    "    \"Original\": grade_response_detailed(poor_response),\n",
    "    \"Single Iteration\": grade_response_detailed(medium_response),\n",
    "    \"Multi-turn Iteration\": grade_response_detailed(good_response)\n",
    "}\n",
    "\n",
    "# 可视化展示有明显区分度的结果\n",
    "labels = list(scores.keys())\n",
    "metrics = list(scores[labels[0]].keys())\n",
    "data = {metric: [s[metric] for s in scores.values()] for metric in metrics}\n",
    "\n",
    "x = np.arange(len(labels))\n",
    "width = 0.2\n",
    "multiplier = 0\n",
    "\n",
    "fig, ax = plt.subplots(figsize=(14, 8))\n",
    "\n",
    "for metric, values in data.items():\n",
    "    offset = width * multiplier\n",
    "    rects = ax.bar(x + offset, values, width, label=metric)\n",
    "    ax.bar_label(rects, padding=3)\n",
    "    multiplier += 1\n",
    "\n",
    "ax.set_ylabel('Score(1-5)', fontsize=14)\n",
    "ax.set_xticks(x + width, labels)\n",
    "ax.legend(loc='upper left', ncols=2)\n",
    "ax.set_ylim(0, 6)\n",
    "\n",
    "plt.show()"
   ]
  },
  {
   "cell_type": "markdown",
   "id": "61t4506kjip",
   "metadata": {},
   "source": [
    "你可以看到，每次迭代的大模型的回复效果都有不同程度的提升。通过这种量化评估，你不仅能直观地看到每次优化带来的提升，还能将“好”或“不好”这种模糊的感觉，转化为清晰、可衡量的数据。这为你提供了一种科学的方法来验证和迭代你的提示词策略，确保每一步改进都有据可依，最终交付出真正高质量的用户体验。"
   ]
  },
  {
   "cell_type": "markdown",
   "id": "c7c107a1",
   "metadata": {},
   "source": [
    "## 5. 推理大模型\n",
    "\n",
    "前面所讲的提示词技巧和提示词框架可以广泛适用于通用大模型（如Qwen2.5-max、GPT-4、DeepSeek-V3），这类模型面向通用对话、知识问答、文本生成等广泛的场景。除了通用大模型，目前还有一类专门为“推理”设计的大模型——`推理大模型`。\n",
    "\n",
    "### 5.1 什么是推理大模型?\n",
    "\n",
    "你可能已经通过2.1节的扩展阅读了解了阿里云的推理大模型[QwQ](https://help.aliyun.com/zh/model-studio/user-guide/qwq) 。为了方便本节后续调用，改写了2.1节中提供的代码，你可以尝试运行以下代码："
   ]
  },
  {
   "cell_type": "code",
   "execution_count": null,
   "id": "500b6e30",
   "metadata": {},
   "outputs": [],
   "source": [
    "from openai import OpenAI\n",
    "import os\n",
    "\n",
    "def reasoning_model_response(user_prompt, system_prompt=\"你是一个编程助手。\", model=\"qwq-32b\"):\n",
    "    \"\"\"\n",
    "    prompt: 用户输入的提示词\n",
    "    model: 此处以 qwq-32b 为例，可按需更换推理模型名称，如：deepseek-r1\n",
    "    \"\"\"\n",
    "    # 初始化客户端\n",
    "    client = OpenAI(\n",
    "        api_key=os.getenv(\"DASHSCOPE_API_KEY\"),\n",
    "        base_url=\"https://dashscope.aliyuncs.com/compatible-mode/v1\"\n",
    "    )\n",
    "\n",
    "    # 初始化状态变量\n",
    "    is_answering = False\n",
    "\n",
    "    # 发起流式请求\n",
    "    completion = client.chat.completions.create(\n",
    "        model=model,\n",
    "        # messages=[{\"role\": \"user\", \"content\": prompt}],\n",
    "        messages=[\n",
    "            {\"role\": \"system\", \"content\": system_prompt},\n",
    "            {\"role\": \"user\", \"content\": user_prompt}\n",
    "        ],\n",
    "        stream=True,\n",
    "    )\n",
    "\n",
    "    # 打印思考过程标题\n",
    "    print(\"\\n\" + \"=\" * 20 + \"思考过程\" + \"=\" * 20 + \"\\n\")\n",
    "\n",
    "    # 处理流式响应\n",
    "    for chunk in completion:\n",
    "        if chunk.choices:\n",
    "            delta = chunk.choices[0].delta\n",
    "            if hasattr(delta, 'reasoning_content') and delta.reasoning_content is not None:\n",
    "                # 处理思考过程内容\n",
    "                print(delta.reasoning_content, end='', flush=True)\n",
    "            else:\n",
    "                # 切换到答案输出模式\n",
    "                if delta.content != \"\" and not is_answering:\n",
    "                    print(\"\\n\" + \"=\" * 20 + \"完整回复\" + \"=\" * 20 + \"\\n\")\n",
    "                    is_answering = True\n",
    "                # 处理答案内容\n",
    "                if delta.content:\n",
    "                    print(delta.content, end='', flush=True)"
   ]
  },
  {
   "cell_type": "code",
   "execution_count": null,
   "id": "9e65df7d",
   "metadata": {},
   "outputs": [],
   "source": [
    "reasoning_model_response(user_prompt=\"你是谁？\")"
   ]
  },
  {
   "cell_type": "markdown",
   "id": "3fea9f93",
   "metadata": {},
   "source": [
    "\n",
    "通过例子可以看到，推理模型相较于通用大模型多出了“`思考过程`”，就像解数学题时有人会先在草稿纸上一步步推导，而不是直接报答案，减少模型出现“拍脑袋”的错误，同时在分步思考过程中，如果某一步骤发现矛盾，还可以回头检查并重新调整思路，展示推理步骤还可以方便人们理解，顺着模型的思考路线验证逻辑。<br>\n",
    "相较于通用大模型，推理大模型通常在解决复杂问题时更可靠，比如在数学解题、代码编写、法律案件分析等需要严谨推理的场景。并不是说推理模型一定更好，两种模型都有各自的应用场景，下表从一些典型维度对这两类模型进行了对比：<br>\n",
    "\n",
    "| 维度            | 推理模型  | 通用模型  |\n",
    "|-------------------|------------------|------------|\n",
    "| 设计目标     | 专注于**逻辑推理、多步问题求解、数学计算**等需要深度分析的任务 | 面向**通用对话、知识问答、文本生成**等广泛场景 |\n",
    "| 训练数据侧重  | 大量**数学题解、代码逻辑、科学推理**数据集增强推理能力 | 覆盖**百科、文学、对话**等多领域海量数据 |\n",
    "| 典型输出特征 | 输出包含**完整推导**步骤，注重逻辑链条的完整性 | 输出**简洁直接**，侧重结果的自然语言表达 |\n",
    "| 响应速度 | 复杂推理任务**响应较慢**（需多步计算） | 常规任务**响应更快**（单步生成为主） |\n",
    "\n",
    "推理模型还是通用模型？如何选择？以下是一些推荐：\n",
    "- **明确的通用任务**：对于明确定义的问题，**通用模型**一般能够很好地处理。\n",
    "- **复杂任务**：对于非常复杂的任务，且需要给出相对**更精确和可靠**的答案，推荐使用**推理模型**。这些任务可能有：\n",
    "    - 模糊的任务：任务相关信息很少，你无法提供模型相对明确的指引。\n",
    "    - 大海捞针：传递大量非结构化数据，提取最相关的信息或寻找关联/差别。\n",
    "    - 调试和改进代码：需要审查并进一步调试、改进大量代码。\n",
    "- **速度和成本**：一般来说推理模型的推理时间较长，如果你对于时间和成本敏感，且任务复杂度不高，**通用模型**可能是更好的选择。<br>\n",
    "\n",
    "当然你还可以在你的应用中结合使用两种模型：使用推理模型完成Agent的规划和决策，使用通用模型完成任务执行。"
   ]
  },
  {
   "cell_type": "markdown",
   "id": "580c0b84",
   "metadata": {},
   "source": [
    "### 5.2 适用于推理大模型的提示词技巧\n",
    "\n",
    "推理模型在面对相对模糊的任务也能给出详尽且格式良好的响应。你依然可以通过**提示词技巧**保证推理大模型的推理质量的下限：<br>\n",
    "#### 技巧一：保持任务提示简洁清晰，提供足够的背景信息<br>\n",
    "本节4.1中介绍的**清晰表达需求**同样适用于推理模型，虽然推理模型能力很强，但却不能“看穿人的想法”，你需要保持提示**简洁、清晰**，从而让推理大模型专注于核心任务。<br>"
   ]
  },
  {
   "cell_type": "code",
   "execution_count": null,
   "id": "fe5cc8ad",
   "metadata": {},
   "outputs": [],
   "source": [
    "bad_prompt=\"\"\"\n",
    "def example(a):\n",
    "  b = []\n",
    "  for i in range(len(a)):\n",
    "    b.append(a[i]*2)\n",
    "  return sum(b)\n",
    "\"\"\"\n",
    "\n",
    "reasoning_model_response(user_prompt=bad_prompt)"
   ]
  },
  {
   "cell_type": "markdown",
   "id": "61e6f145",
   "metadata": {},
   "source": [
    "通过如上示例，可以看到就算你只给推理大模型一段代码，它还是能够通过一系列的推理给出很丰富的答案，但返回的推理中可能包含了很多你不关注的信息，你可以尝试明确**任务目标**，从而获得更有针对性的建议："
   ]
  },
  {
   "cell_type": "code",
   "execution_count": null,
   "id": "10c90bd3",
   "metadata": {},
   "outputs": [],
   "source": [
    "prompt_A=\"\"\"\n",
    "如下 python 代码有什么问题？怎么优化？\n",
    "def example(a):\n",
    "  b = []\n",
    "  for i in range(len(a)):\n",
    "    b.append(a[i]*2)\n",
    "  return sum(b)\n",
    "\"\"\"\n",
    "\n",
    "reasoning_model_response(user_prompt=prompt_A)"
   ]
  },
  {
   "cell_type": "markdown",
   "id": "e5500ab0",
   "metadata": {},
   "source": [
    "同样地，你还可以在结合本节**4.2 限定角色和受众**、**4.3规定输出格式**等技巧进一步限定范围，确保结果符合你的预期。<br>\n",
    "同时，如果提示词比较复杂，你可以通过**分隔符**帮助模型理解你的意图。<br>"
   ]
  },
  {
   "cell_type": "code",
   "execution_count": null,
   "id": "b0d81507",
   "metadata": {},
   "outputs": [],
   "source": [
    "prompt_B=\"\"\"\n",
    "<audience>初级Python开发者</audience>\n",
    "\n",
    "<task>函数性能优化，优化code中的代码。</task>\n",
    "\n",
    "<format>\n",
    "如有多种优化方案请按照如下格式进行输出：\n",
    "【优化方案X】\n",
    "问题描述：[描述]\n",
    "优化方案：[描述]\n",
    "示例代码：[代码块]\n",
    "</format>\n",
    "\n",
    "<code>\n",
    "def example(a):\n",
    "  b = []\n",
    "  for i in range(len(a)):\n",
    "    b.append(a[i]*2)\n",
    "  return sum(b)\n",
    "</code>\n",
    "\"\"\"\n",
    "\n",
    "reasoning_model_response(user_prompt=prompt_B)"
   ]
  },
  {
   "cell_type": "markdown",
   "id": "l78dh3zta8",
   "metadata": {},
   "source": [
    "#### 技巧二：避免思维链提示\n",
    "本节 4.5 中你了解到通过思维链（COT）技术让大模型深入思考提升回复效果。\n",
    "一般来说，你无需提示推理模型“逐步思考”或“解释你的推理”，因为它们本身会进行深入的思考，你的提示可能反而限制推理模型的发挥。除非你需要大模型严格按照固定的思路去推理，这种情况很少发生。\n",
    "\n",
    "#### 技巧三：根据模型响应调整提示词\n",
    "推理模型因其回复形式(包含**思考过程**)，天然适合你分析它的思考推理结论的过程，便于你调整提示词。\n",
    "因此，你不需要纠结提示词是否足够完善，只需要不断与推理模型对话，过程中补充信息，完善提示词即可。\n",
    "比如当你的描述**太抽象**或**无法准确描述**时，你可以用本节4.4讲到的**增加示例**的技巧来明确这些信息，这些示例有时可以从与模型的对话历史中挑选出来。\n",
    "这个过程可以是重复多次的，不断尝试调整提示，让模型不断推理迭代，直到符合你的要求。"
   ]
  },
  {
   "cell_type": "markdown",
   "id": "c163ae4c",
   "metadata": {},
   "source": [
    "#### 技巧四：让推理模型成为你的“提示词教练”\n",
    "\n",
    "在 4.6 节中，你学习了 **Meta Prompting**，即让大模型帮助你优化提示词。那么，哪种模型最适合扮演这位“教练”的角色呢？\n",
    "\n",
    "答案是**推理模型**。\n",
    "\n",
    "由于推理模型擅长分步思考和逻辑推导，它们在分析一个提示词的优缺点、并系统性地提出改进建议方面表现得尤为出色。它们不仅能给你一个更好的提示词，还能清晰地展示出“为什么”这样改会更好，让你在优化过程中也能学到提示词工程的精髓。\n",
    "\n",
    "让我们重新审视 4.6 节中的例子，但这次，我们使用在 6.1 节中定义的 `reasoning_model_response` 函数来充当我们的提示词教练。"
   ]
  },
  {
   "cell_type": "code",
   "execution_count": null,
   "id": "01807cca",
   "metadata": {},
   "outputs": [],
   "source": [
    "# 我们将复用 4.6 节中的公司福利场景\n",
    "retrieved_text = \"\"\"\n",
    "关于公司的福利政策，我们提供全面的健康保险，覆盖员工及其直系家属。\n",
    "年度体检是标配。此外，每年有15天的带薪年假，以及5天的带薪病假。\n",
    "我们还提供每月500元的交通补贴和300元的餐饮补贴。\n",
    "为了鼓励员工成长，公司设有每年高达8000元的教育培训基金，员工可以申请用于课程学习或购买专业书籍。\n",
    "健身方面，公司与多家健身房有合作，员工可享受折扣价。\n",
    "\"\"\"\n",
    "\n",
    "# 初始的、比较简单的提示词\n",
    "initial_prompt = f\"\"\"\n",
    "根据以下信息，回答新员工关于公司福利的问题。\n",
    "\n",
    "【参考信息】\n",
    "{retrieved_text}\n",
    "\"\"\"\n",
    "\n",
    "# 假设这是通用模型的、不甚理想的输出\n",
    "initial_response = \"\"\"\n",
    "我们公司提供全面的健康保险，覆盖员工及其家属。每年有15天带薪年假和5天病假。还有每月500元交通补贴和300元餐饮补贴。公司提供8000元的年度教育基金，并与健身房有合作折扣。\n",
    "\"\"\"\n",
    "\n",
    "# 构建我们的 Meta Prompt，请求推理模型帮助优化\n",
    "meta_prompt_for_reasoning = f\"\"\"\n",
    "我正在为公司的新员工答疑机器人优化一个提示词，目标是回答关于“公司福利”的问题。\n",
    "\n",
    "这是我的第一个尝试：\n",
    "---\\n{initial_prompt}\\n---\n",
    "\n",
    "这是它生成的输出：\n",
    "---\\n{initial_response}\\n---\n",
    "\n",
    "这个输出不够好。我希望机器人的回答更具吸引力，并且结构清晰，能让新员工快速抓住重点。具体要求如下：\n",
    "1.  **语气**：友好、热情，有欢迎新同事的感觉。\n",
    "2.  **结构**：使用清晰的要点（比如用表情符号开头的列表）来组织内容。\n",
    "3.  **内容**：将福利分为几个类别，如“健康与假期”、“补贴与激励”等。\n",
    "\n",
    "请你扮演一位提示词工程专家，帮我重写这个提示词，以实现上述目标。\n",
    "请在最终答案中，只给出优化后的提示词本身，不要包含其他解释性文字。\n",
    "\"\"\"\n",
    "\n",
    "# 使用推理模型来获取优化建议\n",
    "reasoning_model_response(user_prompt=meta_prompt_for_reasoning, system_prompt=\"你是一位顶级的提示词工程专家。\")"
   ]
  },
  {
   "cell_type": "markdown",
   "id": "3cf7690c",
   "metadata": {},
   "source": [
    "通过上面的示例，你可以清晰地看到推理模型是如何一步步分析原始提示词的不足，并结合我们提出的要求（友好的语气、清晰的结构、生动的内容等），最终构建出一个结构更加严谨、意图更加明确的优化版提示词。\n",
    "\n",
    "这充分展示了将合适的工具用在合适的任务上的重要性，这背后是 **任务复杂性** 与 **执行成本（时间与费用）** 之间的权衡：\n",
    "\n",
    "- **通用模型（非推理模型）**：\n",
    "    - **优势**：执行速度快，成本较低。\n",
    "    - **适用场景**：适合执行相对直接、明确的任务，例如根据一个已经优化好的提示词进行信息提取、格式转换或简单问答。\n",
    "\n",
    "- **推理模型**：\n",
    "    - **优势**：擅长处理复杂、模糊或需要深度逻辑推导的任务。\n",
    "    - **适用场景**：更适合执行“元任务”（meta-task），例如分析和优化另一个任务（即提示词本身）的定义、进行复杂的规划或调试代码。\n",
    "    - **成本**：由于需要进行多步思考，其响应时间通常更长，成本也相对更高。\n",
    "\n",
    "在你构建自己的大模型应用时，**混合使用这两种模型**往往是实现最佳性价比的策略。你可以借鉴这种思路，构建一个“分工明确”的智能系统：\n",
    "当任务需要深度思考或规划时，引入推理模型来充当“**规划师**”或“**分析师**”的角色，让它来分解复杂任务或优化流程；然后，将拆解后的、更简单的子任务交由**通用模型**或其他工具来高效、低成本地执行。这种协作模式，能让你在保证高质量输出的同时，有效控制应用的响应时间和运行成本。"
   ]
  },
  {
   "cell_type": "markdown",
   "id": "30451423",
   "metadata": {},
   "source": [
    "## ✅ 本节小结\n",
    "\n",
    "通过学习本节课程，你掌握了更多**上下文工程（Context Engineering）** 的高级技巧，从设计精细的提示词到实现智能的意图路由。回顾过去两节课，我们已经为答疑机器人装备了两大核心能力：<br>\n",
    "1. **知识填充 (通过 RAG)**：解决了模型“不知道”私有信息的问题。\n",
    "2. **行为引导 (通过提示词与控制流)**：解决了模型“如何做”、“做什么”的问题。\n",
    "这些技巧的共同核心，正是上下文工程的精髓：<br>\n",
    "通过精心设计和填充模型的上下文窗口，来引导和控制其生成期望的输出——这对于你用好大模型至关重要。\n",
    "\n",
    "实际落地大模型应用的过程中，提示词部分经常让领域专家来共同设计。因此，在你的工程代码中硬编码提示词，应该考虑调整成可配置的，甚至应用流程也可配置，这样能更方便领域专家参与提示词和整个流程的设计。阿里云百炼提供了可视化的大模型[应用构建](https://help.aliyun.com/zh/model-studio/user-guide/application-introduction#7c79befb2djg9)能力，可以在页面上完成提示词编写、整个复杂应用的流程可视化搭建，非常适合在需要非技术背景的领域专家参与的大模型应用开发项目中。\n",
    "\n",
    "在下一节中，你将学习自动化评测方法测试答疑机器人的表现，你可以使用量化的指标来评测你通过上下文工程所做的优化效果。"
   ]
  },
  {
   "cell_type": "markdown",
   "id": "3166b70c",
   "metadata": {},
   "source": [
    "\n",
    "\n",
    "## 🔥 课后小测验\n",
    "\n",
    "### 🔍 单选题\n",
    "<details>\n",
    "<summary style=\"cursor: pointer; padding: 12px; border: 1px solid #dee2e6; border-radius: 6px;\">\n",
    "<b>以下哪个提示词要素用于明确要求大模型完成的任务❓</b>\n",
    "\n",
    "- A. 角色 (Role)     \n",
    "- B. 受众 (Audience)   \n",
    "- C. 任务目标 (Object)  \n",
    "- D. 上下文 (Context)  \n",
    "\n",
    "**【点击查看答案】**\n",
    "</summary>\n",
    "\n",
    "<div style=\"margin-top: 10px; padding: 15px;  border: 1px solid #dee2e6; border-radius: 0 0 6px 6px;\">\n",
    "\n",
    "✅ **参考答案：C**  \n",
    "📝 **解析**：\n",
    "- 任务目标 (Object) 明确规定了大模型需要执行的操作或达成的结果。其他选项并非直接定义任务本身。\n",
    "- 角色 (Role) 定义大模型扮演的身份，受众 (Audience) 定义目标群体，上下文 (Context) 提供背景信息。\n",
    "\n",
    "\n",
    "</div>\n",
    "</details>\n",
    "\n",
    "---\n",
    "\n",
    "\n",
    "### 🔍 多选题\n",
    "<details>\n",
    "<summary style=\"cursor: pointer; padding: 12px; border: 1px solid #dee2e6; border-radius: 6px;\">\n",
    "<b>假设你想使用大模型生成一段适合小学三年级学生阅读的关于太阳系的描述。以下哪个 user_query 的设计更合理❓</b>\n",
    "\n",
    "- A. user_query=\"Write about the solar system.\"    \n",
    "- B. user_query=\"Tell me about the solar system.\"     \n",
    "- C. user_query=\"Explain the solar system as if you were talking to a third-grade student.\"     \n",
    "- D. user_query=\"Write a short and engaging description of the solar system for a third-grade audience, focusing on key planets and their characteristics.\"   \n",
    "- E. user_query=\"太阳系是什么？\"   \n",
    "\n",
    "**【点击查看答案】**\n",
    "</summary>\n",
    "\n",
    "<div style=\"margin-top: 10px; padding: 15px; border: 1px solid #dee2e6; border-radius: 0 0 6px 6px;\">\n",
    "\n",
    "✅ **参考答案：CD**  \n",
    "📝 **解析**：\n",
    "- C、D 选项明确指定了目标读者，并对内容和风格提出了要求。\n",
    "\n",
    "</div>\n",
    "</details>\n",
    "\n",
    "\n",
    "---\n",
    "\n",
    "\n",
    "### 🔍 多选题\n",
    "<details>\n",
    "<summary style=\"cursor: pointer; padding: 12px; border: 1px solid #dee2e6; border-radius: 6px;\">\n",
    "<b>在使用推理型大模型（如qwq-32b）执行推理任务时。以下哪些提示词技巧是推荐的❓</b>\n",
    "\n",
    "- A. 给出简单、明确的任务指示    \n",
    "- B. 补充足够的背景信息     \n",
    "- C. 如有特定用户群体或特定任务要求，设定角色或受众     \n",
    "- D. 通过思维链提示帮助推理过程更为严谨可靠   \n",
    "- E. 当描述太抽象或无法准确描述时，可以通过增加示例来明确这些信息 \n",
    "\n",
    "**【点击查看答案】**\n",
    "</summary>\n",
    "\n",
    "<div style=\"margin-top: 10px; padding: 15px; border: 1px solid #dee2e6; border-radius: 0 0 6px 6px;\">\n",
    "\n",
    "✅ **参考答案：ABCE**  \n",
    "📝 **解析**：\n",
    "- 使用推理模型时应尽量避免使用思维链，这可能反而降低推理效果\n",
    "\n",
    "</div>\n",
    "</details>"
   ]
  },
  {
   "cell_type": "markdown",
   "id": "b354883f",
   "metadata": {},
   "source": [
    "## ✉️ 评价反馈\n",
    "\n",
    "感谢你学习阿里云大模型ACP认证课程，如果你觉得课程有哪里写得好、哪里写得不好，期待你[通过问卷提交评价和反馈](https://survey.aliyun.com/apps/zhiliao/Mo5O9vuie)。\n",
    "\n",
    "你的批评和鼓励都是我们前进的动力。"
   ]
  }
 ],
 "metadata": {
  "jupytext": {
   "cell_metadata_filter": "-all",
   "main_language": "python",
   "notebook_metadata_filter": "-all"
  },
  "kernelspec": {
   "display_name": ".venv",
   "language": "python",
   "name": "python3"
  },
  "language_info": {
   "codemirror_mode": {
    "name": "ipython",
    "version": 3
   },
   "file_extension": ".py",
   "mimetype": "text/x-python",
   "name": "python",
   "nbconvert_exporter": "python",
   "pygments_lexer": "ipython3",
   "version": "3.11.9"
  }
 },
 "nbformat": 4,
 "nbformat_minor": 5
}
