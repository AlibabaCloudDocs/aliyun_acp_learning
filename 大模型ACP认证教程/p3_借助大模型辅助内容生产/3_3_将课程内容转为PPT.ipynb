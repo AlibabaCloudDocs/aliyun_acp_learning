{
 "cells": [
  {
   "cell_type": "markdown",
   "metadata": {},
   "source": [
    "# 3.3 将课程内容转为PPT\n",
    "\n",
    "## 🚅 前言\n",
    "在实际授课过程中，常常需要制作PPT以辅助讲解。本节课程介绍如何借助文本生成模型 Qwen-Max 和基于 Markdown 的演示文稿生成工具 Marp，将课程内容快速转换为 PPT。\n",
    "\n",
    "## 🍁 课程目标\n",
    "学完本课程后，你将能够：\n",
    "- 使用 Qwen-Max 进行内容提炼和格式转换\n",
    "- 了解 Marp，并使用 Marp 将 Mardkown 文档导出为 PPT\n",
    "\n",
    "## 📖 课程目录\n",
    "\n",
    "- [1. 原理介绍](#🧮-1-原理介绍)\n",
    "- [2. 代码实践](#🛠️-2-代码实践)\n",
    "    - [2.1. 环境准备](#21-环境准备)\n",
    "    - [2.2. 设置 API 客户端](#22-设置-api-客户端)\n",
    "    - [2.3. 从课程内容中提炼出 PPT 脚本](#23-从课程内容中提炼出-ppt-脚本)\n",
    "    - [2.4. 将 PPT 脚本转换为 Marp 格式](#24-将-ppt-脚本转换为-marp-格式)\n",
    "    - [2.5. 导出为 PPT](#25-导出为-ppt)\n",
    "  \n",
    "\n",
    "## 🧮 1. 原理介绍\n",
    "\n",
    "为了将课程内容转换成 PPT，除了大模型，我们还需要结合使用一款工具：\n",
    "\n",
    "- [Marp](https://github.com/marp-team/marp)： 一个基于 Markdown 的幻灯片生成工具，旨在简化创建演示文稿的过程。它允许用户使用轻量级的 Markdown 语法编写幻灯片，生成美观的演示，无需使用复杂的幻灯片编辑器。这使得 Marp 特别适合技术人员、开发者和喜欢使用 Markdown 的用户。\n",
    "\n",
    "\n",
    "结合使用 Qwen-Max 和 Marp 将课程内容转为 PPT 的过程如下：\n",
    "\n",
    "<div align=\"center\">\n",
    "    <img src=\"https://gw.alicdn.com/imgextra/i1/O1CN01ywrWDR1dI9CB5NFFR_!!6000000003712-0-tps-2398-190.jpg\" alt=\"流程\" width=\"80%\"/>\n",
    "</div>\n",
    "\n",
    "\n",
    "## 🛠️ 2. 代码实践\n",
    "\n",
    "接下来，让我们运行以下代码，将第一节课生成的课程内容转换为 PPT。\n",
    "\n",
    "### 2.1. 环境准备\n",
    "1. 在 Terminal 中执行以下命令，安装 marp-cli 和 Chromium。"
   ]
  },
  {
   "cell_type": "raw",
   "metadata": {
    "ExecutionIndicator": {
     "show": false
    },
    "execution": {
     "iopub.execute_input": "2024-09-29T09:46:05.958809Z",
     "iopub.status.busy": "2024-09-29T09:46:05.958495Z",
     "iopub.status.idle": "2024-09-29T09:47:39.274558Z",
     "shell.execute_reply": "2024-09-29T09:47:39.273994Z",
     "shell.execute_reply.started": "2024-09-29T09:46:05.958790Z"
    },
    "tags": []
   },
   "source": [
    "sudo apt update -y\n",
    "curl -fsSL https://deb.nodesource.com/setup_18.x | sudo -E bash -\n",
    "sudo apt-get install -y nodejs\n",
    "export NODE_HOME=/usr/bin/node\n",
    "export PATH=/usr/bin:$PATH\n",
    "node -v\n",
    "npm install -g cnpm --registry=https://registry.npmmirror.com\n",
    "cnpm install -g @marp-team/marp-cli\n",
    "sudo apt install -y chromium-browser"
   ]
  },
  {
   "cell_type": "markdown",
   "metadata": {},
   "source": [
    "2. 安装 Python 库工具。"
   ]
  },
  {
   "cell_type": "code",
   "execution_count": 1,
   "metadata": {
    "ExecutionIndicator": {
     "show": false
    },
    "execution": {
     "iopub.execute_input": "2024-09-29T10:24:48.713758Z",
     "iopub.status.busy": "2024-09-29T10:24:48.713457Z",
     "iopub.status.idle": "2024-09-29T10:24:52.610896Z",
     "shell.execute_reply": "2024-09-29T10:24:52.610338Z",
     "shell.execute_reply.started": "2024-09-29T10:24:48.713741Z"
    },
    "tags": []
   },
   "outputs": [],
   "source": [
    "pip install openai python-dotenv requests dash"
   ]
  },
  {
   "cell_type": "markdown",
   "metadata": {},
   "source": [
    "3. 导入必要的模块。"
   ]
  },
  {
   "cell_type": "code",
   "execution_count": 26,
   "metadata": {
    "ExecutionIndicator": {
     "show": false
    },
    "execution": {
     "iopub.execute_input": "2024-09-29T10:24:52.612233Z",
     "iopub.status.busy": "2024-09-29T10:24:52.611961Z",
     "iopub.status.idle": "2024-09-29T10:24:52.614902Z",
     "shell.execute_reply": "2024-09-29T10:24:52.614498Z",
     "shell.execute_reply.started": "2024-09-29T10:24:52.612215Z"
    },
    "tags": []
   },
   "outputs": [],
   "source": [
    "import os\n",
    "import openai\n",
    "from dotenv import load_dotenv\n",
    "from typing import Union\n",
    "import subprocess\n",
    "import json\n",
    "from utils import read_text_from_file, save_file"
   ]
  },
  {
   "cell_type": "markdown",
   "metadata": {},
   "source": [
    "4. 创建 `.env `文件，并使用阿里云百炼的API-KEY设置环境变量 `DASHSCOPE_API_KEY`。"
   ]
  },
  {
   "cell_type": "markdown",
   "metadata": {},
   "source": [
    "5. 加载环境变量。"
   ]
  },
  {
   "cell_type": "code",
   "execution_count": 27,
   "metadata": {},
   "outputs": [
    {
     "name": "stderr",
     "output_type": "stream",
     "text": [
      "Python-dotenv could not parse statement starting at line 7\n",
      "Python-dotenv could not parse statement starting at line 8\n",
      "Python-dotenv could not parse statement starting at line 10\n",
      "Python-dotenv could not parse statement starting at line 11\n",
      "Python-dotenv could not parse statement starting at line 16\n"
     ]
    },
    {
     "data": {
      "text/plain": [
       "True"
      ]
     },
     "execution_count": 27,
     "metadata": {},
     "output_type": "execute_result"
    }
   ],
   "source": [
    "import os\n",
    "from dotenv import load_dotenv\n",
    "\n",
    "## for MacOS users\n",
    "filePath = os.path.abspath(os.path.expanduser(os.path.expandvars(\"~/.zshrc\")))\n",
    "load_dotenv(filePath)"
   ]
  },
  {
   "cell_type": "code",
   "execution_count": 28,
   "metadata": {
    "ExecutionIndicator": {
     "show": true
    },
    "execution": {
     "iopub.execute_input": "2024-09-29T10:24:52.615743Z",
     "iopub.status.busy": "2024-09-29T10:24:52.615531Z",
     "iopub.status.idle": "2024-09-29T10:24:52.619020Z",
     "shell.execute_reply": "2024-09-29T10:24:52.618639Z",
     "shell.execute_reply.started": "2024-09-29T10:24:52.615729Z"
    },
    "tags": []
   },
   "outputs": [],
   "source": [
    "import json\n",
    "\n",
    "def load_config(filepath=\"config.json\"):\n",
    "    \"\"\"Loads configuration data from a JSON file.\n",
    "\n",
    "    Args:\n",
    "        filepath: The path to the JSON configuration file. Defaults to \"config.json\".\n",
    "\n",
    "    Returns:\n",
    "        A dictionary containing the configuration data, or None if an error occurs.\n",
    "    \"\"\"\n",
    "    try:\n",
    "        with open(filepath, 'r') as f:\n",
    "            config_data = json.load(f)\n",
    "            return config_data\n",
    "    except FileNotFoundError:\n",
    "        print(f\"Error: Configuration file '{filepath}' not found.\")\n",
    "        return None\n",
    "    except json.JSONDecodeError:  # Catch JSON decoding errors\n",
    "        print(f\"Error: Invalid JSON format in '{filepath}'.\")\n",
    "        return None\n",
    "    except Exception as e: # Catch other potential errors\n",
    "        print(f\"An unexpected error occurred: {e}\")\n",
    "        return None\n",
    "    \n",
    "project_config = load_config(\"config.json\")\n",
    "title = project_config[\"title\"]"
   ]
  },
  {
   "cell_type": "markdown",
   "metadata": {
    "tags": []
   },
   "source": [
    "### 2.2. 设置 API 客户端\n",
    "设置 OpenAI 的 API 客户端，用于后续调用阿里云百炼的 Qwen-Max 模型和 Flux-Merged 模型。"
   ]
  },
  {
   "cell_type": "code",
   "execution_count": 29,
   "metadata": {
    "ExecutionIndicator": {
     "show": true
    },
    "execution": {
     "iopub.execute_input": "2024-09-29T10:24:53.489315Z",
     "iopub.status.busy": "2024-09-29T10:24:53.489002Z",
     "iopub.status.idle": "2024-09-29T10:24:53.538090Z",
     "shell.execute_reply": "2024-09-29T10:24:53.537633Z",
     "shell.execute_reply.started": "2024-09-29T10:24:53.489297Z"
    },
    "tags": []
   },
   "outputs": [],
   "source": [
    "client = openai.OpenAI(\n",
    "    api_key=os.getenv(\"DASHSCOPE_API_KEY\"),\n",
    "    base_url=\"https://dashscope.aliyuncs.com/compatible-mode/v1\",\n",
    ")"
   ]
  },
  {
   "cell_type": "markdown",
   "metadata": {
    "tags": []
   },
   "source": [
    "### 2.3. 从课程内容中提炼出 PPT 脚本\n",
    "\n",
    "首先，我们让文本生成模型 Qwen-Turbo 扮演一位 PPT 专家，从详细的课程内容中提炼出用于演示的内容要点。"
   ]
  },
  {
   "cell_type": "markdown",
   "metadata": {},
   "source": [
    "1. 定义一个 `create_ppt_script` 函数，用于使用 Qwen-Turbo 将课程内容从源语言直接翻译为目标语言。"
   ]
  },
  {
   "cell_type": "code",
   "execution_count": 30,
   "metadata": {
    "ExecutionIndicator": {
     "show": true
    },
    "execution": {
     "iopub.execute_input": "2024-09-29T10:24:54.551696Z",
     "iopub.status.busy": "2024-09-29T10:24:54.551410Z",
     "iopub.status.idle": "2024-09-29T10:24:54.556512Z",
     "shell.execute_reply": "2024-09-29T10:24:54.556091Z",
     "shell.execute_reply.started": "2024-09-29T10:24:54.551678Z"
    },
    "tags": []
   },
   "outputs": [],
   "source": [
    "def create_ppt_script(course_script):\n",
    "    system_message = \"你是一位专业的 PPT 专家，专注于根据课程脚本开发教学 PPT。\"\n",
    "    \n",
    "    prompt = (\n",
    "        f\"将以下课程脚本转换为 PPT 格式：\\n\\n\"\n",
    "        f\"{course_script}\\n\\n\"\n",
    "        \"请遵循以下指导原则：\\n\"\n",
    "        \"保持原有的章节结构，注意标题页和总结页，此外中间的页面不要额外生成内容。\"\n",
    "        \"仅生成PPT框架的内容。结尾不要写任何寄语，会被当作一个新的片段。在ppt里不要写任何备注。\"\n",
    "        \"1. **提炼关键信息**：避免冗长段落。\\n\"\n",
    "        \"2. **使用简短标题**：聚焦于要点。\\n\"\n",
    "        \"3. **内容简洁明了**：去除多余信息。\\n\"\n",
    "        \"4. **结合图片辅助**：在适当的位置插入图片。\\n\"\n",
    "        \"5. **不新增内容**：确保不添加任何额外信息。\\n\"\n",
    "\n",
    "        \"格式要求：\\n\"\n",
    "        \"1. 正文使用清晰的有序和无序列表：有序列表用于顺序内容，无序列表用于其它内容。\\n\"\n",
    "        \"2. 确保代码片段格式规范。\\n\"\n",
    "        \"3. 输出必须是 Markdown 格式。\\n\\n\"\n",
    "        \"\\n 不要输出 ### 三级标题\\n\"\n",
    "        \"\\n 遵照原文不要生成新的 ## 二级标题\\n\"\n",
    "        \"4. 允许使用 1 级和 2 级标题，禁止出现 3 级及以上标题。\\n\"\n",
    "        \"5. 输出中不得包含 ```markdown 和 ```。\\n\"\n",
    "        \"6. 图片不显示为列表。\\n\"\n",
    "\n",
    "        \"输出要求：\\n\"\n",
    "        \"输出应仅包含 Markdown 格式的 PPT 脚本，禁止任何解释性文字。\\n\"\n",
    "        \"示例输出格式：\\n\"\n",
    "        \"# 云计算深入探索\\n\"\n",
    "        \"![云计算深入探索](https://dashscope-result-bj.oss-cn-beijing.aliyuncs.com/1d/2c/20240923/f1ceb422/56a52df0-426f-4352-bbf6-40ffeb1cb04e-1.png?Expires=1727165843&OSSAccessKeyId=LTAI5tQZd8AEcZX6KZV4G8qL&Signature=YaCArgLeSs4y3SLcROEBfiUnACc%3D)\\n\"\n",
    "        \"## 什么是云计算？\\n\"\n",
    "        \"- 通过互联网提供服务\\n\"\n",
    "        \"- 按需获取\\n\"\n",
    "        \"- 按量付费\\n\"\n",
    "        \"![什么是云计算](https://dashscope-result-bj.oss-cn-beijing.aliyuncs.com/1d/aa/20240923/f1ceb422/8681083c-c304-45fd-af78-ecb68174561d-1.png?Expires=1727165862&OSSAccessKeyId=LTAI5tQZd8AEcZX6KZV4G8qL&Signature=I3MMGZA3mcQWZ24yz7qkdPl5G2Y%3D)\\n\"\n",
    "    )\n",
    "\n",
    "    # 直接调用 API 获取课程脚本\n",
    "    completion = client.chat.completions.create(\n",
    "        model=\"qwen-max\",\n",
    "        messages=[\n",
    "            {\"role\": \"system\", \"content\": system_message},\n",
    "            {\"role\": \"user\", \"content\": prompt},\n",
    "        ],\n",
    "    )\n",
    "    \n",
    "    # 如果 model_dump_json() 返回字符串需要解析为 JSON\n",
    "    dumped_json = json.loads(completion.model_dump_json())\n",
    "    \n",
    "    # 使用正确的属性访问生成的内容\n",
    "    return dumped_json['choices'][0]['message']['content']"
   ]
  },
  {
   "cell_type": "markdown",
   "metadata": {},
   "source": [
    "2. 调用 `create_ppt_script` 函数，从课程脚本中提炼出 PPT 脚本。"
   ]
  },
  {
   "cell_type": "code",
   "execution_count": 2,
   "metadata": {
    "ExecutionIndicator": {
     "show": true
    },
    "execution": {
     "iopub.execute_input": "2024-09-29T10:24:56.753385Z",
     "iopub.status.busy": "2024-09-29T10:24:56.753066Z"
    },
    "tags": []
   },
   "outputs": [],
   "source": [
    "# 从指定目录读取首个文件内容\n",
    "course_script_file = project_config[\"course_script_with_illustrations_file_path\"].format(title=project_config[\"title\"])\n",
    "\n",
    "# 读取课程脚本\n",
    "course_script = read_text_from_file(course_script_file)\n",
    "\n",
    "# 确保课程脚本不为空\n",
    "if not course_script:\n",
    "    raise ValueError(\"课程脚本为空，无法生成 PPT。\")\n",
    "\n",
    "# 调用函数生成 PPT 脚本\n",
    "ppt_script = create_ppt_script(course_script)\n",
    "print(ppt_script)\n",
    "\n",
    "# 构造文件名\n",
    "ppt_script_file_path = project_config[\"ppt_script_file_path\"].format(title=project_config[\"title\"])\n",
    "\n",
    "# 调用函数保存PPT\n",
    "save_file(ppt_script, ppt_script_file_path)\n"
   ]
  },
  {
   "cell_type": "markdown",
   "metadata": {
    "tags": []
   },
   "source": [
    "### 2.4. 将 PPT 脚本转换为 Marp 格式\n",
    "\n",
    "接下来，我们使用 Qwen-Max，将 Markdown 格式的 PPT 脚本转换为 Marp 格式。"
   ]
  },
  {
   "cell_type": "markdown",
   "metadata": {},
   "source": [
    "1. 定义一个 `convert_md_to_marp` 函数，用于转换 PPT 脚本为 Marp 格式。"
   ]
  },
  {
   "cell_type": "code",
   "execution_count": 32,
   "metadata": {
    "ExecutionIndicator": {
     "show": true
    },
    "tags": []
   },
   "outputs": [],
   "source": [
    "def convert_md_to_marp(ppt_script):\n",
    "    system_message = \"你是一位专业的 Marp 专家，专注于将内容从 Markdwon 转换为 Marp 格式。\"\n",
    "    \n",
    "    prompt = (\n",
    "        f\"请将以下内容转换为 Marp 格式：\\n\\n\"\n",
    "        f\"{ppt_script}\\n\\n\"\n",
    "        \"请遵循以下要求：\\n\"\n",
    "        \"1. **Marp 固定开头格式**：\\n\"\n",
    "        \"   ---\\n\"\n",
    "        \"   marp: true\\n\"\n",
    "        \"   theme: default\\n\"\n",
    "        \"   paginate: true\\n\"\n",
    "        \"   size: 16:9\\n\"\n",
    "        \"   ---\\n\"\n",
    "        \"2. **封面和封底图片**格式为：`![bg](url)`。\\n\"\n",
    "        \"3. **正文图片**格式为：`![bg left](url)` 或 `![bg right](url)`。\\n\"\n",
    "        \"4. **结尾**不得包含 `---`。\\n\"\n",
    "        \"5. **一级标题**和**二级标题**之间必须使用 `---` 分隔。\\n\"\n",
    "        \"6. 生成的内容开头和结尾不包含 ```。\\n\"\n",
    "        \"\\n输出要求：\\n\"\n",
    "        \"\\n不要输出 ### 三级标题\\n\"\n",
    "        \"\\n遵照原文不要生成新的 ## 二级标题\\n\"\n",
    "        \"输出应仅包含 Marp 格式的 PPT 脚本，不要添加其他内容。\\n\"\n",
    "        \"示例输出格式：\\n\"\n",
    "        \"---\\n\"\n",
    "        \"marp: true\\n\"\n",
    "        \"theme: default\\n\"\n",
    "        \"paginate: true\\n\"\n",
    "        \"size: 16:9\\n\"\n",
    "        \"---\\n\"\n",
    "        \"![bg](https://dashscope-result-bj.oss-cn-beijing.aliyuncs.com/1d/2c/20240923/f1ceb422/56a52df0-426f-4352-bbf6-40ffeb1cb04e-1.png?Expires=1727165843&OSSAccessKeyId=LTAI5tQZd8AEcZX6KZV4G8qL&Signature=YaCArgLeSs4y3SLcROEBfiUnACc%3D)\\n\"\n",
    "        \"# 云计算深入探索\\n\"\n",
    "        \"---\\n\"\n",
    "        \"![bg left](https://dashscope-result-bj.oss-cn-beijing.aliyuncs.com/1d/aa/20240923/f1ceb422/8681083c-c304-45fd-af78-ecb68174561d-1.png?Expires=1727165862&OSSAccessKeyId=LTAI5tQZd8AEcZX6KZV4G8qL&Signature=I3MMGZA3mcQWZ24yz7qkdPl5G2Y%3D)\\n\"\n",
    "        \"## 什么是云计算？\\n\"\n",
    "        \"- 通过互联网提供服务\\n\"\n",
    "        \"- 按需获取\\n\"\n",
    "        \"- 按量付费\\n\"\n",
    "    )\n",
    "    # 直接调用 API 获取课程脚本\n",
    "    completion = client.chat.completions.create(\n",
    "        model=\"qwen-max\",\n",
    "        messages=[\n",
    "            {\"role\": \"system\", \"content\": system_message},\n",
    "            {\"role\": \"user\", \"content\": prompt},\n",
    "        ],\n",
    "    )\n",
    "    \n",
    "    # 如果 model_dump_json() 返回字符串需要解析为 JSON\n",
    "    dumped_json = json.loads(completion.model_dump_json())\n",
    "    \n",
    "    # 使用正确的属性访问生成的内容\n",
    "    text = dumped_json['choices'][0]['message']['content']\n",
    "    text = text.replace(\"```\\n\",\"\").replace(\"\\n```\",\"\")\n",
    "    return text"
   ]
  },
  {
   "cell_type": "markdown",
   "metadata": {},
   "source": [
    "2. 调用 `convert_md_to_marp` 函数转换 PPT 脚本为 Marp 格式。"
   ]
  },
  {
   "cell_type": "code",
   "execution_count": 3,
   "metadata": {
    "ExecutionIndicator": {
     "show": false
    },
    "tags": []
   },
   "outputs": [],
   "source": [
    "ppt_script_file_path = project_config[\"ppt_script_file_path\"].format(title=project_config[\"title\"])\n",
    "ppt_script = read_text_from_file(ppt_script_file_path)\n",
    "\n",
    "# 确保 PPT 脚本不为空\n",
    "if not ppt_script:\n",
    "    raise ValueError(\"PPT 脚本为空，无法进行转换。\")\n",
    "\n",
    "# 调用函数生成 Marp 格式的脚本\n",
    "marp_script = convert_md_to_marp(ppt_script)\n",
    "print(marp_script)\n",
    "\n",
    "# 构造文件名\n",
    "marp_script_file_path = project_config[\"marp_script_file_path\"].format(title=project_config[\"title\"])\n",
    "\n",
    "# 保存marp文件\n",
    "save_file(marp_script, marp_script_file_path)\n"
   ]
  },
  {
   "cell_type": "markdown",
   "metadata": {
    "tags": []
   },
   "source": [
    "### 2.5. 导出为 PPT"
   ]
  },
  {
   "cell_type": "markdown",
   "metadata": {},
   "source": [
    "最后，我们可以使用 Marp 将生成的 Marp 格式 PPT 导出为 PPTX，用于授课时演示"
   ]
  },
  {
   "cell_type": "markdown",
   "metadata": {},
   "source": [
    "1. 定义一个 `export_marp_ppt` 函数，用于导出 PPT。\n",
    "\n",
    "函数我们保存在convert_md_pdf.py中，可以从命令行调用。"
   ]
  },
  {
   "cell_type": "markdown",
   "metadata": {},
   "source": [
    "2. 调用 `export_marp_ppt` 函数导出 PPT。"
   ]
  },
  {
   "cell_type": "code",
   "execution_count": 34,
   "metadata": {},
   "outputs": [],
   "source": [
    "# ! brew install poppler\n",
    "# ! pip install -r requirements.txt"
   ]
  },
  {
   "cell_type": "code",
   "execution_count": 4,
   "metadata": {},
   "outputs": [],
   "source": [
    "marp_script = read_text_from_file(marp_script_file_path)\n",
    "\n",
    "# 确保 Marp 脚本不为空\n",
    "if not marp_script:\n",
    "    raise ValueError(\"Marp 脚本为空，无法生成 PPT。\")\n",
    "\n",
    "\n",
    "marp_export_folder = project_config[\"marp_export_folder\"]\n",
    "\n",
    "!python convert_md_pdf.py {marp_script_file_path}  {marp_export_folder}"
   ]
  },
  {
   "cell_type": "markdown",
   "metadata": {
    "tags": []
   },
   "source": [
    "## ✅ 本节小结\n",
    "\n",
    "- 在本次学习和实践中，我们使用了 Qwen-Max 进行了内容提炼和格式转换，并且使用了 Marp 将 Markdown 文件导出为 PPT。\n",
    "- 完成授课后，不少同学希望能有课程录音，便于之后随时随地复习巩固。接下来，我们将学习如何使用大模型将课程内容转换为音频。"
   ]
  },
  {
   "cell_type": "markdown",
   "metadata": {},
   "source": [
    "## 🔥 课后小测验\n",
    "\n",
    "【单选题】3.3.1. 你想使用 Qwen-Max 将一段冗长的课程文本提炼成简洁的 PPT 脚本要点。以下哪种 Prompt 更有效？（ ）\n",
    "\n",
    "A. \"请阅读以下文本：[文本内容] \"\n",
    "\n",
    "B. \"请将以下文本总结成 PPT 脚本要点，每页 PPT 对应一个要点：[文本内容]\"\n",
    "\n",
    "C. \"请生成一张 PPT\"\n",
    "\n",
    "D. \"使用 Marp 生成 PPT\"\n",
    "\n",
    "答案：B 选项 B 清晰地指示了 Qwen-Max 的任务和期望的输出格式，比其他选项更有效。选项 A 只是让模型阅读文本，没有明确的任务。选项 C 和 D 与提炼文本无关。"
   ]
  },
  {
   "cell_type": "markdown",
   "metadata": {},
   "source": []
  }
 ],
 "metadata": {
  "kernelspec": {
   "display_name": "learnacp",
   "language": "python",
   "name": "python3"
  },
  "language_info": {
   "codemirror_mode": {
    "name": "ipython",
    "version": 3
   },
   "file_extension": ".py",
   "mimetype": "text/x-python",
   "name": "python",
   "nbconvert_exporter": "python",
   "pygments_lexer": "ipython3",
   "version": "3.9.12"
  }
 },
 "nbformat": 4,
 "nbformat_minor": 4
}
