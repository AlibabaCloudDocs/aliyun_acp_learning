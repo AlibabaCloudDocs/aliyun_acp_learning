{
  "cells": [
    {
      "cell_type": "markdown",
      "metadata": {},
      "source": [
        "# 2.0 Project Background\n",
        "\n",
        "In this chapter, you will begin the first project of this course.\n",
        "You work for an educational content development company. With the continuous influx of new employees, repeated inquiries have led to significant time and resource expenditures.\n",
        "\n",
        "<img src=\"https://gw.alicdn.com/imgextra/i2/O1CN01TACOmD1IPpuPqCNnT_!!6000000000886-0-tps-1024-1024.jpg\" alt=\"A pile of documents\" width=\"400px\">\n",
        "\n",
        "To address this issue, the company has compiled a comprehensive document library covering company policies, writing standards, and guides for daily tools, and more. New employees can now independently consult these materials to find the information they need.\n",
        "\n",
        "<img src=\"https://gw.alicdn.com/imgextra/i4/O1CN011CuUk11OEk0XDFFAZ_!!6000000001674-0-tps-1024-1024.jpg\" alt=\"A pile of documents\" width=\"400px\">\n",
        "\n",
        "However, after some time, the company found that the new employees' work often violated company policies and was prone to frequent errors. Analysis revealed that the document library contained too much information, making it difficult for new hires to read and digest effectively.\n",
        "\n",
        "<img src=\"https://gw.alicdn.com/imgextra/i2/O1CN010a2mVD1G61Xjj7SEi_!!6000000000572-0-tps-1024-1024.jpg\" alt=\"A pile of documents\" width=\"400px\">\n",
        "\n",
        "To further address this issue, the company developed a Q&A system preloaded with frequently asked questions from employees, enabling employees to get answers on their own.\n",
        "\n",
        "<img src=\"https://gw.alicdn.com/imgextra/i4/O1CN01d4Cheb28hZGNpjpOZ_!!6000000007964-0-tps-1024-801.jpg\" alt=\"A pile of documents\" width=\"400px\">\n",
        "\n",
        "After the Q&A system had run for some time, the company observed that neither employee inquiries nor work errors had decreased significantly. Leadership realized the system had major limitations: it relied on fixed rules and similarity matching, so it often failed to answer questions when employees used different phrasing. Moreover, manually maintaining Q&A pairs required substantial effort, yielding a low return on investment.\n",
        "\n",
        "<img src=\"https://img.alicdn.com/imgextra/i4/O1CN01DJRqdn1XkeEAKIarZ_!!6000000002962-2-tps-1114-524.png\" alt=\"A pile of documents\" width=\"400px\">\n",
        "\n",
        "In response, company leadership assigned you to lead this initiative with the goal of fully resolving the issue. After conducting research, you plan to leverage the latest large language model (LLM) technology to build an intelligent Q&A application. Unlike the previous system, this LLM-powered application doesn’t require predefined Q&A pairs. It can understand natural language and accurately answer questions using the company’s knowledge base—effectively reducing employee inquiries and boosting work efficiency.\n",
        "\n",
        "<img src=\"https://gw.alicdn.com/imgextra/i1/O1CN01UZmxgz1uY2OowazMq_!!6000000006048-0-tps-1024-1024.jpg\" alt=\"A pile of documents\" width=\"400px\">\n",
        "\n",
        "Next, you’ll begin turning this vision into reality.\n"
      ]
    }
  ],
  "metadata": {
    "kernelspec": {
      "display_name": "learnacp",
      "language": "python",
      "name": "python3"
    },
    "language_info": {
      "codemirror_mode": {
        "name": "ipython",
        "version": 3
      },
      "file_extension": ".py",
      "mimetype": "text/x-python",
      "name": "python",
      "nbconvert_exporter": "python",
      "pygments_lexer": "ipython3",
      "version": "3.9.12"
    }
  },
  "nbformat": 4,
  "nbformat_minor": 2
}
